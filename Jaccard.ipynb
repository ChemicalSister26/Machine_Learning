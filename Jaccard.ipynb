{
 "cells": [
  {
   "cell_type": "code",
   "execution_count": 1,
   "id": "2f29141f",
   "metadata": {},
   "outputs": [],
   "source": [
    "import pandas as pd"
   ]
  },
  {
   "attachments": {},
   "cell_type": "markdown",
   "id": "f7c70546",
   "metadata": {},
   "source": [
    "# Метрика Жаккара  - это отношение пересечения множеств А и Б к их обьединению, то есть отношение количества общих для этих множеств элементов к общему количеству элементов в певром и втором множестве, то есть к их сумме."
   ]
  },
  {
   "cell_type": "code",
   "execution_count": 2,
   "id": "8cef08e1",
   "metadata": {},
   "outputs": [],
   "source": [
    "price = pd.read_csv('ids_and_prices.csv')"
   ]
  },
  {
   "cell_type": "code",
   "execution_count": 3,
   "id": "581e7a88",
   "metadata": {},
   "outputs": [
    {
     "data": {
      "text/html": [
       "<div>\n",
       "<style scoped>\n",
       "    .dataframe tbody tr th:only-of-type {\n",
       "        vertical-align: middle;\n",
       "    }\n",
       "\n",
       "    .dataframe tbody tr th {\n",
       "        vertical-align: top;\n",
       "    }\n",
       "\n",
       "    .dataframe thead th {\n",
       "        text-align: right;\n",
       "    }\n",
       "</style>\n",
       "<table border=\"1\" class=\"dataframe\">\n",
       "  <thead>\n",
       "    <tr style=\"text-align: right;\">\n",
       "      <th></th>\n",
       "      <th>id</th>\n",
       "      <th>price</th>\n",
       "    </tr>\n",
       "  </thead>\n",
       "  <tbody>\n",
       "    <tr>\n",
       "      <th>0</th>\n",
       "      <td>b000jz4hqo</td>\n",
       "      <td>0.00</td>\n",
       "    </tr>\n",
       "    <tr>\n",
       "      <th>1</th>\n",
       "      <td>b0006zf55o</td>\n",
       "      <td>0.00</td>\n",
       "    </tr>\n",
       "    <tr>\n",
       "      <th>2</th>\n",
       "      <td>b00004tkvy</td>\n",
       "      <td>0.00</td>\n",
       "    </tr>\n",
       "    <tr>\n",
       "      <th>3</th>\n",
       "      <td>b000g80lqo</td>\n",
       "      <td>599.99</td>\n",
       "    </tr>\n",
       "    <tr>\n",
       "      <th>4</th>\n",
       "      <td>b0006se5bq</td>\n",
       "      <td>99.99</td>\n",
       "    </tr>\n",
       "  </tbody>\n",
       "</table>\n",
       "</div>"
      ],
      "text/plain": [
       "           id   price\n",
       "0  b000jz4hqo    0.00\n",
       "1  b0006zf55o    0.00\n",
       "2  b00004tkvy    0.00\n",
       "3  b000g80lqo  599.99\n",
       "4  b0006se5bq   99.99"
      ]
     },
     "execution_count": 3,
     "metadata": {},
     "output_type": "execute_result"
    }
   ],
   "source": [
    "price.head()"
   ]
  },
  {
   "cell_type": "code",
   "execution_count": 4,
   "id": "d579ca9f",
   "metadata": {},
   "outputs": [
    {
     "data": {
      "text/html": [
       "<div>\n",
       "<style scoped>\n",
       "    .dataframe tbody tr th:only-of-type {\n",
       "        vertical-align: middle;\n",
       "    }\n",
       "\n",
       "    .dataframe tbody tr th {\n",
       "        vertical-align: top;\n",
       "    }\n",
       "\n",
       "    .dataframe thead th {\n",
       "        text-align: right;\n",
       "    }\n",
       "</style>\n",
       "<table border=\"1\" class=\"dataframe\">\n",
       "  <thead>\n",
       "    <tr style=\"text-align: right;\">\n",
       "      <th></th>\n",
       "      <th>id</th>\n",
       "      <th>name</th>\n",
       "      <th>description</th>\n",
       "      <th>manufacturer</th>\n",
       "    </tr>\n",
       "  </thead>\n",
       "  <tbody>\n",
       "    <tr>\n",
       "      <th>0</th>\n",
       "      <td>b000jz4hqo</td>\n",
       "      <td>clickart 950000 - premier image pack (dvd-rom)</td>\n",
       "      <td>massive collection of images &amp; fonts for all y...</td>\n",
       "      <td>NaN</td>\n",
       "    </tr>\n",
       "    <tr>\n",
       "      <th>1</th>\n",
       "      <td>b00004tkvy</td>\n",
       "      <td>the beginners bible: noah's ark activity cente...</td>\n",
       "      <td>NaN</td>\n",
       "      <td>NaN</td>\n",
       "    </tr>\n",
       "    <tr>\n",
       "      <th>2</th>\n",
       "      <td>b000g80lqo</td>\n",
       "      <td>sage (ptree) - vernfp2007rt - premium accounti...</td>\n",
       "      <td>if you're like most nonprofit organizations yo...</td>\n",
       "      <td>NaN</td>\n",
       "    </tr>\n",
       "    <tr>\n",
       "      <th>3</th>\n",
       "      <td>b0006se5bq</td>\n",
       "      <td>singing coach unlimited - electronic learning ...</td>\n",
       "      <td>learn to sing with the help of a patented real...</td>\n",
       "      <td>NaN</td>\n",
       "    </tr>\n",
       "    <tr>\n",
       "      <th>4</th>\n",
       "      <td>b00021xhzw</td>\n",
       "      <td>adobe software 22070152 after effects 6.5 pbupgrd</td>\n",
       "      <td>adobe after effects pb 6.5 win upgrade.standar...</td>\n",
       "      <td>NaN</td>\n",
       "    </tr>\n",
       "  </tbody>\n",
       "</table>\n",
       "</div>"
      ],
      "text/plain": [
       "           id                                               name  \\\n",
       "0  b000jz4hqo     clickart 950000 - premier image pack (dvd-rom)   \n",
       "1  b00004tkvy  the beginners bible: noah's ark activity cente...   \n",
       "2  b000g80lqo  sage (ptree) - vernfp2007rt - premium accounti...   \n",
       "3  b0006se5bq  singing coach unlimited - electronic learning ...   \n",
       "4  b00021xhzw  adobe software 22070152 after effects 6.5 pbupgrd   \n",
       "\n",
       "                                         description manufacturer  \n",
       "0  massive collection of images & fonts for all y...          NaN  \n",
       "1                                                NaN          NaN  \n",
       "2  if you're like most nonprofit organizations yo...          NaN  \n",
       "3  learn to sing with the help of a patented real...          NaN  \n",
       "4  adobe after effects pb 6.5 win upgrade.standar...          NaN  "
      ]
     },
     "execution_count": 4,
     "metadata": {},
     "output_type": "execute_result"
    }
   ],
   "source": [
    "detail = pd.read_csv('ids_and_details.csv')\n",
    "detail.head()"
   ]
  },
  {
   "cell_type": "markdown",
   "id": "6fce7685",
   "metadata": {},
   "source": [
    "# We have this two tables with data about different goods, and we have to set categories for this goods (to cluster them), but there is just text with decription. So, we may count a part of matching words in the decription. If in two descriptions there are a lot of matching words - we can tell that those goods are from the same category. "
   ]
  },
  {
   "cell_type": "code",
   "execution_count": 5,
   "id": "a6080bca",
   "metadata": {},
   "outputs": [
    {
     "data": {
      "text/plain": [
       "b00006jo4g    5\n",
       "b00006sijr    4\n",
       "b00004ochi    4\n",
       "b000090179    4\n",
       "b00006sijq    4\n",
       "             ..\n",
       "b000o27ti0    1\n",
       "b000hcz9ac    1\n",
       "b0009i5px0    1\n",
       "b0000als2s    1\n",
       "b000j588g4    1\n",
       "Name: id, Length: 1113, dtype: int64"
      ]
     },
     "execution_count": 5,
     "metadata": {},
     "output_type": "execute_result"
    }
   ],
   "source": [
    "detail.id.value_counts()"
   ]
  },
  {
   "cell_type": "markdown",
   "id": "bcd0d253",
   "metadata": {},
   "source": [
    "### If we need to merge two tables it will be better to drop duplicates, beacuse during joining the number of rows may increase dramatically."
   ]
  },
  {
   "cell_type": "code",
   "execution_count": 6,
   "id": "71d66dca",
   "metadata": {},
   "outputs": [],
   "source": [
    "detail.drop_duplicates(subset = 'id', inplace=True)\n"
   ]
  },
  {
   "cell_type": "code",
   "execution_count": 7,
   "id": "2e28316d",
   "metadata": {},
   "outputs": [
    {
     "data": {
      "text/plain": [
       "b000jz4hqo    1\n",
       "b0001d56uu    1\n",
       "b0002fgfiy    1\n",
       "b000jx1on0    1\n",
       "b000nknb26    1\n",
       "             ..\n",
       "b000ndibe6    1\n",
       "b000dn7k8y    1\n",
       "b000cs3s2m    1\n",
       "b00005wf9v    1\n",
       "b000j588g4    1\n",
       "Name: id, Length: 1113, dtype: int64"
      ]
     },
     "execution_count": 7,
     "metadata": {},
     "output_type": "execute_result"
    }
   ],
   "source": [
    "detail.id.value_counts()"
   ]
  },
  {
   "cell_type": "code",
   "execution_count": 8,
   "id": "c3340901",
   "metadata": {},
   "outputs": [],
   "source": [
    "detail.description.fillna(' ', inplace=True)"
   ]
  },
  {
   "cell_type": "code",
   "execution_count": 9,
   "id": "efc1e0d3",
   "metadata": {},
   "outputs": [
    {
     "data": {
      "text/html": [
       "<div>\n",
       "<style scoped>\n",
       "    .dataframe tbody tr th:only-of-type {\n",
       "        vertical-align: middle;\n",
       "    }\n",
       "\n",
       "    .dataframe tbody tr th {\n",
       "        vertical-align: top;\n",
       "    }\n",
       "\n",
       "    .dataframe thead th {\n",
       "        text-align: right;\n",
       "    }\n",
       "</style>\n",
       "<table border=\"1\" class=\"dataframe\">\n",
       "  <thead>\n",
       "    <tr style=\"text-align: right;\">\n",
       "      <th></th>\n",
       "      <th>id</th>\n",
       "      <th>name</th>\n",
       "      <th>description</th>\n",
       "      <th>manufacturer</th>\n",
       "    </tr>\n",
       "  </thead>\n",
       "  <tbody>\n",
       "    <tr>\n",
       "      <th>0</th>\n",
       "      <td>b000jz4hqo</td>\n",
       "      <td>clickart 950000 - premier image pack (dvd-rom)</td>\n",
       "      <td>massive collection of images &amp; fonts for all y...</td>\n",
       "      <td>NaN</td>\n",
       "    </tr>\n",
       "    <tr>\n",
       "      <th>1</th>\n",
       "      <td>b00004tkvy</td>\n",
       "      <td>the beginners bible: noah's ark activity cente...</td>\n",
       "      <td></td>\n",
       "      <td>NaN</td>\n",
       "    </tr>\n",
       "    <tr>\n",
       "      <th>2</th>\n",
       "      <td>b000g80lqo</td>\n",
       "      <td>sage (ptree) - vernfp2007rt - premium accounti...</td>\n",
       "      <td>if you're like most nonprofit organizations yo...</td>\n",
       "      <td>NaN</td>\n",
       "    </tr>\n",
       "    <tr>\n",
       "      <th>3</th>\n",
       "      <td>b0006se5bq</td>\n",
       "      <td>singing coach unlimited - electronic learning ...</td>\n",
       "      <td>learn to sing with the help of a patented real...</td>\n",
       "      <td>NaN</td>\n",
       "    </tr>\n",
       "    <tr>\n",
       "      <th>4</th>\n",
       "      <td>b00021xhzw</td>\n",
       "      <td>adobe software 22070152 after effects 6.5 pbupgrd</td>\n",
       "      <td>adobe after effects pb 6.5 win upgrade.standar...</td>\n",
       "      <td>NaN</td>\n",
       "    </tr>\n",
       "  </tbody>\n",
       "</table>\n",
       "</div>"
      ],
      "text/plain": [
       "           id                                               name  \\\n",
       "0  b000jz4hqo     clickart 950000 - premier image pack (dvd-rom)   \n",
       "1  b00004tkvy  the beginners bible: noah's ark activity cente...   \n",
       "2  b000g80lqo  sage (ptree) - vernfp2007rt - premium accounti...   \n",
       "3  b0006se5bq  singing coach unlimited - electronic learning ...   \n",
       "4  b00021xhzw  adobe software 22070152 after effects 6.5 pbupgrd   \n",
       "\n",
       "                                         description manufacturer  \n",
       "0  massive collection of images & fonts for all y...          NaN  \n",
       "1                                                             NaN  \n",
       "2  if you're like most nonprofit organizations yo...          NaN  \n",
       "3  learn to sing with the help of a patented real...          NaN  \n",
       "4  adobe after effects pb 6.5 win upgrade.standar...          NaN  "
      ]
     },
     "execution_count": 9,
     "metadata": {},
     "output_type": "execute_result"
    }
   ],
   "source": [
    "detail.head()"
   ]
  },
  {
   "cell_type": "code",
   "execution_count": 10,
   "id": "c30d08c2",
   "metadata": {},
   "outputs": [
    {
     "data": {
      "text/html": [
       "<div>\n",
       "<style scoped>\n",
       "    .dataframe tbody tr th:only-of-type {\n",
       "        vertical-align: middle;\n",
       "    }\n",
       "\n",
       "    .dataframe tbody tr th {\n",
       "        vertical-align: top;\n",
       "    }\n",
       "\n",
       "    .dataframe thead th {\n",
       "        text-align: right;\n",
       "    }\n",
       "</style>\n",
       "<table border=\"1\" class=\"dataframe\">\n",
       "  <thead>\n",
       "    <tr style=\"text-align: right;\">\n",
       "      <th></th>\n",
       "      <th>id</th>\n",
       "      <th>name</th>\n",
       "      <th>description</th>\n",
       "      <th>manufacturer</th>\n",
       "      <th>price</th>\n",
       "    </tr>\n",
       "  </thead>\n",
       "  <tbody>\n",
       "    <tr>\n",
       "      <th>0</th>\n",
       "      <td>b000jz4hqo</td>\n",
       "      <td>clickart 950000 - premier image pack (dvd-rom)</td>\n",
       "      <td>massive collection of images &amp; fonts for all y...</td>\n",
       "      <td>NaN</td>\n",
       "      <td>0.00</td>\n",
       "    </tr>\n",
       "    <tr>\n",
       "      <th>1</th>\n",
       "      <td>b00004tkvy</td>\n",
       "      <td>the beginners bible: noah's ark activity cente...</td>\n",
       "      <td></td>\n",
       "      <td>NaN</td>\n",
       "      <td>0.00</td>\n",
       "    </tr>\n",
       "    <tr>\n",
       "      <th>2</th>\n",
       "      <td>b000g80lqo</td>\n",
       "      <td>sage (ptree) - vernfp2007rt - premium accounti...</td>\n",
       "      <td>if you're like most nonprofit organizations yo...</td>\n",
       "      <td>NaN</td>\n",
       "      <td>599.99</td>\n",
       "    </tr>\n",
       "    <tr>\n",
       "      <th>3</th>\n",
       "      <td>b0006se5bq</td>\n",
       "      <td>singing coach unlimited - electronic learning ...</td>\n",
       "      <td>learn to sing with the help of a patented real...</td>\n",
       "      <td>NaN</td>\n",
       "      <td>99.99</td>\n",
       "    </tr>\n",
       "    <tr>\n",
       "      <th>4</th>\n",
       "      <td>b00021xhzw</td>\n",
       "      <td>adobe software 22070152 after effects 6.5 pbupgrd</td>\n",
       "      <td>adobe after effects pb 6.5 win upgrade.standar...</td>\n",
       "      <td>NaN</td>\n",
       "      <td>499.99</td>\n",
       "    </tr>\n",
       "  </tbody>\n",
       "</table>\n",
       "</div>"
      ],
      "text/plain": [
       "           id                                               name  \\\n",
       "0  b000jz4hqo     clickart 950000 - premier image pack (dvd-rom)   \n",
       "1  b00004tkvy  the beginners bible: noah's ark activity cente...   \n",
       "2  b000g80lqo  sage (ptree) - vernfp2007rt - premium accounti...   \n",
       "3  b0006se5bq  singing coach unlimited - electronic learning ...   \n",
       "4  b00021xhzw  adobe software 22070152 after effects 6.5 pbupgrd   \n",
       "\n",
       "                                         description manufacturer   price  \n",
       "0  massive collection of images & fonts for all y...          NaN    0.00  \n",
       "1                                                             NaN    0.00  \n",
       "2  if you're like most nonprofit organizations yo...          NaN  599.99  \n",
       "3  learn to sing with the help of a patented real...          NaN   99.99  \n",
       "4  adobe after effects pb 6.5 win upgrade.standar...          NaN  499.99  "
      ]
     },
     "execution_count": 10,
     "metadata": {},
     "output_type": "execute_result"
    }
   ],
   "source": [
    "both = detail.merge(price, on='id', how='inner')\n",
    "both.head()"
   ]
  },
  {
   "cell_type": "code",
   "execution_count": 11,
   "id": "ebb5e8f9",
   "metadata": {},
   "outputs": [
    {
     "data": {
      "text/plain": [
       "(1113, 4)"
      ]
     },
     "execution_count": 11,
     "metadata": {},
     "output_type": "execute_result"
    }
   ],
   "source": [
    "detail.shape"
   ]
  },
  {
   "cell_type": "code",
   "execution_count": 12,
   "id": "965ceb5a",
   "metadata": {},
   "outputs": [
    {
     "data": {
      "text/plain": [
       "(1113, 5)"
      ]
     },
     "execution_count": 12,
     "metadata": {},
     "output_type": "execute_result"
    }
   ],
   "source": [
    "both.shape"
   ]
  },
  {
   "cell_type": "code",
   "execution_count": 13,
   "id": "5e6e7806",
   "metadata": {},
   "outputs": [
    {
     "data": {
      "text/plain": [
       "(1363, 2)"
      ]
     },
     "execution_count": 13,
     "metadata": {},
     "output_type": "execute_result"
    }
   ],
   "source": [
    "price.shape"
   ]
  },
  {
   "cell_type": "markdown",
   "id": "bcfb815e",
   "metadata": {},
   "source": [
    "# Searching for closest descriptions"
   ]
  },
  {
   "cell_type": "markdown",
   "id": "d4c8ac62",
   "metadata": {},
   "source": [
    "For example, we add brand new good in our table. How can we decide that this is a unique good? Not similar with others?\n",
    "We can, for example, count in it's description - words that maybe match with words from description of some goods in our table.\n",
    "So, if Jaccard will strive to 1,  it will mean, that descriptions are close, and if Jaccard strive to 0 - right the opposite."
   ]
  },
  {
   "cell_type": "code",
   "execution_count": 36,
   "id": "a427c400",
   "metadata": {},
   "outputs": [
    {
     "data": {
      "text/plain": [
       "id                                                     b00006jo4g\n",
       "name            punch software 38100 - punch! super home suite...\n",
       "description     punch software 38100 : the premium home design...\n",
       "manufacturer                                                  NaN\n",
       "price                                                       49.99\n",
       "Name: 1030, dtype: object"
      ]
     },
     "execution_count": 36,
     "metadata": {},
     "output_type": "execute_result"
    }
   ],
   "source": [
    "both.loc[1030]"
   ]
  },
  {
   "cell_type": "code",
   "execution_count": 37,
   "id": "2c874c73",
   "metadata": {},
   "outputs": [
    {
     "data": {
      "text/plain": [
       "'punch software 38100 : the premium home design software solution that lets you view your ideas in ways no other software can. 7 powerful programs in one plus ultimate deck that launch from the same easy-to-use interface including our patented ...'"
      ]
     },
     "execution_count": 37,
     "metadata": {},
     "output_type": "execute_result"
    }
   ],
   "source": [
    "new_text = both.loc[1030].description\n",
    "new_text"
   ]
  },
  {
   "cell_type": "code",
   "execution_count": 45,
   "id": "359417fc",
   "metadata": {},
   "outputs": [
    {
     "data": {
      "text/plain": [
       "{'...',\n",
       " '38100',\n",
       " '7',\n",
       " ':',\n",
       " 'can.',\n",
       " 'deck',\n",
       " 'design',\n",
       " 'easy-to-use',\n",
       " 'from',\n",
       " 'home',\n",
       " 'ideas',\n",
       " 'in',\n",
       " 'including',\n",
       " 'interface',\n",
       " 'launch',\n",
       " 'lets',\n",
       " 'no',\n",
       " 'one',\n",
       " 'other',\n",
       " 'our',\n",
       " 'patented',\n",
       " 'plus',\n",
       " 'powerful',\n",
       " 'premium',\n",
       " 'programs',\n",
       " 'punch',\n",
       " 'same',\n",
       " 'software',\n",
       " 'solution',\n",
       " 'that',\n",
       " 'the',\n",
       " 'ultimate',\n",
       " 'view',\n",
       " 'ways',\n",
       " 'you',\n",
       " 'your'}"
      ]
     },
     "execution_count": 45,
     "metadata": {},
     "output_type": "execute_result"
    }
   ],
   "source": [
    "new_text_set = set(new_text.split())\n",
    "new_text_set"
   ]
  },
  {
   "cell_type": "code",
   "execution_count": 47,
   "id": "3d341b24",
   "metadata": {},
   "outputs": [
    {
     "data": {
      "text/plain": [
       "['can.',\n",
       " 'our',\n",
       " 'plus',\n",
       " 'other',\n",
       " 'patented',\n",
       " 'the',\n",
       " 'easy-to-use',\n",
       " 'programs',\n",
       " ':',\n",
       " 'ultimate',\n",
       " 'no',\n",
       " 'in',\n",
       " 'including',\n",
       " 'ways',\n",
       " 'interface',\n",
       " 'one',\n",
       " '38100',\n",
       " 'lets',\n",
       " 'home',\n",
       " 'launch',\n",
       " 'solution',\n",
       " '...',\n",
       " 'punch',\n",
       " 'design',\n",
       " 'from',\n",
       " 'ideas',\n",
       " 'your',\n",
       " 'you',\n",
       " 'powerful',\n",
       " '7',\n",
       " 'same',\n",
       " 'view',\n",
       " 'software',\n",
       " 'deck',\n",
       " 'premium',\n",
       " 'that']"
      ]
     },
     "execution_count": 47,
     "metadata": {},
     "output_type": "execute_result"
    }
   ],
   "source": [
    "list_new_text = list(new_text_set)\n",
    "list_new_text"
   ]
  },
  {
   "cell_type": "code",
   "execution_count": 49,
   "id": "b88d456d",
   "metadata": {},
   "outputs": [
    {
     "data": {
      "text/plain": [
       "36"
      ]
     },
     "execution_count": 49,
     "metadata": {},
     "output_type": "execute_result"
    }
   ],
   "source": [
    "len(list_new_text)"
   ]
  },
  {
   "cell_type": "code",
   "execution_count": 53,
   "id": "58a3ce89",
   "metadata": {},
   "outputs": [
    {
     "ename": "AttributeError",
     "evalue": "'Series' object has no attribute 'split'",
     "output_type": "error",
     "traceback": [
      "\u001b[0;31m---------------------------------------------------------------------------\u001b[0m",
      "\u001b[0;31mAttributeError\u001b[0m                            Traceback (most recent call last)",
      "Input \u001b[0;32mIn [53]\u001b[0m, in \u001b[0;36m<cell line: 1>\u001b[0;34m()\u001b[0m\n\u001b[0;32m----> 1\u001b[0m \u001b[43mboth\u001b[49m\u001b[43m[\u001b[49m\u001b[38;5;124;43m'\u001b[39;49m\u001b[38;5;124;43mdescription\u001b[39;49m\u001b[38;5;124;43m'\u001b[39;49m\u001b[43m]\u001b[49m\u001b[38;5;241;43m.\u001b[39;49m\u001b[43msplit\u001b[49m()\n",
      "File \u001b[0;32m~/.local/lib/python3.8/site-packages/pandas/core/generic.py:5575\u001b[0m, in \u001b[0;36mNDFrame.__getattr__\u001b[0;34m(self, name)\u001b[0m\n\u001b[1;32m   5568\u001b[0m \u001b[38;5;28;01mif\u001b[39;00m (\n\u001b[1;32m   5569\u001b[0m     name \u001b[38;5;129;01mnot\u001b[39;00m \u001b[38;5;129;01min\u001b[39;00m \u001b[38;5;28mself\u001b[39m\u001b[38;5;241m.\u001b[39m_internal_names_set\n\u001b[1;32m   5570\u001b[0m     \u001b[38;5;129;01mand\u001b[39;00m name \u001b[38;5;129;01mnot\u001b[39;00m \u001b[38;5;129;01min\u001b[39;00m \u001b[38;5;28mself\u001b[39m\u001b[38;5;241m.\u001b[39m_metadata\n\u001b[1;32m   5571\u001b[0m     \u001b[38;5;129;01mand\u001b[39;00m name \u001b[38;5;129;01mnot\u001b[39;00m \u001b[38;5;129;01min\u001b[39;00m \u001b[38;5;28mself\u001b[39m\u001b[38;5;241m.\u001b[39m_accessors\n\u001b[1;32m   5572\u001b[0m     \u001b[38;5;129;01mand\u001b[39;00m \u001b[38;5;28mself\u001b[39m\u001b[38;5;241m.\u001b[39m_info_axis\u001b[38;5;241m.\u001b[39m_can_hold_identifiers_and_holds_name(name)\n\u001b[1;32m   5573\u001b[0m ):\n\u001b[1;32m   5574\u001b[0m     \u001b[38;5;28;01mreturn\u001b[39;00m \u001b[38;5;28mself\u001b[39m[name]\n\u001b[0;32m-> 5575\u001b[0m \u001b[38;5;28;01mreturn\u001b[39;00m \u001b[38;5;28;43mobject\u001b[39;49m\u001b[38;5;241;43m.\u001b[39;49m\u001b[38;5;21;43m__getattribute__\u001b[39;49m\u001b[43m(\u001b[49m\u001b[38;5;28;43mself\u001b[39;49m\u001b[43m,\u001b[49m\u001b[43m \u001b[49m\u001b[43mname\u001b[49m\u001b[43m)\u001b[49m\n",
      "\u001b[0;31mAttributeError\u001b[0m: 'Series' object has no attribute 'split'"
     ]
    }
   ],
   "source": []
  },
  {
   "cell_type": "markdown",
   "id": "67e26333",
   "metadata": {},
   "source": [
    "## For each row in our dataframe Both we will count new column Similarity. We will account each description with help of APPLY feature:\n",
    "1 we will get set of unique words in description = set(description.split())\n",
    "2 then we will get list of words, that are common for new_good and those one in the description = list(set(description.split()) & new_text.split())\n",
    "3 we will count lenght of the intesection that we got len(list(set(description.split()) & new_text.split()))\n",
    "4 then we count the number of words in the intesection to number of words in new_text\n"
   ]
  },
  {
   "cell_type": "code",
   "execution_count": 57,
   "id": "f664f39e",
   "metadata": {},
   "outputs": [],
   "source": [
    "def CountIntersection(row, new_text):\n",
    "    current_set_for_each_description = set(row['description'].split())\n",
    "    current_intersection = current_set_for_each_description & new_text\n",
    "    return len(current_intersection)/len(new_text)"
   ]
  },
  {
   "cell_type": "code",
   "execution_count": 59,
   "id": "bc5d4c16",
   "metadata": {},
   "outputs": [],
   "source": [
    "both['Similarity'] = both.apply(CountIntersection,  axis=1, args=(new_text_set,))"
   ]
  },
  {
   "cell_type": "code",
   "execution_count": 60,
   "id": "fc6071a4",
   "metadata": {},
   "outputs": [
    {
     "data": {
      "text/html": [
       "<div>\n",
       "<style scoped>\n",
       "    .dataframe tbody tr th:only-of-type {\n",
       "        vertical-align: middle;\n",
       "    }\n",
       "\n",
       "    .dataframe tbody tr th {\n",
       "        vertical-align: top;\n",
       "    }\n",
       "\n",
       "    .dataframe thead th {\n",
       "        text-align: right;\n",
       "    }\n",
       "</style>\n",
       "<table border=\"1\" class=\"dataframe\">\n",
       "  <thead>\n",
       "    <tr style=\"text-align: right;\">\n",
       "      <th></th>\n",
       "      <th>id</th>\n",
       "      <th>name</th>\n",
       "      <th>description</th>\n",
       "      <th>manufacturer</th>\n",
       "      <th>price</th>\n",
       "      <th>Similarity</th>\n",
       "    </tr>\n",
       "  </thead>\n",
       "  <tbody>\n",
       "    <tr>\n",
       "      <th>0</th>\n",
       "      <td>b000jz4hqo</td>\n",
       "      <td>clickart 950000 - premier image pack (dvd-rom)</td>\n",
       "      <td>massive collection of images &amp; fonts for all y...</td>\n",
       "      <td>NaN</td>\n",
       "      <td>0.00</td>\n",
       "      <td>0.138889</td>\n",
       "    </tr>\n",
       "    <tr>\n",
       "      <th>1</th>\n",
       "      <td>b00004tkvy</td>\n",
       "      <td>the beginners bible: noah's ark activity cente...</td>\n",
       "      <td></td>\n",
       "      <td>NaN</td>\n",
       "      <td>0.00</td>\n",
       "      <td>0.000000</td>\n",
       "    </tr>\n",
       "    <tr>\n",
       "      <th>2</th>\n",
       "      <td>b000g80lqo</td>\n",
       "      <td>sage (ptree) - vernfp2007rt - premium accounti...</td>\n",
       "      <td>if you're like most nonprofit organizations yo...</td>\n",
       "      <td>NaN</td>\n",
       "      <td>599.99</td>\n",
       "      <td>0.138889</td>\n",
       "    </tr>\n",
       "    <tr>\n",
       "      <th>3</th>\n",
       "      <td>b0006se5bq</td>\n",
       "      <td>singing coach unlimited - electronic learning ...</td>\n",
       "      <td>learn to sing with the help of a patented real...</td>\n",
       "      <td>NaN</td>\n",
       "      <td>99.99</td>\n",
       "      <td>0.111111</td>\n",
       "    </tr>\n",
       "    <tr>\n",
       "      <th>4</th>\n",
       "      <td>b00021xhzw</td>\n",
       "      <td>adobe software 22070152 after effects 6.5 pbupgrd</td>\n",
       "      <td>adobe after effects pb 6.5 win upgrade.standar...</td>\n",
       "      <td>NaN</td>\n",
       "      <td>499.99</td>\n",
       "      <td>0.083333</td>\n",
       "    </tr>\n",
       "  </tbody>\n",
       "</table>\n",
       "</div>"
      ],
      "text/plain": [
       "           id                                               name  \\\n",
       "0  b000jz4hqo     clickart 950000 - premier image pack (dvd-rom)   \n",
       "1  b00004tkvy  the beginners bible: noah's ark activity cente...   \n",
       "2  b000g80lqo  sage (ptree) - vernfp2007rt - premium accounti...   \n",
       "3  b0006se5bq  singing coach unlimited - electronic learning ...   \n",
       "4  b00021xhzw  adobe software 22070152 after effects 6.5 pbupgrd   \n",
       "\n",
       "                                         description manufacturer   price  \\\n",
       "0  massive collection of images & fonts for all y...          NaN    0.00   \n",
       "1                                                             NaN    0.00   \n",
       "2  if you're like most nonprofit organizations yo...          NaN  599.99   \n",
       "3  learn to sing with the help of a patented real...          NaN   99.99   \n",
       "4  adobe after effects pb 6.5 win upgrade.standar...          NaN  499.99   \n",
       "\n",
       "   Similarity  \n",
       "0    0.138889  \n",
       "1    0.000000  \n",
       "2    0.138889  \n",
       "3    0.111111  \n",
       "4    0.083333  "
      ]
     },
     "execution_count": 60,
     "metadata": {},
     "output_type": "execute_result"
    }
   ],
   "source": [
    "both.head()"
   ]
  },
  {
   "cell_type": "markdown",
   "id": "4de3c313",
   "metadata": {},
   "source": [
    "## Let's find out closest description"
   ]
  },
  {
   "cell_type": "code",
   "execution_count": 67,
   "id": "6e6d00e2",
   "metadata": {},
   "outputs": [
    {
     "data": {
      "text/html": [
       "<div>\n",
       "<style scoped>\n",
       "    .dataframe tbody tr th:only-of-type {\n",
       "        vertical-align: middle;\n",
       "    }\n",
       "\n",
       "    .dataframe tbody tr th {\n",
       "        vertical-align: top;\n",
       "    }\n",
       "\n",
       "    .dataframe thead th {\n",
       "        text-align: right;\n",
       "    }\n",
       "</style>\n",
       "<table border=\"1\" class=\"dataframe\">\n",
       "  <thead>\n",
       "    <tr style=\"text-align: right;\">\n",
       "      <th></th>\n",
       "      <th>id</th>\n",
       "      <th>name</th>\n",
       "      <th>description</th>\n",
       "      <th>manufacturer</th>\n",
       "      <th>price</th>\n",
       "      <th>Similarity</th>\n",
       "    </tr>\n",
       "  </thead>\n",
       "  <tbody>\n",
       "    <tr>\n",
       "      <th>1030</th>\n",
       "      <td>b00006jo4g</td>\n",
       "      <td>punch software 38100 - punch! super home suite...</td>\n",
       "      <td>punch software 38100 : the premium home design...</td>\n",
       "      <td>NaN</td>\n",
       "      <td>49.99</td>\n",
       "      <td>1.000000</td>\n",
       "    </tr>\n",
       "    <tr>\n",
       "      <th>1042</th>\n",
       "      <td>b000063v0z</td>\n",
       "      <td>punch software 24100 - punch! 5 in 1 home desi...</td>\n",
       "      <td>punch software 24100 : power tools for serious...</td>\n",
       "      <td>NaN</td>\n",
       "      <td>39.99</td>\n",
       "      <td>0.638889</td>\n",
       "    </tr>\n",
       "    <tr>\n",
       "      <th>1019</th>\n",
       "      <td>b000067fk7</td>\n",
       "      <td>punch software 35100 - punch! home design suit...</td>\n",
       "      <td>punch software 35100 : punch! professional hom...</td>\n",
       "      <td>NaN</td>\n",
       "      <td>69.99</td>\n",
       "      <td>0.472222</td>\n",
       "    </tr>\n",
       "    <tr>\n",
       "      <th>947</th>\n",
       "      <td>b00004ochi</td>\n",
       "      <td>punch software 14100 punch! professional home ...</td>\n",
       "      <td>12 powerful programs in one gives you total co...</td>\n",
       "      <td>punch software</td>\n",
       "      <td>89.99</td>\n",
       "      <td>0.388889</td>\n",
       "    </tr>\n",
       "    <tr>\n",
       "      <th>768</th>\n",
       "      <td>b000fowht8</td>\n",
       "      <td>encore software 10485 - encore printmaster v.1...</td>\n",
       "      <td>encore software 10485 : if you've got a passio...</td>\n",
       "      <td>NaN</td>\n",
       "      <td>39.99</td>\n",
       "      <td>0.277778</td>\n",
       "    </tr>\n",
       "    <tr>\n",
       "      <th>805</th>\n",
       "      <td>b000fp0k0u</td>\n",
       "      <td>encore software 10478 - encore printmaster v.1...</td>\n",
       "      <td>encore software 10478 : if you've got a passio...</td>\n",
       "      <td>NaN</td>\n",
       "      <td>30.66</td>\n",
       "      <td>0.277778</td>\n",
       "    </tr>\n",
       "    <tr>\n",
       "      <th>720</th>\n",
       "      <td>b000i4rmfe</td>\n",
       "      <td>ahead software 70115 - nero 7 ultra edition en...</td>\n",
       "      <td>ahead software 70115 : nero 7 ultra edition en...</td>\n",
       "      <td>NaN</td>\n",
       "      <td>99.99</td>\n",
       "      <td>0.277778</td>\n",
       "    </tr>\n",
       "    <tr>\n",
       "      <th>1045</th>\n",
       "      <td>b000e65hki</td>\n",
       "      <td>punch software 84100 - punch! home design arch...</td>\n",
       "      <td>punch software 84100 : punch! home design arch...</td>\n",
       "      <td>NaN</td>\n",
       "      <td>199.99</td>\n",
       "      <td>0.277778</td>\n",
       "    </tr>\n",
       "    <tr>\n",
       "      <th>639</th>\n",
       "      <td>b00004ochj</td>\n",
       "      <td>punch software 13100 - punch! ultimate deck &amp; ...</td>\n",
       "      <td>punch software 13100 : punch! ultimate deck &amp; ...</td>\n",
       "      <td>NaN</td>\n",
       "      <td>29.00</td>\n",
       "      <td>0.277778</td>\n",
       "    </tr>\n",
       "    <tr>\n",
       "      <th>1039</th>\n",
       "      <td>b00007g3ai</td>\n",
       "      <td>punch software 25100 punch! master landscape a...</td>\n",
       "      <td>punch! master landscape &amp; home design offers a...</td>\n",
       "      <td>punch software</td>\n",
       "      <td>99.99</td>\n",
       "      <td>0.250000</td>\n",
       "    </tr>\n",
       "    <tr>\n",
       "      <th>917</th>\n",
       "      <td>b000h294mq</td>\n",
       "      <td>nero nero 7 ultra edition enhanced cd/dvd burn...</td>\n",
       "      <td>nero 7 ultra edition enhanced cd/dvd burning s...</td>\n",
       "      <td>NaN</td>\n",
       "      <td>99.99</td>\n",
       "      <td>0.250000</td>\n",
       "    </tr>\n",
       "    <tr>\n",
       "      <th>952</th>\n",
       "      <td>b000bp8alk</td>\n",
       "      <td>punch software 83100 - punch! home design arch...</td>\n",
       "      <td>punch software 83100 : punch! home design arch...</td>\n",
       "      <td>NaN</td>\n",
       "      <td>149.95</td>\n",
       "      <td>0.250000</td>\n",
       "    </tr>\n",
       "    <tr>\n",
       "      <th>583</th>\n",
       "      <td>b0007sxgmo</td>\n",
       "      <td>encore software 33027 - hoyle texas holdem (wi...</td>\n",
       "      <td>encore software 33027 : hoyle texas hold em le...</td>\n",
       "      <td>NaN</td>\n",
       "      <td>9.99</td>\n",
       "      <td>0.250000</td>\n",
       "    </tr>\n",
       "    <tr>\n",
       "      <th>363</th>\n",
       "      <td>b000k2nkua</td>\n",
       "      <td>h&amp;r block taxcut premium federal and state wit...</td>\n",
       "      <td>taxcut premium federal and state with e-file s...</td>\n",
       "      <td>NaN</td>\n",
       "      <td>59.99</td>\n",
       "      <td>0.222222</td>\n",
       "    </tr>\n",
       "    <tr>\n",
       "      <th>354</th>\n",
       "      <td>b000k2t0ou</td>\n",
       "      <td>h&amp;r block taxcut home and business with state ...</td>\n",
       "      <td>taxcut home and business with state and e-file...</td>\n",
       "      <td>NaN</td>\n",
       "      <td>79.99</td>\n",
       "      <td>0.222222</td>\n",
       "    </tr>\n",
       "    <tr>\n",
       "      <th>242</th>\n",
       "      <td>b000oziaz8</td>\n",
       "      <td>webroot software inc 28310 - child safe 3-pc -...</td>\n",
       "      <td>webroot software inc 28310 : keep your childre...</td>\n",
       "      <td>NaN</td>\n",
       "      <td>39.95</td>\n",
       "      <td>0.222222</td>\n",
       "    </tr>\n",
       "    <tr>\n",
       "      <th>561</th>\n",
       "      <td>b000fovsei</td>\n",
       "      <td>encore software 10655 - hoyle bridge - win 98 ...</td>\n",
       "      <td>encore software 10655 : select a deck and star...</td>\n",
       "      <td>NaN</td>\n",
       "      <td>9.99</td>\n",
       "      <td>0.222222</td>\n",
       "    </tr>\n",
       "    <tr>\n",
       "      <th>652</th>\n",
       "      <td>b000hed3fi</td>\n",
       "      <td>encore software 10741 - the print shop 22 delu...</td>\n",
       "      <td>encore software 10741 : new! the print shop 22...</td>\n",
       "      <td>NaN</td>\n",
       "      <td>49.95</td>\n",
       "      <td>0.222222</td>\n",
       "    </tr>\n",
       "    <tr>\n",
       "      <th>623</th>\n",
       "      <td>b000fvqo0o</td>\n",
       "      <td>punch software 86100 - prof home design platin...</td>\n",
       "      <td>punch software 86100 : punch! professional hom...</td>\n",
       "      <td>NaN</td>\n",
       "      <td>99.00</td>\n",
       "      <td>0.222222</td>\n",
       "    </tr>\n",
       "    <tr>\n",
       "      <th>33</th>\n",
       "      <td>b000h22rbg</td>\n",
       "      <td>the printshop v22 deluxe</td>\n",
       "      <td>overview create professional projects with all...</td>\n",
       "      <td>NaN</td>\n",
       "      <td>49.99</td>\n",
       "      <td>0.222222</td>\n",
       "    </tr>\n",
       "  </tbody>\n",
       "</table>\n",
       "</div>"
      ],
      "text/plain": [
       "              id                                               name  \\\n",
       "1030  b00006jo4g  punch software 38100 - punch! super home suite...   \n",
       "1042  b000063v0z  punch software 24100 - punch! 5 in 1 home desi...   \n",
       "1019  b000067fk7  punch software 35100 - punch! home design suit...   \n",
       "947   b00004ochi  punch software 14100 punch! professional home ...   \n",
       "768   b000fowht8  encore software 10485 - encore printmaster v.1...   \n",
       "805   b000fp0k0u  encore software 10478 - encore printmaster v.1...   \n",
       "720   b000i4rmfe  ahead software 70115 - nero 7 ultra edition en...   \n",
       "1045  b000e65hki  punch software 84100 - punch! home design arch...   \n",
       "639   b00004ochj  punch software 13100 - punch! ultimate deck & ...   \n",
       "1039  b00007g3ai  punch software 25100 punch! master landscape a...   \n",
       "917   b000h294mq  nero nero 7 ultra edition enhanced cd/dvd burn...   \n",
       "952   b000bp8alk  punch software 83100 - punch! home design arch...   \n",
       "583   b0007sxgmo  encore software 33027 - hoyle texas holdem (wi...   \n",
       "363   b000k2nkua  h&r block taxcut premium federal and state wit...   \n",
       "354   b000k2t0ou  h&r block taxcut home and business with state ...   \n",
       "242   b000oziaz8  webroot software inc 28310 - child safe 3-pc -...   \n",
       "561   b000fovsei  encore software 10655 - hoyle bridge - win 98 ...   \n",
       "652   b000hed3fi  encore software 10741 - the print shop 22 delu...   \n",
       "623   b000fvqo0o  punch software 86100 - prof home design platin...   \n",
       "33    b000h22rbg                           the printshop v22 deluxe   \n",
       "\n",
       "                                            description    manufacturer  \\\n",
       "1030  punch software 38100 : the premium home design...             NaN   \n",
       "1042  punch software 24100 : power tools for serious...             NaN   \n",
       "1019  punch software 35100 : punch! professional hom...             NaN   \n",
       "947   12 powerful programs in one gives you total co...  punch software   \n",
       "768   encore software 10485 : if you've got a passio...             NaN   \n",
       "805   encore software 10478 : if you've got a passio...             NaN   \n",
       "720   ahead software 70115 : nero 7 ultra edition en...             NaN   \n",
       "1045  punch software 84100 : punch! home design arch...             NaN   \n",
       "639   punch software 13100 : punch! ultimate deck & ...             NaN   \n",
       "1039  punch! master landscape & home design offers a...  punch software   \n",
       "917   nero 7 ultra edition enhanced cd/dvd burning s...             NaN   \n",
       "952   punch software 83100 : punch! home design arch...             NaN   \n",
       "583   encore software 33027 : hoyle texas hold em le...             NaN   \n",
       "363   taxcut premium federal and state with e-file s...             NaN   \n",
       "354   taxcut home and business with state and e-file...             NaN   \n",
       "242   webroot software inc 28310 : keep your childre...             NaN   \n",
       "561   encore software 10655 : select a deck and star...             NaN   \n",
       "652   encore software 10741 : new! the print shop 22...             NaN   \n",
       "623   punch software 86100 : punch! professional hom...             NaN   \n",
       "33    overview create professional projects with all...             NaN   \n",
       "\n",
       "       price  Similarity  \n",
       "1030   49.99    1.000000  \n",
       "1042   39.99    0.638889  \n",
       "1019   69.99    0.472222  \n",
       "947    89.99    0.388889  \n",
       "768    39.99    0.277778  \n",
       "805    30.66    0.277778  \n",
       "720    99.99    0.277778  \n",
       "1045  199.99    0.277778  \n",
       "639    29.00    0.277778  \n",
       "1039   99.99    0.250000  \n",
       "917    99.99    0.250000  \n",
       "952   149.95    0.250000  \n",
       "583     9.99    0.250000  \n",
       "363    59.99    0.222222  \n",
       "354    79.99    0.222222  \n",
       "242    39.95    0.222222  \n",
       "561     9.99    0.222222  \n",
       "652    49.95    0.222222  \n",
       "623    99.00    0.222222  \n",
       "33     49.99    0.222222  "
      ]
     },
     "execution_count": 67,
     "metadata": {},
     "output_type": "execute_result"
    }
   ],
   "source": [
    "\n",
    "both.sort_values('Similarity', ascending=False).head(20)\n"
   ]
  },
  {
   "cell_type": "markdown",
   "id": "3b55c5bb",
   "metadata": {},
   "source": [
    "So we can tell that we may put in one cluster first six rows, and get mean of price for them.\n"
   ]
  },
  {
   "cell_type": "code",
   "execution_count": 75,
   "id": "6ad8f5d4",
   "metadata": {},
   "outputs": [
    {
     "data": {
      "text/plain": [
       "54.124"
      ]
     },
     "execution_count": 75,
     "metadata": {},
     "output_type": "execute_result"
    }
   ],
   "source": [
    "price_for_a_new_one = both.sort_values('Similarity', ascending=False)\n",
    "price_for_a_new_one.iloc[1:6].price.mean()"
   ]
  },
  {
   "cell_type": "code",
   "execution_count": null,
   "id": "fc05fab1",
   "metadata": {},
   "outputs": [],
   "source": []
  },
  {
   "cell_type": "code",
   "execution_count": null,
   "id": "ba8023eb",
   "metadata": {},
   "outputs": [],
   "source": []
  }
 ],
 "metadata": {
  "kernelspec": {
   "display_name": "Python 3 (ipykernel)",
   "language": "python",
   "name": "python3"
  },
  "language_info": {
   "codemirror_mode": {
    "name": "ipython",
    "version": 3
   },
   "file_extension": ".py",
   "mimetype": "text/x-python",
   "name": "python",
   "nbconvert_exporter": "python",
   "pygments_lexer": "ipython3",
   "version": "3.8.10"
  }
 },
 "nbformat": 4,
 "nbformat_minor": 5
}
