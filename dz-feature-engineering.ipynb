{
 "cells": [
  {
   "cell_type": "code",
   "execution_count": 1,
   "id": "4f58293e",
   "metadata": {
    "_cell_guid": "b1076dfc-b9ad-4769-8c92-a6c4dae69d19",
    "_uuid": "8f2839f25d086af736a60e9eeb907d3b93b6e0e5",
    "execution": {
     "iopub.execute_input": "2022-11-18T14:33:42.259452Z",
     "iopub.status.busy": "2022-11-18T14:33:42.258945Z",
     "iopub.status.idle": "2022-11-18T14:33:43.778362Z",
     "shell.execute_reply": "2022-11-18T14:33:43.776997Z"
    },
    "papermill": {
     "duration": 1.536044,
     "end_time": "2022-11-18T14:33:43.781574",
     "exception": false,
     "start_time": "2022-11-18T14:33:42.245530",
     "status": "completed"
    },
    "tags": []
   },
   "outputs": [],
   "source": [
    "\n",
    "import numpy as np # linear algebra\n",
    "import pandas as pd # data processing, CSV file I/O (e.g. pd.read_csv)\n",
    "import matplotlib\n",
    "import matplotlib.pyplot as plt\n",
    "from mpl_toolkits.mplot3d import axes3d\n",
    "import seaborn as sns\n",
    "%matplotlib inline\n",
    "\n",
    "from sklearn.linear_model import SGDClassifier, Lasso, LogisticRegression\n",
    "from sklearn.metrics import f1_score\n",
    "from sklearn.model_selection import cross_val_score, StratifiedShuffleSplit\n",
    "from sklearn.pipeline import Pipeline\n",
    "from sklearn.preprocessing import StandardScaler\n",
    "from sklearn.svm import LinearSVC, SVC\n",
    "\n",
    "plt.rcParams['axes.labelsize'] = 14\n",
    "plt.rcParams['xtick.labelsize'] = 12\n",
    "plt.rcParams['ytick.labelsize'] = 12\n",
    "plt.rcParams['figure.figsize'] = (10, 5)\n"
   ]
  },
  {
   "cell_type": "markdown",
   "id": "9a2b4800",
   "metadata": {
    "papermill": {
     "duration": 0.012264,
     "end_time": "2022-11-18T14:33:43.805047",
     "exception": false,
     "start_time": "2022-11-18T14:33:43.792783",
     "status": "completed"
    },
    "tags": []
   },
   "source": [
    "Обязательные\n",
    "\n",
    "1. Провести первичный анализ данных\n",
    "\n",
    "2. На большом количестве фичей применить Lasso регрессию и посмотреть, какие переменные получают 0 в качестве коэффициентов.\n",
    "\n",
    "3. Применить PCA и посмотреть, какие фичи получаются и что они могут объяснять (для этого посмотреть на коэффициенты в sklearn.decomposition.pca.components_ после построения главных компонент).\n",
    "\n",
    "4. С отобранными фичами и полученными компонентами обучить модель (тип алгоритма на свой вкус, можно начать с линейной) и померить качество на локальном тестовом наборе данных (локальная валидация). Сравнить качество модели до добавления компонент/после добавления/только на главных компонентах. \n",
    "\n",
    "Метрика оценки качества — ROC AUC.\n",
    "Обязательное\n",
    "\n",
    "1. На том же наборе данных, что и в предыдущем задании, провести feature engineering:\n",
    "\n",
    "создать Weights of Evidence (WOE) фичи на тех переменных, где категорий большое количество\n",
    "cделать one hot encoding там, где необходимо\n",
    "по желанию посчитать каунты (counts)\n",
    "2. Обучить linear SVM и SVM с нелинейным ядром — сравнить время обучения и результат метрики оценки качества (ROC AUC) двух алгоритмов между собой и сравнить с линейной моделью (лог.рег).\n",
    "\n",
    "\n",
    " "
   ]
  },
  {
   "cell_type": "code",
   "execution_count": 2,
   "id": "4ed7b4ce",
   "metadata": {
    "execution": {
     "iopub.execute_input": "2022-11-18T14:33:43.828258Z",
     "iopub.status.busy": "2022-11-18T14:33:43.827482Z",
     "iopub.status.idle": "2022-11-18T14:33:44.001095Z",
     "shell.execute_reply": "2022-11-18T14:33:44.000221Z"
    },
    "papermill": {
     "duration": 0.188261,
     "end_time": "2022-11-18T14:33:44.003763",
     "exception": false,
     "start_time": "2022-11-18T14:33:43.815502",
     "status": "completed"
    },
    "tags": []
   },
   "outputs": [],
   "source": [
    "init_df = pd.read_csv('../input/bankfullcsv/bank-full.csv')"
   ]
  },
  {
   "cell_type": "code",
   "execution_count": 3,
   "id": "bcc6e9ec",
   "metadata": {
    "execution": {
     "iopub.execute_input": "2022-11-18T14:33:44.028034Z",
     "iopub.status.busy": "2022-11-18T14:33:44.027213Z",
     "iopub.status.idle": "2022-11-18T14:33:44.055681Z",
     "shell.execute_reply": "2022-11-18T14:33:44.054491Z"
    },
    "papermill": {
     "duration": 0.044161,
     "end_time": "2022-11-18T14:33:44.058643",
     "exception": false,
     "start_time": "2022-11-18T14:33:44.014482",
     "status": "completed"
    },
    "tags": []
   },
   "outputs": [
    {
     "data": {
      "text/html": [
       "<div>\n",
       "<style scoped>\n",
       "    .dataframe tbody tr th:only-of-type {\n",
       "        vertical-align: middle;\n",
       "    }\n",
       "\n",
       "    .dataframe tbody tr th {\n",
       "        vertical-align: top;\n",
       "    }\n",
       "\n",
       "    .dataframe thead th {\n",
       "        text-align: right;\n",
       "    }\n",
       "</style>\n",
       "<table border=\"1\" class=\"dataframe\">\n",
       "  <thead>\n",
       "    <tr style=\"text-align: right;\">\n",
       "      <th></th>\n",
       "      <th>age</th>\n",
       "      <th>job</th>\n",
       "      <th>marital</th>\n",
       "      <th>education</th>\n",
       "      <th>default</th>\n",
       "      <th>balance</th>\n",
       "      <th>housing</th>\n",
       "      <th>loan</th>\n",
       "      <th>contact</th>\n",
       "      <th>day</th>\n",
       "      <th>month</th>\n",
       "      <th>duration</th>\n",
       "      <th>campaign</th>\n",
       "      <th>pdays</th>\n",
       "      <th>previous</th>\n",
       "      <th>poutcome</th>\n",
       "      <th>Target</th>\n",
       "    </tr>\n",
       "  </thead>\n",
       "  <tbody>\n",
       "    <tr>\n",
       "      <th>0</th>\n",
       "      <td>58</td>\n",
       "      <td>management</td>\n",
       "      <td>married</td>\n",
       "      <td>tertiary</td>\n",
       "      <td>no</td>\n",
       "      <td>2143</td>\n",
       "      <td>yes</td>\n",
       "      <td>no</td>\n",
       "      <td>unknown</td>\n",
       "      <td>5</td>\n",
       "      <td>may</td>\n",
       "      <td>261</td>\n",
       "      <td>1</td>\n",
       "      <td>-1</td>\n",
       "      <td>0</td>\n",
       "      <td>unknown</td>\n",
       "      <td>no</td>\n",
       "    </tr>\n",
       "    <tr>\n",
       "      <th>1</th>\n",
       "      <td>44</td>\n",
       "      <td>technician</td>\n",
       "      <td>single</td>\n",
       "      <td>secondary</td>\n",
       "      <td>no</td>\n",
       "      <td>29</td>\n",
       "      <td>yes</td>\n",
       "      <td>no</td>\n",
       "      <td>unknown</td>\n",
       "      <td>5</td>\n",
       "      <td>may</td>\n",
       "      <td>151</td>\n",
       "      <td>1</td>\n",
       "      <td>-1</td>\n",
       "      <td>0</td>\n",
       "      <td>unknown</td>\n",
       "      <td>no</td>\n",
       "    </tr>\n",
       "    <tr>\n",
       "      <th>2</th>\n",
       "      <td>33</td>\n",
       "      <td>entrepreneur</td>\n",
       "      <td>married</td>\n",
       "      <td>secondary</td>\n",
       "      <td>no</td>\n",
       "      <td>2</td>\n",
       "      <td>yes</td>\n",
       "      <td>yes</td>\n",
       "      <td>unknown</td>\n",
       "      <td>5</td>\n",
       "      <td>may</td>\n",
       "      <td>76</td>\n",
       "      <td>1</td>\n",
       "      <td>-1</td>\n",
       "      <td>0</td>\n",
       "      <td>unknown</td>\n",
       "      <td>no</td>\n",
       "    </tr>\n",
       "    <tr>\n",
       "      <th>3</th>\n",
       "      <td>47</td>\n",
       "      <td>blue-collar</td>\n",
       "      <td>married</td>\n",
       "      <td>unknown</td>\n",
       "      <td>no</td>\n",
       "      <td>1506</td>\n",
       "      <td>yes</td>\n",
       "      <td>no</td>\n",
       "      <td>unknown</td>\n",
       "      <td>5</td>\n",
       "      <td>may</td>\n",
       "      <td>92</td>\n",
       "      <td>1</td>\n",
       "      <td>-1</td>\n",
       "      <td>0</td>\n",
       "      <td>unknown</td>\n",
       "      <td>no</td>\n",
       "    </tr>\n",
       "    <tr>\n",
       "      <th>4</th>\n",
       "      <td>33</td>\n",
       "      <td>unknown</td>\n",
       "      <td>single</td>\n",
       "      <td>unknown</td>\n",
       "      <td>no</td>\n",
       "      <td>1</td>\n",
       "      <td>no</td>\n",
       "      <td>no</td>\n",
       "      <td>unknown</td>\n",
       "      <td>5</td>\n",
       "      <td>may</td>\n",
       "      <td>198</td>\n",
       "      <td>1</td>\n",
       "      <td>-1</td>\n",
       "      <td>0</td>\n",
       "      <td>unknown</td>\n",
       "      <td>no</td>\n",
       "    </tr>\n",
       "  </tbody>\n",
       "</table>\n",
       "</div>"
      ],
      "text/plain": [
       "   age           job  marital  education default  balance housing loan  \\\n",
       "0   58    management  married   tertiary      no     2143     yes   no   \n",
       "1   44    technician   single  secondary      no       29     yes   no   \n",
       "2   33  entrepreneur  married  secondary      no        2     yes  yes   \n",
       "3   47   blue-collar  married    unknown      no     1506     yes   no   \n",
       "4   33       unknown   single    unknown      no        1      no   no   \n",
       "\n",
       "   contact  day month  duration  campaign  pdays  previous poutcome Target  \n",
       "0  unknown    5   may       261         1     -1         0  unknown     no  \n",
       "1  unknown    5   may       151         1     -1         0  unknown     no  \n",
       "2  unknown    5   may        76         1     -1         0  unknown     no  \n",
       "3  unknown    5   may        92         1     -1         0  unknown     no  \n",
       "4  unknown    5   may       198         1     -1         0  unknown     no  "
      ]
     },
     "execution_count": 3,
     "metadata": {},
     "output_type": "execute_result"
    }
   ],
   "source": [
    "init_df.head()"
   ]
  },
  {
   "cell_type": "code",
   "execution_count": 4,
   "id": "642ded8f",
   "metadata": {
    "execution": {
     "iopub.execute_input": "2022-11-18T14:33:44.082159Z",
     "iopub.status.busy": "2022-11-18T14:33:44.081788Z",
     "iopub.status.idle": "2022-11-18T14:33:44.135510Z",
     "shell.execute_reply": "2022-11-18T14:33:44.134207Z"
    },
    "papermill": {
     "duration": 0.069347,
     "end_time": "2022-11-18T14:33:44.139006",
     "exception": false,
     "start_time": "2022-11-18T14:33:44.069659",
     "status": "completed"
    },
    "tags": []
   },
   "outputs": [
    {
     "name": "stdout",
     "output_type": "stream",
     "text": [
      "<class 'pandas.core.frame.DataFrame'>\n",
      "RangeIndex: 45211 entries, 0 to 45210\n",
      "Data columns (total 16 columns):\n",
      " #   Column     Non-Null Count  Dtype \n",
      "---  ------     --------------  ----- \n",
      " 0   age        45211 non-null  int64 \n",
      " 1   job        45211 non-null  object\n",
      " 2   marital    45211 non-null  object\n",
      " 3   education  45211 non-null  object\n",
      " 4   default    45211 non-null  object\n",
      " 5   balance    45211 non-null  int64 \n",
      " 6   housing    45211 non-null  object\n",
      " 7   loan       45211 non-null  object\n",
      " 8   contact    45211 non-null  object\n",
      " 9   day        45211 non-null  int64 \n",
      " 10  month      45211 non-null  object\n",
      " 11  campaign   45211 non-null  int64 \n",
      " 12  pdays      45211 non-null  int64 \n",
      " 13  previous   45211 non-null  int64 \n",
      " 14  poutcome   45211 non-null  object\n",
      " 15  Target     45211 non-null  object\n",
      "dtypes: int64(6), object(10)\n",
      "memory usage: 5.5+ MB\n"
     ]
    }
   ],
   "source": [
    "init_df.drop(['duration'], axis=1, inplace=True)\n",
    "init_df.info()"
   ]
  },
  {
   "cell_type": "code",
   "execution_count": 5,
   "id": "b04a8baf",
   "metadata": {
    "execution": {
     "iopub.execute_input": "2022-11-18T14:33:44.163529Z",
     "iopub.status.busy": "2022-11-18T14:33:44.163109Z",
     "iopub.status.idle": "2022-11-18T14:33:44.743695Z",
     "shell.execute_reply": "2022-11-18T14:33:44.742571Z"
    },
    "papermill": {
     "duration": 0.595423,
     "end_time": "2022-11-18T14:33:44.746195",
     "exception": false,
     "start_time": "2022-11-18T14:33:44.150772",
     "status": "completed"
    },
    "tags": []
   },
   "outputs": [
    {
     "data": {
      "text/html": [
       "<div>\n",
       "<style scoped>\n",
       "    .dataframe tbody tr th:only-of-type {\n",
       "        vertical-align: middle;\n",
       "    }\n",
       "\n",
       "    .dataframe tbody tr th {\n",
       "        vertical-align: top;\n",
       "    }\n",
       "\n",
       "    .dataframe thead th {\n",
       "        text-align: right;\n",
       "    }\n",
       "</style>\n",
       "<table border=\"1\" class=\"dataframe\">\n",
       "  <thead>\n",
       "    <tr style=\"text-align: right;\">\n",
       "      <th></th>\n",
       "      <th>age</th>\n",
       "      <th>job</th>\n",
       "      <th>marital</th>\n",
       "      <th>education</th>\n",
       "      <th>default</th>\n",
       "      <th>balance</th>\n",
       "      <th>housing</th>\n",
       "      <th>loan</th>\n",
       "      <th>contact</th>\n",
       "      <th>day</th>\n",
       "      <th>month</th>\n",
       "      <th>campaign</th>\n",
       "      <th>pdays</th>\n",
       "      <th>previous</th>\n",
       "      <th>poutcome</th>\n",
       "      <th>Target</th>\n",
       "    </tr>\n",
       "  </thead>\n",
       "  <tbody>\n",
       "    <tr>\n",
       "      <th>0</th>\n",
       "      <td>58</td>\n",
       "      <td>management</td>\n",
       "      <td>married</td>\n",
       "      <td>tertiary</td>\n",
       "      <td>0</td>\n",
       "      <td>2143</td>\n",
       "      <td>1</td>\n",
       "      <td>0</td>\n",
       "      <td>unknown</td>\n",
       "      <td>5</td>\n",
       "      <td>may</td>\n",
       "      <td>1</td>\n",
       "      <td>-1</td>\n",
       "      <td>0</td>\n",
       "      <td>unknown</td>\n",
       "      <td>0</td>\n",
       "    </tr>\n",
       "    <tr>\n",
       "      <th>1</th>\n",
       "      <td>44</td>\n",
       "      <td>technician</td>\n",
       "      <td>single</td>\n",
       "      <td>secondary</td>\n",
       "      <td>0</td>\n",
       "      <td>29</td>\n",
       "      <td>1</td>\n",
       "      <td>0</td>\n",
       "      <td>unknown</td>\n",
       "      <td>5</td>\n",
       "      <td>may</td>\n",
       "      <td>1</td>\n",
       "      <td>-1</td>\n",
       "      <td>0</td>\n",
       "      <td>unknown</td>\n",
       "      <td>0</td>\n",
       "    </tr>\n",
       "    <tr>\n",
       "      <th>2</th>\n",
       "      <td>33</td>\n",
       "      <td>entrepreneur</td>\n",
       "      <td>married</td>\n",
       "      <td>secondary</td>\n",
       "      <td>0</td>\n",
       "      <td>2</td>\n",
       "      <td>1</td>\n",
       "      <td>1</td>\n",
       "      <td>unknown</td>\n",
       "      <td>5</td>\n",
       "      <td>may</td>\n",
       "      <td>1</td>\n",
       "      <td>-1</td>\n",
       "      <td>0</td>\n",
       "      <td>unknown</td>\n",
       "      <td>0</td>\n",
       "    </tr>\n",
       "    <tr>\n",
       "      <th>3</th>\n",
       "      <td>47</td>\n",
       "      <td>blue-collar</td>\n",
       "      <td>married</td>\n",
       "      <td>unknown</td>\n",
       "      <td>0</td>\n",
       "      <td>1506</td>\n",
       "      <td>1</td>\n",
       "      <td>0</td>\n",
       "      <td>unknown</td>\n",
       "      <td>5</td>\n",
       "      <td>may</td>\n",
       "      <td>1</td>\n",
       "      <td>-1</td>\n",
       "      <td>0</td>\n",
       "      <td>unknown</td>\n",
       "      <td>0</td>\n",
       "    </tr>\n",
       "    <tr>\n",
       "      <th>4</th>\n",
       "      <td>33</td>\n",
       "      <td>unknown</td>\n",
       "      <td>single</td>\n",
       "      <td>unknown</td>\n",
       "      <td>0</td>\n",
       "      <td>1</td>\n",
       "      <td>0</td>\n",
       "      <td>0</td>\n",
       "      <td>unknown</td>\n",
       "      <td>5</td>\n",
       "      <td>may</td>\n",
       "      <td>1</td>\n",
       "      <td>-1</td>\n",
       "      <td>0</td>\n",
       "      <td>unknown</td>\n",
       "      <td>0</td>\n",
       "    </tr>\n",
       "    <tr>\n",
       "      <th>...</th>\n",
       "      <td>...</td>\n",
       "      <td>...</td>\n",
       "      <td>...</td>\n",
       "      <td>...</td>\n",
       "      <td>...</td>\n",
       "      <td>...</td>\n",
       "      <td>...</td>\n",
       "      <td>...</td>\n",
       "      <td>...</td>\n",
       "      <td>...</td>\n",
       "      <td>...</td>\n",
       "      <td>...</td>\n",
       "      <td>...</td>\n",
       "      <td>...</td>\n",
       "      <td>...</td>\n",
       "      <td>...</td>\n",
       "    </tr>\n",
       "    <tr>\n",
       "      <th>45206</th>\n",
       "      <td>51</td>\n",
       "      <td>technician</td>\n",
       "      <td>married</td>\n",
       "      <td>tertiary</td>\n",
       "      <td>0</td>\n",
       "      <td>825</td>\n",
       "      <td>0</td>\n",
       "      <td>0</td>\n",
       "      <td>cellular</td>\n",
       "      <td>17</td>\n",
       "      <td>nov</td>\n",
       "      <td>3</td>\n",
       "      <td>-1</td>\n",
       "      <td>0</td>\n",
       "      <td>unknown</td>\n",
       "      <td>1</td>\n",
       "    </tr>\n",
       "    <tr>\n",
       "      <th>45207</th>\n",
       "      <td>71</td>\n",
       "      <td>retired</td>\n",
       "      <td>divorced</td>\n",
       "      <td>primary</td>\n",
       "      <td>0</td>\n",
       "      <td>1729</td>\n",
       "      <td>0</td>\n",
       "      <td>0</td>\n",
       "      <td>cellular</td>\n",
       "      <td>17</td>\n",
       "      <td>nov</td>\n",
       "      <td>2</td>\n",
       "      <td>-1</td>\n",
       "      <td>0</td>\n",
       "      <td>unknown</td>\n",
       "      <td>1</td>\n",
       "    </tr>\n",
       "    <tr>\n",
       "      <th>45208</th>\n",
       "      <td>72</td>\n",
       "      <td>retired</td>\n",
       "      <td>married</td>\n",
       "      <td>secondary</td>\n",
       "      <td>0</td>\n",
       "      <td>5715</td>\n",
       "      <td>0</td>\n",
       "      <td>0</td>\n",
       "      <td>cellular</td>\n",
       "      <td>17</td>\n",
       "      <td>nov</td>\n",
       "      <td>5</td>\n",
       "      <td>184</td>\n",
       "      <td>3</td>\n",
       "      <td>success</td>\n",
       "      <td>1</td>\n",
       "    </tr>\n",
       "    <tr>\n",
       "      <th>45209</th>\n",
       "      <td>57</td>\n",
       "      <td>blue-collar</td>\n",
       "      <td>married</td>\n",
       "      <td>secondary</td>\n",
       "      <td>0</td>\n",
       "      <td>668</td>\n",
       "      <td>0</td>\n",
       "      <td>0</td>\n",
       "      <td>telephone</td>\n",
       "      <td>17</td>\n",
       "      <td>nov</td>\n",
       "      <td>4</td>\n",
       "      <td>-1</td>\n",
       "      <td>0</td>\n",
       "      <td>unknown</td>\n",
       "      <td>0</td>\n",
       "    </tr>\n",
       "    <tr>\n",
       "      <th>45210</th>\n",
       "      <td>37</td>\n",
       "      <td>entrepreneur</td>\n",
       "      <td>married</td>\n",
       "      <td>secondary</td>\n",
       "      <td>0</td>\n",
       "      <td>2971</td>\n",
       "      <td>0</td>\n",
       "      <td>0</td>\n",
       "      <td>cellular</td>\n",
       "      <td>17</td>\n",
       "      <td>nov</td>\n",
       "      <td>2</td>\n",
       "      <td>188</td>\n",
       "      <td>11</td>\n",
       "      <td>other</td>\n",
       "      <td>0</td>\n",
       "    </tr>\n",
       "  </tbody>\n",
       "</table>\n",
       "<p>45211 rows × 16 columns</p>\n",
       "</div>"
      ],
      "text/plain": [
       "       age           job   marital  education  default  balance  housing  \\\n",
       "0       58    management   married   tertiary        0     2143        1   \n",
       "1       44    technician    single  secondary        0       29        1   \n",
       "2       33  entrepreneur   married  secondary        0        2        1   \n",
       "3       47   blue-collar   married    unknown        0     1506        1   \n",
       "4       33       unknown    single    unknown        0        1        0   \n",
       "...    ...           ...       ...        ...      ...      ...      ...   \n",
       "45206   51    technician   married   tertiary        0      825        0   \n",
       "45207   71       retired  divorced    primary        0     1729        0   \n",
       "45208   72       retired   married  secondary        0     5715        0   \n",
       "45209   57   blue-collar   married  secondary        0      668        0   \n",
       "45210   37  entrepreneur   married  secondary        0     2971        0   \n",
       "\n",
       "       loan    contact  day month  campaign  pdays  previous poutcome  Target  \n",
       "0         0    unknown    5   may         1     -1         0  unknown       0  \n",
       "1         0    unknown    5   may         1     -1         0  unknown       0  \n",
       "2         1    unknown    5   may         1     -1         0  unknown       0  \n",
       "3         0    unknown    5   may         1     -1         0  unknown       0  \n",
       "4         0    unknown    5   may         1     -1         0  unknown       0  \n",
       "...     ...        ...  ...   ...       ...    ...       ...      ...     ...  \n",
       "45206     0   cellular   17   nov         3     -1         0  unknown       1  \n",
       "45207     0   cellular   17   nov         2     -1         0  unknown       1  \n",
       "45208     0   cellular   17   nov         5    184         3  success       1  \n",
       "45209     0  telephone   17   nov         4     -1         0  unknown       0  \n",
       "45210     0   cellular   17   nov         2    188        11    other       0  \n",
       "\n",
       "[45211 rows x 16 columns]"
      ]
     },
     "execution_count": 5,
     "metadata": {},
     "output_type": "execute_result"
    }
   ],
   "source": [
    "\n",
    "from sklearn.preprocessing import OneHotEncoder, LabelBinarizer\n",
    "\n",
    "\n",
    "init_df.Target = LabelBinarizer().fit_transform(init_df.Target)\n",
    "init_df.housing = LabelBinarizer().fit_transform(init_df.housing)\n",
    "init_df.loan = LabelBinarizer().fit_transform(init_df.loan)\n",
    "init_df.default = LabelBinarizer().fit_transform(init_df.default)\n",
    "\n",
    "\n",
    "init_df"
   ]
  },
  {
   "cell_type": "code",
   "execution_count": 6,
   "id": "27220cbb",
   "metadata": {
    "execution": {
     "iopub.execute_input": "2022-11-18T14:33:44.771153Z",
     "iopub.status.busy": "2022-11-18T14:33:44.770770Z",
     "iopub.status.idle": "2022-11-18T14:33:44.810157Z",
     "shell.execute_reply": "2022-11-18T14:33:44.809175Z"
    },
    "papermill": {
     "duration": 0.05466,
     "end_time": "2022-11-18T14:33:44.812478",
     "exception": false,
     "start_time": "2022-11-18T14:33:44.757818",
     "status": "completed"
    },
    "tags": []
   },
   "outputs": [
    {
     "data": {
      "text/plain": [
       "age         0.025155\n",
       "default    -0.022419\n",
       "balance     0.052838\n",
       "housing    -0.139173\n",
       "loan       -0.068185\n",
       "day        -0.028348\n",
       "campaign   -0.073172\n",
       "pdays       0.103621\n",
       "previous    0.093236\n",
       "Target      1.000000\n",
       "Name: Target, dtype: float64"
      ]
     },
     "execution_count": 6,
     "metadata": {},
     "output_type": "execute_result"
    }
   ],
   "source": [
    "cor = init_df.corr()\n",
    "cor.Target"
   ]
  },
  {
   "cell_type": "code",
   "execution_count": 7,
   "id": "3f10f5fd",
   "metadata": {
    "execution": {
     "iopub.execute_input": "2022-11-18T14:33:44.837562Z",
     "iopub.status.busy": "2022-11-18T14:33:44.837154Z",
     "iopub.status.idle": "2022-11-18T14:33:45.247000Z",
     "shell.execute_reply": "2022-11-18T14:33:45.245627Z"
    },
    "papermill": {
     "duration": 0.425601,
     "end_time": "2022-11-18T14:33:45.249630",
     "exception": false,
     "start_time": "2022-11-18T14:33:44.824029",
     "status": "completed"
    },
    "tags": []
   },
   "outputs": [
    {
     "data": {
      "text/plain": [
       "<AxesSubplot:>"
      ]
     },
     "execution_count": 7,
     "metadata": {},
     "output_type": "execute_result"
    },
    {
     "data": {
      "image/png": "[encoded data removed]",
      "text/plain": [
       "<Figure size 720x360 with 2 Axes>"
      ]
     },
     "metadata": {
      "needs_background": "light"
     },
     "output_type": "display_data"
    }
   ],
   "source": [
    "sns.heatmap(cor)"
   ]
  },
  {
   "cell_type": "code",
   "execution_count": null,
   "id": "06a9049a",
   "metadata": {
    "papermill": {
     "duration": 0.012882,
     "end_time": "2022-11-18T14:33:45.275448",
     "exception": false,
     "start_time": "2022-11-18T14:33:45.262566",
     "status": "completed"
    },
    "tags": []
   },
   "outputs": [],
   "source": []
  },
  {
   "cell_type": "markdown",
   "id": "a3f62376",
   "metadata": {
    "papermill": {
     "duration": 0.011566,
     "end_time": "2022-11-18T14:33:45.299260",
     "exception": false,
     "start_time": "2022-11-18T14:33:45.287694",
     "status": "completed"
    },
    "tags": []
   },
   "source": [
    "## Let's create function for features with a lot of categories that apply Weights of Evidence method to this features and separate dataset to test and train part"
   ]
  },
  {
   "cell_type": "code",
   "execution_count": 8,
   "id": "1953b46f",
   "metadata": {
    "execution": {
     "iopub.execute_input": "2022-11-18T14:33:45.324891Z",
     "iopub.status.busy": "2022-11-18T14:33:45.324502Z",
     "iopub.status.idle": "2022-11-18T14:33:45.376326Z",
     "shell.execute_reply": "2022-11-18T14:33:45.375176Z"
    },
    "papermill": {
     "duration": 0.067949,
     "end_time": "2022-11-18T14:33:45.379172",
     "exception": false,
     "start_time": "2022-11-18T14:33:45.311223",
     "status": "completed"
    },
    "tags": []
   },
   "outputs": [],
   "source": [
    "split = StratifiedShuffleSplit(n_splits=1, test_size=0.3)\n",
    "X = init_df.drop(['Target'], axis=1)\n",
    "y = init_df.Target\n",
    "\n",
    "for train_size, test_size in split.split(X, y):\n",
    "    X_train = X.iloc[train_size]\n",
    "    X_test = X.iloc[test_size]\n",
    "    \n",
    "    y_train = y.iloc[train_size]\n",
    "    y_test = y.iloc[test_size]\n"
   ]
  },
  {
   "cell_type": "code",
   "execution_count": 9,
   "id": "5e28e170",
   "metadata": {
    "execution": {
     "iopub.execute_input": "2022-11-18T14:33:45.405947Z",
     "iopub.status.busy": "2022-11-18T14:33:45.405556Z",
     "iopub.status.idle": "2022-11-18T14:33:45.441007Z",
     "shell.execute_reply": "2022-11-18T14:33:45.439840Z"
    },
    "papermill": {
     "duration": 0.052127,
     "end_time": "2022-11-18T14:33:45.443365",
     "exception": false,
     "start_time": "2022-11-18T14:33:45.391238",
     "status": "completed"
    },
    "tags": []
   },
   "outputs": [
    {
     "data": {
      "text/html": [
       "<div>\n",
       "<style scoped>\n",
       "    .dataframe tbody tr th:only-of-type {\n",
       "        vertical-align: middle;\n",
       "    }\n",
       "\n",
       "    .dataframe tbody tr th {\n",
       "        vertical-align: top;\n",
       "    }\n",
       "\n",
       "    .dataframe thead th {\n",
       "        text-align: right;\n",
       "    }\n",
       "</style>\n",
       "<table border=\"1\" class=\"dataframe\">\n",
       "  <thead>\n",
       "    <tr style=\"text-align: right;\">\n",
       "      <th></th>\n",
       "      <th>age</th>\n",
       "      <th>job</th>\n",
       "      <th>marital</th>\n",
       "      <th>education</th>\n",
       "      <th>default</th>\n",
       "      <th>balance</th>\n",
       "      <th>housing</th>\n",
       "      <th>loan</th>\n",
       "      <th>contact</th>\n",
       "      <th>day</th>\n",
       "      <th>month</th>\n",
       "      <th>campaign</th>\n",
       "      <th>pdays</th>\n",
       "      <th>previous</th>\n",
       "      <th>poutcome</th>\n",
       "      <th>Target</th>\n",
       "    </tr>\n",
       "  </thead>\n",
       "  <tbody>\n",
       "    <tr>\n",
       "      <th>21093</th>\n",
       "      <td>59</td>\n",
       "      <td>retired</td>\n",
       "      <td>married</td>\n",
       "      <td>primary</td>\n",
       "      <td>0</td>\n",
       "      <td>46</td>\n",
       "      <td>0</td>\n",
       "      <td>0</td>\n",
       "      <td>cellular</td>\n",
       "      <td>14</td>\n",
       "      <td>aug</td>\n",
       "      <td>2</td>\n",
       "      <td>-1</td>\n",
       "      <td>0</td>\n",
       "      <td>unknown</td>\n",
       "      <td>0</td>\n",
       "    </tr>\n",
       "    <tr>\n",
       "      <th>14143</th>\n",
       "      <td>30</td>\n",
       "      <td>blue-collar</td>\n",
       "      <td>married</td>\n",
       "      <td>primary</td>\n",
       "      <td>0</td>\n",
       "      <td>35</td>\n",
       "      <td>1</td>\n",
       "      <td>0</td>\n",
       "      <td>cellular</td>\n",
       "      <td>11</td>\n",
       "      <td>jul</td>\n",
       "      <td>2</td>\n",
       "      <td>-1</td>\n",
       "      <td>0</td>\n",
       "      <td>unknown</td>\n",
       "      <td>0</td>\n",
       "    </tr>\n",
       "    <tr>\n",
       "      <th>44689</th>\n",
       "      <td>48</td>\n",
       "      <td>management</td>\n",
       "      <td>married</td>\n",
       "      <td>tertiary</td>\n",
       "      <td>0</td>\n",
       "      <td>0</td>\n",
       "      <td>1</td>\n",
       "      <td>0</td>\n",
       "      <td>cellular</td>\n",
       "      <td>6</td>\n",
       "      <td>sep</td>\n",
       "      <td>2</td>\n",
       "      <td>125</td>\n",
       "      <td>6</td>\n",
       "      <td>failure</td>\n",
       "      <td>1</td>\n",
       "    </tr>\n",
       "    <tr>\n",
       "      <th>39081</th>\n",
       "      <td>33</td>\n",
       "      <td>technician</td>\n",
       "      <td>single</td>\n",
       "      <td>unknown</td>\n",
       "      <td>0</td>\n",
       "      <td>135</td>\n",
       "      <td>1</td>\n",
       "      <td>0</td>\n",
       "      <td>cellular</td>\n",
       "      <td>18</td>\n",
       "      <td>may</td>\n",
       "      <td>1</td>\n",
       "      <td>-1</td>\n",
       "      <td>0</td>\n",
       "      <td>unknown</td>\n",
       "      <td>0</td>\n",
       "    </tr>\n",
       "    <tr>\n",
       "      <th>30425</th>\n",
       "      <td>47</td>\n",
       "      <td>technician</td>\n",
       "      <td>single</td>\n",
       "      <td>secondary</td>\n",
       "      <td>0</td>\n",
       "      <td>58</td>\n",
       "      <td>0</td>\n",
       "      <td>0</td>\n",
       "      <td>telephone</td>\n",
       "      <td>5</td>\n",
       "      <td>feb</td>\n",
       "      <td>1</td>\n",
       "      <td>-1</td>\n",
       "      <td>0</td>\n",
       "      <td>unknown</td>\n",
       "      <td>0</td>\n",
       "    </tr>\n",
       "    <tr>\n",
       "      <th>...</th>\n",
       "      <td>...</td>\n",
       "      <td>...</td>\n",
       "      <td>...</td>\n",
       "      <td>...</td>\n",
       "      <td>...</td>\n",
       "      <td>...</td>\n",
       "      <td>...</td>\n",
       "      <td>...</td>\n",
       "      <td>...</td>\n",
       "      <td>...</td>\n",
       "      <td>...</td>\n",
       "      <td>...</td>\n",
       "      <td>...</td>\n",
       "      <td>...</td>\n",
       "      <td>...</td>\n",
       "      <td>...</td>\n",
       "    </tr>\n",
       "    <tr>\n",
       "      <th>9995</th>\n",
       "      <td>49</td>\n",
       "      <td>housemaid</td>\n",
       "      <td>married</td>\n",
       "      <td>primary</td>\n",
       "      <td>0</td>\n",
       "      <td>3376</td>\n",
       "      <td>0</td>\n",
       "      <td>0</td>\n",
       "      <td>unknown</td>\n",
       "      <td>9</td>\n",
       "      <td>jun</td>\n",
       "      <td>3</td>\n",
       "      <td>-1</td>\n",
       "      <td>0</td>\n",
       "      <td>unknown</td>\n",
       "      <td>0</td>\n",
       "    </tr>\n",
       "    <tr>\n",
       "      <th>25954</th>\n",
       "      <td>32</td>\n",
       "      <td>admin.</td>\n",
       "      <td>married</td>\n",
       "      <td>secondary</td>\n",
       "      <td>0</td>\n",
       "      <td>269</td>\n",
       "      <td>1</td>\n",
       "      <td>0</td>\n",
       "      <td>cellular</td>\n",
       "      <td>19</td>\n",
       "      <td>nov</td>\n",
       "      <td>1</td>\n",
       "      <td>-1</td>\n",
       "      <td>0</td>\n",
       "      <td>unknown</td>\n",
       "      <td>0</td>\n",
       "    </tr>\n",
       "    <tr>\n",
       "      <th>31119</th>\n",
       "      <td>68</td>\n",
       "      <td>retired</td>\n",
       "      <td>married</td>\n",
       "      <td>secondary</td>\n",
       "      <td>0</td>\n",
       "      <td>445</td>\n",
       "      <td>0</td>\n",
       "      <td>0</td>\n",
       "      <td>cellular</td>\n",
       "      <td>18</td>\n",
       "      <td>feb</td>\n",
       "      <td>1</td>\n",
       "      <td>-1</td>\n",
       "      <td>0</td>\n",
       "      <td>unknown</td>\n",
       "      <td>1</td>\n",
       "    </tr>\n",
       "    <tr>\n",
       "      <th>43278</th>\n",
       "      <td>54</td>\n",
       "      <td>management</td>\n",
       "      <td>divorced</td>\n",
       "      <td>tertiary</td>\n",
       "      <td>0</td>\n",
       "      <td>7010</td>\n",
       "      <td>0</td>\n",
       "      <td>0</td>\n",
       "      <td>cellular</td>\n",
       "      <td>11</td>\n",
       "      <td>mar</td>\n",
       "      <td>2</td>\n",
       "      <td>-1</td>\n",
       "      <td>0</td>\n",
       "      <td>unknown</td>\n",
       "      <td>0</td>\n",
       "    </tr>\n",
       "    <tr>\n",
       "      <th>38557</th>\n",
       "      <td>30</td>\n",
       "      <td>admin.</td>\n",
       "      <td>married</td>\n",
       "      <td>primary</td>\n",
       "      <td>0</td>\n",
       "      <td>624</td>\n",
       "      <td>1</td>\n",
       "      <td>0</td>\n",
       "      <td>cellular</td>\n",
       "      <td>15</td>\n",
       "      <td>may</td>\n",
       "      <td>2</td>\n",
       "      <td>368</td>\n",
       "      <td>1</td>\n",
       "      <td>failure</td>\n",
       "      <td>0</td>\n",
       "    </tr>\n",
       "  </tbody>\n",
       "</table>\n",
       "<p>31647 rows × 16 columns</p>\n",
       "</div>"
      ],
      "text/plain": [
       "       age          job   marital  education  default  balance  housing  loan  \\\n",
       "21093   59      retired   married    primary        0       46        0     0   \n",
       "14143   30  blue-collar   married    primary        0       35        1     0   \n",
       "44689   48   management   married   tertiary        0        0        1     0   \n",
       "39081   33   technician    single    unknown        0      135        1     0   \n",
       "30425   47   technician    single  secondary        0       58        0     0   \n",
       "...    ...          ...       ...        ...      ...      ...      ...   ...   \n",
       "9995    49    housemaid   married    primary        0     3376        0     0   \n",
       "25954   32       admin.   married  secondary        0      269        1     0   \n",
       "31119   68      retired   married  secondary        0      445        0     0   \n",
       "43278   54   management  divorced   tertiary        0     7010        0     0   \n",
       "38557   30       admin.   married    primary        0      624        1     0   \n",
       "\n",
       "         contact  day month  campaign  pdays  previous poutcome  Target  \n",
       "21093   cellular   14   aug         2     -1         0  unknown       0  \n",
       "14143   cellular   11   jul         2     -1         0  unknown       0  \n",
       "44689   cellular    6   sep         2    125         6  failure       1  \n",
       "39081   cellular   18   may         1     -1         0  unknown       0  \n",
       "30425  telephone    5   feb         1     -1         0  unknown       0  \n",
       "...          ...  ...   ...       ...    ...       ...      ...     ...  \n",
       "9995     unknown    9   jun         3     -1         0  unknown       0  \n",
       "25954   cellular   19   nov         1     -1         0  unknown       0  \n",
       "31119   cellular   18   feb         1     -1         0  unknown       1  \n",
       "43278   cellular   11   mar         2     -1         0  unknown       0  \n",
       "38557   cellular   15   may         2    368         1  failure       0  \n",
       "\n",
       "[31647 rows x 16 columns]"
      ]
     },
     "execution_count": 9,
     "metadata": {},
     "output_type": "execute_result"
    }
   ],
   "source": [
    "both_train = pd.concat([X_train, y_train], axis=1, ignore_index=True)\n",
    "both_train.columns = init_df.columns\n",
    "\n",
    "both_test = pd.concat([X_test, y_test], axis=1, ignore_index=True)\n",
    "both_test.columns = init_df.columns\n",
    "both_train"
   ]
  },
  {
   "cell_type": "code",
   "execution_count": 10,
   "id": "04bded96",
   "metadata": {
    "execution": {
     "iopub.execute_input": "2022-11-18T14:33:45.470497Z",
     "iopub.status.busy": "2022-11-18T14:33:45.469507Z",
     "iopub.status.idle": "2022-11-18T14:33:45.478217Z",
     "shell.execute_reply": "2022-11-18T14:33:45.477220Z"
    },
    "papermill": {
     "duration": 0.025011,
     "end_time": "2022-11-18T14:33:45.480782",
     "exception": false,
     "start_time": "2022-11-18T14:33:45.455771",
     "status": "completed"
    },
    "tags": []
   },
   "outputs": [],
   "source": [
    "def woe(df_train, df_test, col, target):\n",
    "    all_good = len(df_train[df_train[target]==1][col])\n",
    "    all_bad = len(df_train[df_train[target]==0][col])\n",
    "    odds = (df_train[df_train[target]==1][col].value_counts()\n",
    "            /df_train[df_train[target]==0][col].value_counts())\n",
    "    odds = odds/all_good * all_bad\n",
    "    dict_for_apply = np.log(odds).to_dict()\n",
    "    df_train[col + '_woe'] = df_train[col].apply(dict_for_apply.get)\n",
    "    df_test[col + '_woe'] = df_test[col].apply(dict_for_apply.get)\n",
    "    \n",
    "    return df_train, df_test"
   ]
  },
  {
   "cell_type": "code",
   "execution_count": 11,
   "id": "6e457b2a",
   "metadata": {
    "execution": {
     "iopub.execute_input": "2022-11-18T14:33:45.509098Z",
     "iopub.status.busy": "2022-11-18T14:33:45.508676Z",
     "iopub.status.idle": "2022-11-18T14:33:45.707488Z",
     "shell.execute_reply": "2022-11-18T14:33:45.706237Z"
    },
    "papermill": {
     "duration": 0.216797,
     "end_time": "2022-11-18T14:33:45.710566",
     "exception": false,
     "start_time": "2022-11-18T14:33:45.493769",
     "status": "completed"
    },
    "tags": []
   },
   "outputs": [],
   "source": [
    "columns = ['job', 'marital', 'education', 'contact', 'poutcome', 'day', 'month']\n",
    "for i in columns:\n",
    "    woe(both_train, both_test, i, 'Target')"
   ]
  },
  {
   "cell_type": "code",
   "execution_count": 12,
   "id": "2dc38cfa",
   "metadata": {
    "execution": {
     "iopub.execute_input": "2022-11-18T14:33:45.736852Z",
     "iopub.status.busy": "2022-11-18T14:33:45.736424Z",
     "iopub.status.idle": "2022-11-18T14:33:45.745468Z",
     "shell.execute_reply": "2022-11-18T14:33:45.744441Z"
    },
    "papermill": {
     "duration": 0.024989,
     "end_time": "2022-11-18T14:33:45.747840",
     "exception": false,
     "start_time": "2022-11-18T14:33:45.722851",
     "status": "completed"
    },
    "tags": []
   },
   "outputs": [],
   "source": [
    "both_train.drop(['job', 'marital', 'education', 'contact', 'poutcome', 'day', 'month'], axis=1, inplace=True)\n"
   ]
  },
  {
   "cell_type": "code",
   "execution_count": 13,
   "id": "031a6631",
   "metadata": {
    "execution": {
     "iopub.execute_input": "2022-11-18T14:33:45.774702Z",
     "iopub.status.busy": "2022-11-18T14:33:45.773994Z",
     "iopub.status.idle": "2022-11-18T14:33:45.783790Z",
     "shell.execute_reply": "2022-11-18T14:33:45.782883Z"
    },
    "papermill": {
     "duration": 0.02584,
     "end_time": "2022-11-18T14:33:45.786143",
     "exception": false,
     "start_time": "2022-11-18T14:33:45.760303",
     "status": "completed"
    },
    "tags": []
   },
   "outputs": [],
   "source": [
    "both_test.drop(['job', 'marital', 'education', 'contact', 'poutcome', 'day', 'month'], axis=1, inplace=True)"
   ]
  },
  {
   "cell_type": "code",
   "execution_count": 14,
   "id": "8c581249",
   "metadata": {
    "execution": {
     "iopub.execute_input": "2022-11-18T14:33:45.812674Z",
     "iopub.status.busy": "2022-11-18T14:33:45.812004Z",
     "iopub.status.idle": "2022-11-18T14:33:45.834764Z",
     "shell.execute_reply": "2022-11-18T14:33:45.833617Z"
    },
    "papermill": {
     "duration": 0.039009,
     "end_time": "2022-11-18T14:33:45.837365",
     "exception": false,
     "start_time": "2022-11-18T14:33:45.798356",
     "status": "completed"
    },
    "tags": []
   },
   "outputs": [
    {
     "data": {
      "text/html": [
       "<div>\n",
       "<style scoped>\n",
       "    .dataframe tbody tr th:only-of-type {\n",
       "        vertical-align: middle;\n",
       "    }\n",
       "\n",
       "    .dataframe tbody tr th {\n",
       "        vertical-align: top;\n",
       "    }\n",
       "\n",
       "    .dataframe thead th {\n",
       "        text-align: right;\n",
       "    }\n",
       "</style>\n",
       "<table border=\"1\" class=\"dataframe\">\n",
       "  <thead>\n",
       "    <tr style=\"text-align: right;\">\n",
       "      <th></th>\n",
       "      <th>age</th>\n",
       "      <th>default</th>\n",
       "      <th>balance</th>\n",
       "      <th>housing</th>\n",
       "      <th>loan</th>\n",
       "      <th>campaign</th>\n",
       "      <th>pdays</th>\n",
       "      <th>previous</th>\n",
       "      <th>Target</th>\n",
       "      <th>job_woe</th>\n",
       "      <th>marital_woe</th>\n",
       "      <th>education_woe</th>\n",
       "      <th>contact_woe</th>\n",
       "      <th>poutcome_woe</th>\n",
       "      <th>day_woe</th>\n",
       "      <th>month_woe</th>\n",
       "    </tr>\n",
       "  </thead>\n",
       "  <tbody>\n",
       "    <tr>\n",
       "      <th>21093</th>\n",
       "      <td>59</td>\n",
       "      <td>0</td>\n",
       "      <td>46</td>\n",
       "      <td>0</td>\n",
       "      <td>0</td>\n",
       "      <td>2</td>\n",
       "      <td>-1</td>\n",
       "      <td>0</td>\n",
       "      <td>0</td>\n",
       "      <td>0.779069</td>\n",
       "      <td>-0.165633</td>\n",
       "      <td>-0.336073</td>\n",
       "      <td>0.281316</td>\n",
       "      <td>-0.283603</td>\n",
       "      <td>0.019534</td>\n",
       "      <td>-0.079683</td>\n",
       "    </tr>\n",
       "    <tr>\n",
       "      <th>14143</th>\n",
       "      <td>30</td>\n",
       "      <td>0</td>\n",
       "      <td>35</td>\n",
       "      <td>1</td>\n",
       "      <td>0</td>\n",
       "      <td>2</td>\n",
       "      <td>-1</td>\n",
       "      <td>0</td>\n",
       "      <td>0</td>\n",
       "      <td>-0.507850</td>\n",
       "      <td>-0.165633</td>\n",
       "      <td>-0.336073</td>\n",
       "      <td>0.281316</td>\n",
       "      <td>-0.283603</td>\n",
       "      <td>-0.102432</td>\n",
       "      <td>-0.258520</td>\n",
       "    </tr>\n",
       "    <tr>\n",
       "      <th>44689</th>\n",
       "      <td>48</td>\n",
       "      <td>0</td>\n",
       "      <td>0</td>\n",
       "      <td>1</td>\n",
       "      <td>0</td>\n",
       "      <td>2</td>\n",
       "      <td>125</td>\n",
       "      <td>6</td>\n",
       "      <td>1</td>\n",
       "      <td>0.182024</td>\n",
       "      <td>-0.165633</td>\n",
       "      <td>0.287563</td>\n",
       "      <td>0.281316</td>\n",
       "      <td>0.131189</td>\n",
       "      <td>-0.353541</td>\n",
       "      <td>1.943277</td>\n",
       "    </tr>\n",
       "    <tr>\n",
       "      <th>39081</th>\n",
       "      <td>33</td>\n",
       "      <td>0</td>\n",
       "      <td>135</td>\n",
       "      <td>1</td>\n",
       "      <td>0</td>\n",
       "      <td>1</td>\n",
       "      <td>-1</td>\n",
       "      <td>0</td>\n",
       "      <td>0</td>\n",
       "      <td>-0.030517</td>\n",
       "      <td>0.290370</td>\n",
       "      <td>0.178833</td>\n",
       "      <td>0.281316</td>\n",
       "      <td>-0.283603</td>\n",
       "      <td>-0.209689</td>\n",
       "      <td>-0.628561</td>\n",
       "    </tr>\n",
       "    <tr>\n",
       "      <th>30425</th>\n",
       "      <td>47</td>\n",
       "      <td>0</td>\n",
       "      <td>58</td>\n",
       "      <td>0</td>\n",
       "      <td>0</td>\n",
       "      <td>1</td>\n",
       "      <td>-1</td>\n",
       "      <td>0</td>\n",
       "      <td>0</td>\n",
       "      <td>-0.030517</td>\n",
       "      <td>0.290370</td>\n",
       "      <td>-0.117291</td>\n",
       "      <td>0.095496</td>\n",
       "      <td>-0.283603</td>\n",
       "      <td>-0.094230</td>\n",
       "      <td>0.385137</td>\n",
       "    </tr>\n",
       "    <tr>\n",
       "      <th>...</th>\n",
       "      <td>...</td>\n",
       "      <td>...</td>\n",
       "      <td>...</td>\n",
       "      <td>...</td>\n",
       "      <td>...</td>\n",
       "      <td>...</td>\n",
       "      <td>...</td>\n",
       "      <td>...</td>\n",
       "      <td>...</td>\n",
       "      <td>...</td>\n",
       "      <td>...</td>\n",
       "      <td>...</td>\n",
       "      <td>...</td>\n",
       "      <td>...</td>\n",
       "      <td>...</td>\n",
       "      <td>...</td>\n",
       "    </tr>\n",
       "    <tr>\n",
       "      <th>9995</th>\n",
       "      <td>49</td>\n",
       "      <td>0</td>\n",
       "      <td>3376</td>\n",
       "      <td>0</td>\n",
       "      <td>0</td>\n",
       "      <td>3</td>\n",
       "      <td>-1</td>\n",
       "      <td>0</td>\n",
       "      <td>0</td>\n",
       "      <td>-0.282518</td>\n",
       "      <td>-0.165633</td>\n",
       "      <td>-0.336073</td>\n",
       "      <td>-1.110356</td>\n",
       "      <td>-0.283603</td>\n",
       "      <td>-0.042588</td>\n",
       "      <td>-0.118402</td>\n",
       "    </tr>\n",
       "    <tr>\n",
       "      <th>25954</th>\n",
       "      <td>32</td>\n",
       "      <td>0</td>\n",
       "      <td>269</td>\n",
       "      <td>1</td>\n",
       "      <td>0</td>\n",
       "      <td>1</td>\n",
       "      <td>-1</td>\n",
       "      <td>0</td>\n",
       "      <td>0</td>\n",
       "      <td>0.052716</td>\n",
       "      <td>-0.165633</td>\n",
       "      <td>-0.117291</td>\n",
       "      <td>0.281316</td>\n",
       "      <td>-0.283603</td>\n",
       "      <td>-0.465294</td>\n",
       "      <td>-0.130956</td>\n",
       "    </tr>\n",
       "    <tr>\n",
       "      <th>31119</th>\n",
       "      <td>68</td>\n",
       "      <td>0</td>\n",
       "      <td>445</td>\n",
       "      <td>0</td>\n",
       "      <td>0</td>\n",
       "      <td>1</td>\n",
       "      <td>-1</td>\n",
       "      <td>0</td>\n",
       "      <td>1</td>\n",
       "      <td>0.779069</td>\n",
       "      <td>-0.165633</td>\n",
       "      <td>-0.117291</td>\n",
       "      <td>0.281316</td>\n",
       "      <td>-0.283603</td>\n",
       "      <td>-0.209689</td>\n",
       "      <td>0.385137</td>\n",
       "    </tr>\n",
       "    <tr>\n",
       "      <th>43278</th>\n",
       "      <td>54</td>\n",
       "      <td>0</td>\n",
       "      <td>7010</td>\n",
       "      <td>0</td>\n",
       "      <td>0</td>\n",
       "      <td>2</td>\n",
       "      <td>-1</td>\n",
       "      <td>0</td>\n",
       "      <td>0</td>\n",
       "      <td>0.182024</td>\n",
       "      <td>0.024811</td>\n",
       "      <td>0.287563</td>\n",
       "      <td>0.281316</td>\n",
       "      <td>-0.283603</td>\n",
       "      <td>-0.102432</td>\n",
       "      <td>2.063925</td>\n",
       "    </tr>\n",
       "    <tr>\n",
       "      <th>38557</th>\n",
       "      <td>30</td>\n",
       "      <td>0</td>\n",
       "      <td>624</td>\n",
       "      <td>1</td>\n",
       "      <td>0</td>\n",
       "      <td>2</td>\n",
       "      <td>368</td>\n",
       "      <td>1</td>\n",
       "      <td>0</td>\n",
       "      <td>0.052716</td>\n",
       "      <td>-0.165633</td>\n",
       "      <td>-0.336073</td>\n",
       "      <td>0.281316</td>\n",
       "      <td>0.131189</td>\n",
       "      <td>0.256634</td>\n",
       "      <td>-0.628561</td>\n",
       "    </tr>\n",
       "  </tbody>\n",
       "</table>\n",
       "<p>31647 rows × 16 columns</p>\n",
       "</div>"
      ],
      "text/plain": [
       "       age  default  balance  housing  loan  campaign  pdays  previous  \\\n",
       "21093   59        0       46        0     0         2     -1         0   \n",
       "14143   30        0       35        1     0         2     -1         0   \n",
       "44689   48        0        0        1     0         2    125         6   \n",
       "39081   33        0      135        1     0         1     -1         0   \n",
       "30425   47        0       58        0     0         1     -1         0   \n",
       "...    ...      ...      ...      ...   ...       ...    ...       ...   \n",
       "9995    49        0     3376        0     0         3     -1         0   \n",
       "25954   32        0      269        1     0         1     -1         0   \n",
       "31119   68        0      445        0     0         1     -1         0   \n",
       "43278   54        0     7010        0     0         2     -1         0   \n",
       "38557   30        0      624        1     0         2    368         1   \n",
       "\n",
       "       Target   job_woe  marital_woe  education_woe  contact_woe  \\\n",
       "21093       0  0.779069    -0.165633      -0.336073     0.281316   \n",
       "14143       0 -0.507850    -0.165633      -0.336073     0.281316   \n",
       "44689       1  0.182024    -0.165633       0.287563     0.281316   \n",
       "39081       0 -0.030517     0.290370       0.178833     0.281316   \n",
       "30425       0 -0.030517     0.290370      -0.117291     0.095496   \n",
       "...       ...       ...          ...            ...          ...   \n",
       "9995        0 -0.282518    -0.165633      -0.336073    -1.110356   \n",
       "25954       0  0.052716    -0.165633      -0.117291     0.281316   \n",
       "31119       1  0.779069    -0.165633      -0.117291     0.281316   \n",
       "43278       0  0.182024     0.024811       0.287563     0.281316   \n",
       "38557       0  0.052716    -0.165633      -0.336073     0.281316   \n",
       "\n",
       "       poutcome_woe   day_woe  month_woe  \n",
       "21093     -0.283603  0.019534  -0.079683  \n",
       "14143     -0.283603 -0.102432  -0.258520  \n",
       "44689      0.131189 -0.353541   1.943277  \n",
       "39081     -0.283603 -0.209689  -0.628561  \n",
       "30425     -0.283603 -0.094230   0.385137  \n",
       "...             ...       ...        ...  \n",
       "9995      -0.283603 -0.042588  -0.118402  \n",
       "25954     -0.283603 -0.465294  -0.130956  \n",
       "31119     -0.283603 -0.209689   0.385137  \n",
       "43278     -0.283603 -0.102432   2.063925  \n",
       "38557      0.131189  0.256634  -0.628561  \n",
       "\n",
       "[31647 rows x 16 columns]"
      ]
     },
     "execution_count": 14,
     "metadata": {},
     "output_type": "execute_result"
    }
   ],
   "source": [
    "both_train"
   ]
  },
  {
   "cell_type": "code",
   "execution_count": 15,
   "id": "88964c59",
   "metadata": {
    "execution": {
     "iopub.execute_input": "2022-11-18T14:33:45.865042Z",
     "iopub.status.busy": "2022-11-18T14:33:45.864418Z",
     "iopub.status.idle": "2022-11-18T14:33:45.876018Z",
     "shell.execute_reply": "2022-11-18T14:33:45.875065Z"
    },
    "papermill": {
     "duration": 0.028281,
     "end_time": "2022-11-18T14:33:45.878543",
     "exception": false,
     "start_time": "2022-11-18T14:33:45.850262",
     "status": "completed"
    },
    "tags": []
   },
   "outputs": [],
   "source": [
    "y_train_num = both_train.Target\n",
    "X_train_num = both_train.drop(['Target'], axis=1)\n",
    "\n",
    "y_test_num = both_test.Target\n",
    "X_test_num = both_test.drop(['Target'], axis=1)"
   ]
  },
  {
   "cell_type": "code",
   "execution_count": 16,
   "id": "88fc2a47",
   "metadata": {
    "execution": {
     "iopub.execute_input": "2022-11-18T14:33:45.906356Z",
     "iopub.status.busy": "2022-11-18T14:33:45.905731Z",
     "iopub.status.idle": "2022-11-18T14:33:45.926888Z",
     "shell.execute_reply": "2022-11-18T14:33:45.925750Z"
    },
    "papermill": {
     "duration": 0.038163,
     "end_time": "2022-11-18T14:33:45.929503",
     "exception": false,
     "start_time": "2022-11-18T14:33:45.891340",
     "status": "completed"
    },
    "tags": []
   },
   "outputs": [
    {
     "data": {
      "text/html": [
       "<div>\n",
       "<style scoped>\n",
       "    .dataframe tbody tr th:only-of-type {\n",
       "        vertical-align: middle;\n",
       "    }\n",
       "\n",
       "    .dataframe tbody tr th {\n",
       "        vertical-align: top;\n",
       "    }\n",
       "\n",
       "    .dataframe thead th {\n",
       "        text-align: right;\n",
       "    }\n",
       "</style>\n",
       "<table border=\"1\" class=\"dataframe\">\n",
       "  <thead>\n",
       "    <tr style=\"text-align: right;\">\n",
       "      <th></th>\n",
       "      <th>age</th>\n",
       "      <th>default</th>\n",
       "      <th>balance</th>\n",
       "      <th>housing</th>\n",
       "      <th>loan</th>\n",
       "      <th>campaign</th>\n",
       "      <th>pdays</th>\n",
       "      <th>previous</th>\n",
       "      <th>job_woe</th>\n",
       "      <th>marital_woe</th>\n",
       "      <th>education_woe</th>\n",
       "      <th>contact_woe</th>\n",
       "      <th>poutcome_woe</th>\n",
       "      <th>day_woe</th>\n",
       "      <th>month_woe</th>\n",
       "    </tr>\n",
       "  </thead>\n",
       "  <tbody>\n",
       "    <tr>\n",
       "      <th>21093</th>\n",
       "      <td>59</td>\n",
       "      <td>0</td>\n",
       "      <td>46</td>\n",
       "      <td>0</td>\n",
       "      <td>0</td>\n",
       "      <td>2</td>\n",
       "      <td>-1</td>\n",
       "      <td>0</td>\n",
       "      <td>0.779069</td>\n",
       "      <td>-0.165633</td>\n",
       "      <td>-0.336073</td>\n",
       "      <td>0.281316</td>\n",
       "      <td>-0.283603</td>\n",
       "      <td>0.019534</td>\n",
       "      <td>-0.079683</td>\n",
       "    </tr>\n",
       "    <tr>\n",
       "      <th>14143</th>\n",
       "      <td>30</td>\n",
       "      <td>0</td>\n",
       "      <td>35</td>\n",
       "      <td>1</td>\n",
       "      <td>0</td>\n",
       "      <td>2</td>\n",
       "      <td>-1</td>\n",
       "      <td>0</td>\n",
       "      <td>-0.507850</td>\n",
       "      <td>-0.165633</td>\n",
       "      <td>-0.336073</td>\n",
       "      <td>0.281316</td>\n",
       "      <td>-0.283603</td>\n",
       "      <td>-0.102432</td>\n",
       "      <td>-0.258520</td>\n",
       "    </tr>\n",
       "    <tr>\n",
       "      <th>44689</th>\n",
       "      <td>48</td>\n",
       "      <td>0</td>\n",
       "      <td>0</td>\n",
       "      <td>1</td>\n",
       "      <td>0</td>\n",
       "      <td>2</td>\n",
       "      <td>125</td>\n",
       "      <td>6</td>\n",
       "      <td>0.182024</td>\n",
       "      <td>-0.165633</td>\n",
       "      <td>0.287563</td>\n",
       "      <td>0.281316</td>\n",
       "      <td>0.131189</td>\n",
       "      <td>-0.353541</td>\n",
       "      <td>1.943277</td>\n",
       "    </tr>\n",
       "    <tr>\n",
       "      <th>39081</th>\n",
       "      <td>33</td>\n",
       "      <td>0</td>\n",
       "      <td>135</td>\n",
       "      <td>1</td>\n",
       "      <td>0</td>\n",
       "      <td>1</td>\n",
       "      <td>-1</td>\n",
       "      <td>0</td>\n",
       "      <td>-0.030517</td>\n",
       "      <td>0.290370</td>\n",
       "      <td>0.178833</td>\n",
       "      <td>0.281316</td>\n",
       "      <td>-0.283603</td>\n",
       "      <td>-0.209689</td>\n",
       "      <td>-0.628561</td>\n",
       "    </tr>\n",
       "    <tr>\n",
       "      <th>30425</th>\n",
       "      <td>47</td>\n",
       "      <td>0</td>\n",
       "      <td>58</td>\n",
       "      <td>0</td>\n",
       "      <td>0</td>\n",
       "      <td>1</td>\n",
       "      <td>-1</td>\n",
       "      <td>0</td>\n",
       "      <td>-0.030517</td>\n",
       "      <td>0.290370</td>\n",
       "      <td>-0.117291</td>\n",
       "      <td>0.095496</td>\n",
       "      <td>-0.283603</td>\n",
       "      <td>-0.094230</td>\n",
       "      <td>0.385137</td>\n",
       "    </tr>\n",
       "    <tr>\n",
       "      <th>...</th>\n",
       "      <td>...</td>\n",
       "      <td>...</td>\n",
       "      <td>...</td>\n",
       "      <td>...</td>\n",
       "      <td>...</td>\n",
       "      <td>...</td>\n",
       "      <td>...</td>\n",
       "      <td>...</td>\n",
       "      <td>...</td>\n",
       "      <td>...</td>\n",
       "      <td>...</td>\n",
       "      <td>...</td>\n",
       "      <td>...</td>\n",
       "      <td>...</td>\n",
       "      <td>...</td>\n",
       "    </tr>\n",
       "    <tr>\n",
       "      <th>9995</th>\n",
       "      <td>49</td>\n",
       "      <td>0</td>\n",
       "      <td>3376</td>\n",
       "      <td>0</td>\n",
       "      <td>0</td>\n",
       "      <td>3</td>\n",
       "      <td>-1</td>\n",
       "      <td>0</td>\n",
       "      <td>-0.282518</td>\n",
       "      <td>-0.165633</td>\n",
       "      <td>-0.336073</td>\n",
       "      <td>-1.110356</td>\n",
       "      <td>-0.283603</td>\n",
       "      <td>-0.042588</td>\n",
       "      <td>-0.118402</td>\n",
       "    </tr>\n",
       "    <tr>\n",
       "      <th>25954</th>\n",
       "      <td>32</td>\n",
       "      <td>0</td>\n",
       "      <td>269</td>\n",
       "      <td>1</td>\n",
       "      <td>0</td>\n",
       "      <td>1</td>\n",
       "      <td>-1</td>\n",
       "      <td>0</td>\n",
       "      <td>0.052716</td>\n",
       "      <td>-0.165633</td>\n",
       "      <td>-0.117291</td>\n",
       "      <td>0.281316</td>\n",
       "      <td>-0.283603</td>\n",
       "      <td>-0.465294</td>\n",
       "      <td>-0.130956</td>\n",
       "    </tr>\n",
       "    <tr>\n",
       "      <th>31119</th>\n",
       "      <td>68</td>\n",
       "      <td>0</td>\n",
       "      <td>445</td>\n",
       "      <td>0</td>\n",
       "      <td>0</td>\n",
       "      <td>1</td>\n",
       "      <td>-1</td>\n",
       "      <td>0</td>\n",
       "      <td>0.779069</td>\n",
       "      <td>-0.165633</td>\n",
       "      <td>-0.117291</td>\n",
       "      <td>0.281316</td>\n",
       "      <td>-0.283603</td>\n",
       "      <td>-0.209689</td>\n",
       "      <td>0.385137</td>\n",
       "    </tr>\n",
       "    <tr>\n",
       "      <th>43278</th>\n",
       "      <td>54</td>\n",
       "      <td>0</td>\n",
       "      <td>7010</td>\n",
       "      <td>0</td>\n",
       "      <td>0</td>\n",
       "      <td>2</td>\n",
       "      <td>-1</td>\n",
       "      <td>0</td>\n",
       "      <td>0.182024</td>\n",
       "      <td>0.024811</td>\n",
       "      <td>0.287563</td>\n",
       "      <td>0.281316</td>\n",
       "      <td>-0.283603</td>\n",
       "      <td>-0.102432</td>\n",
       "      <td>2.063925</td>\n",
       "    </tr>\n",
       "    <tr>\n",
       "      <th>38557</th>\n",
       "      <td>30</td>\n",
       "      <td>0</td>\n",
       "      <td>624</td>\n",
       "      <td>1</td>\n",
       "      <td>0</td>\n",
       "      <td>2</td>\n",
       "      <td>368</td>\n",
       "      <td>1</td>\n",
       "      <td>0.052716</td>\n",
       "      <td>-0.165633</td>\n",
       "      <td>-0.336073</td>\n",
       "      <td>0.281316</td>\n",
       "      <td>0.131189</td>\n",
       "      <td>0.256634</td>\n",
       "      <td>-0.628561</td>\n",
       "    </tr>\n",
       "  </tbody>\n",
       "</table>\n",
       "<p>31647 rows × 15 columns</p>\n",
       "</div>"
      ],
      "text/plain": [
       "       age  default  balance  housing  loan  campaign  pdays  previous  \\\n",
       "21093   59        0       46        0     0         2     -1         0   \n",
       "14143   30        0       35        1     0         2     -1         0   \n",
       "44689   48        0        0        1     0         2    125         6   \n",
       "39081   33        0      135        1     0         1     -1         0   \n",
       "30425   47        0       58        0     0         1     -1         0   \n",
       "...    ...      ...      ...      ...   ...       ...    ...       ...   \n",
       "9995    49        0     3376        0     0         3     -1         0   \n",
       "25954   32        0      269        1     0         1     -1         0   \n",
       "31119   68        0      445        0     0         1     -1         0   \n",
       "43278   54        0     7010        0     0         2     -1         0   \n",
       "38557   30        0      624        1     0         2    368         1   \n",
       "\n",
       "        job_woe  marital_woe  education_woe  contact_woe  poutcome_woe  \\\n",
       "21093  0.779069    -0.165633      -0.336073     0.281316     -0.283603   \n",
       "14143 -0.507850    -0.165633      -0.336073     0.281316     -0.283603   \n",
       "44689  0.182024    -0.165633       0.287563     0.281316      0.131189   \n",
       "39081 -0.030517     0.290370       0.178833     0.281316     -0.283603   \n",
       "30425 -0.030517     0.290370      -0.117291     0.095496     -0.283603   \n",
       "...         ...          ...            ...          ...           ...   \n",
       "9995  -0.282518    -0.165633      -0.336073    -1.110356     -0.283603   \n",
       "25954  0.052716    -0.165633      -0.117291     0.281316     -0.283603   \n",
       "31119  0.779069    -0.165633      -0.117291     0.281316     -0.283603   \n",
       "43278  0.182024     0.024811       0.287563     0.281316     -0.283603   \n",
       "38557  0.052716    -0.165633      -0.336073     0.281316      0.131189   \n",
       "\n",
       "        day_woe  month_woe  \n",
       "21093  0.019534  -0.079683  \n",
       "14143 -0.102432  -0.258520  \n",
       "44689 -0.353541   1.943277  \n",
       "39081 -0.209689  -0.628561  \n",
       "30425 -0.094230   0.385137  \n",
       "...         ...        ...  \n",
       "9995  -0.042588  -0.118402  \n",
       "25954 -0.465294  -0.130956  \n",
       "31119 -0.209689   0.385137  \n",
       "43278 -0.102432   2.063925  \n",
       "38557  0.256634  -0.628561  \n",
       "\n",
       "[31647 rows x 15 columns]"
      ]
     },
     "execution_count": 16,
     "metadata": {},
     "output_type": "execute_result"
    }
   ],
   "source": [
    "X_train_num"
   ]
  },
  {
   "cell_type": "code",
   "execution_count": 17,
   "id": "6fd9f870",
   "metadata": {
    "execution": {
     "iopub.execute_input": "2022-11-18T14:33:45.958033Z",
     "iopub.status.busy": "2022-11-18T14:33:45.957381Z",
     "iopub.status.idle": "2022-11-18T14:33:45.991587Z",
     "shell.execute_reply": "2022-11-18T14:33:45.990335Z"
    },
    "papermill": {
     "duration": 0.051643,
     "end_time": "2022-11-18T14:33:45.994265",
     "exception": false,
     "start_time": "2022-11-18T14:33:45.942622",
     "status": "completed"
    },
    "tags": []
   },
   "outputs": [],
   "source": [
    "scaler = StandardScaler()\n",
    "X_train_scaled = pd.DataFrame(scaler.fit_transform(X_train_num, y_train_num), columns = X_train_num.columns)\n",
    "X_test_scaled = pd.DataFrame(scaler.fit_transform(X_test_num, y_test_num), columns = X_test_num.columns)"
   ]
  },
  {
   "cell_type": "markdown",
   "id": "7a2c169e",
   "metadata": {
    "execution": {
     "iopub.execute_input": "2022-11-18T09:17:13.647149Z",
     "iopub.status.busy": "2022-11-18T09:17:13.646733Z",
     "iopub.status.idle": "2022-11-18T09:17:13.655118Z",
     "shell.execute_reply": "2022-11-18T09:17:13.653908Z",
     "shell.execute_reply.started": "2022-11-18T09:17:13.647116Z"
    },
    "papermill": {
     "duration": 0.013375,
     "end_time": "2022-11-18T14:33:46.020932",
     "exception": false,
     "start_time": "2022-11-18T14:33:46.007557",
     "status": "completed"
    },
    "tags": []
   },
   "source": [
    "# Lasso"
   ]
  },
  {
   "cell_type": "code",
   "execution_count": 18,
   "id": "17b4e6ad",
   "metadata": {
    "execution": {
     "iopub.execute_input": "2022-11-18T14:33:46.049194Z",
     "iopub.status.busy": "2022-11-18T14:33:46.048766Z",
     "iopub.status.idle": "2022-11-18T14:33:46.081592Z",
     "shell.execute_reply": "2022-11-18T14:33:46.079977Z"
    },
    "papermill": {
     "duration": 0.055266,
     "end_time": "2022-11-18T14:33:46.089448",
     "exception": false,
     "start_time": "2022-11-18T14:33:46.034182",
     "status": "completed"
    },
    "tags": []
   },
   "outputs": [
    {
     "name": "stdout",
     "output_type": "stream",
     "text": [
      "CPU times: user 4 µs, sys: 0 ns, total: 4 µs\n",
      "Wall time: 7.63 µs\n"
     ]
    },
    {
     "data": {
      "text/plain": [
       "Lasso(alpha=0.001)"
      ]
     },
     "execution_count": 18,
     "metadata": {},
     "output_type": "execute_result"
    }
   ],
   "source": [
    "%time\n",
    "clf_lasso = Lasso(alpha=0.001)\n",
    "clf_lasso.fit(X_train_scaled, y_train_num)"
   ]
  },
  {
   "cell_type": "code",
   "execution_count": 19,
   "id": "12e638ca",
   "metadata": {
    "execution": {
     "iopub.execute_input": "2022-11-18T14:33:46.161089Z",
     "iopub.status.busy": "2022-11-18T14:33:46.160366Z",
     "iopub.status.idle": "2022-11-18T14:33:46.172587Z",
     "shell.execute_reply": "2022-11-18T14:33:46.170901Z"
    },
    "papermill": {
     "duration": 0.053474,
     "end_time": "2022-11-18T14:33:46.177252",
     "exception": false,
     "start_time": "2022-11-18T14:33:46.123778",
     "status": "completed"
    },
    "tags": []
   },
   "outputs": [
    {
     "data": {
      "text/plain": [
       "array([-0.        , -0.        ,  0.00627659, -0.01482632, -0.01066111,\n",
       "       -0.01186068, -0.0163754 , -0.00075831,  0.0127804 ,  0.01309466,\n",
       "        0.00199404,  0.01212467,  0.08871421,  0.02108373,  0.04833926])"
      ]
     },
     "execution_count": 19,
     "metadata": {},
     "output_type": "execute_result"
    }
   ],
   "source": [
    "clf_lasso.coef_"
   ]
  },
  {
   "cell_type": "code",
   "execution_count": 20,
   "id": "c31e7d4b",
   "metadata": {
    "execution": {
     "iopub.execute_input": "2022-11-18T14:33:46.214870Z",
     "iopub.status.busy": "2022-11-18T14:33:46.214458Z",
     "iopub.status.idle": "2022-11-18T14:33:46.220176Z",
     "shell.execute_reply": "2022-11-18T14:33:46.219364Z"
    },
    "papermill": {
     "duration": 0.022884,
     "end_time": "2022-11-18T14:33:46.222580",
     "exception": false,
     "start_time": "2022-11-18T14:33:46.199696",
     "status": "completed"
    },
    "tags": []
   },
   "outputs": [
    {
     "data": {
      "text/plain": [
       "array(['age', 'default', 'balance', 'housing', 'loan', 'campaign',\n",
       "       'pdays', 'previous', 'job_woe', 'marital_woe', 'education_woe',\n",
       "       'contact_woe', 'poutcome_woe', 'day_woe', 'month_woe'],\n",
       "      dtype=object)"
      ]
     },
     "execution_count": 20,
     "metadata": {},
     "output_type": "execute_result"
    }
   ],
   "source": [
    "clf_lasso.feature_names_in_"
   ]
  },
  {
   "cell_type": "code",
   "execution_count": 21,
   "id": "720d5440",
   "metadata": {
    "execution": {
     "iopub.execute_input": "2022-11-18T14:33:46.251781Z",
     "iopub.status.busy": "2022-11-18T14:33:46.251363Z",
     "iopub.status.idle": "2022-11-18T14:33:46.259226Z",
     "shell.execute_reply": "2022-11-18T14:33:46.258062Z"
    },
    "papermill": {
     "duration": 0.025601,
     "end_time": "2022-11-18T14:33:46.261955",
     "exception": false,
     "start_time": "2022-11-18T14:33:46.236354",
     "status": "completed"
    },
    "tags": []
   },
   "outputs": [
    {
     "data": {
      "text/plain": [
       "{-0.0: 'default',\n",
       " 0.006276585448092366: 'balance',\n",
       " -0.014826320741778108: 'housing',\n",
       " -0.010661108710709105: 'loan',\n",
       " -0.011860682317701834: 'campaign',\n",
       " -0.016375400007902687: 'pdays',\n",
       " -0.0007583134833790143: 'previous',\n",
       " 0.012780397874977029: 'job_woe',\n",
       " 0.013094661479225209: 'marital_woe',\n",
       " 0.0019940438211147114: 'education_woe',\n",
       " 0.012124674420933118: 'contact_woe',\n",
       " 0.08871421161291909: 'poutcome_woe',\n",
       " 0.021083734803567927: 'day_woe',\n",
       " 0.048339257386331325: 'month_woe'}"
      ]
     },
     "execution_count": 21,
     "metadata": {},
     "output_type": "execute_result"
    }
   ],
   "source": [
    "d = dict(zip(clf_lasso.coef_, clf_lasso.feature_names_in_))\n",
    "d"
   ]
  },
  {
   "cell_type": "code",
   "execution_count": 22,
   "id": "21f70fa5",
   "metadata": {
    "execution": {
     "iopub.execute_input": "2022-11-18T14:33:46.292281Z",
     "iopub.status.busy": "2022-11-18T14:33:46.291201Z",
     "iopub.status.idle": "2022-11-18T14:33:46.298779Z",
     "shell.execute_reply": "2022-11-18T14:33:46.297700Z"
    },
    "papermill": {
     "duration": 0.025067,
     "end_time": "2022-11-18T14:33:46.301136",
     "exception": false,
     "start_time": "2022-11-18T14:33:46.276069",
     "status": "completed"
    },
    "tags": []
   },
   "outputs": [],
   "source": [
    "from sklearn.metrics import roc_curve, auc\n",
    "def roc_auc(y, y_pred, plot_label='', prin=True):\n",
    "    fpr, tpr, _ = roc_curve(y, y_pred)\n",
    "    auc_value = auc(fpr, tpr)\n",
    "    if prin:\n",
    "        print(f'AUC: {auc_value}')\n",
    "    if plot_label:\n",
    "        plt.plot(fpr, tpr, label=plot_label)\n",
    "        plt.xlabel = 'FPR'\n",
    "        plt.ylabel = 'TPR'\n",
    "    return auc_value "
   ]
  },
  {
   "cell_type": "code",
   "execution_count": 23,
   "id": "1ee127e6",
   "metadata": {
    "execution": {
     "iopub.execute_input": "2022-11-18T14:33:46.330528Z",
     "iopub.status.busy": "2022-11-18T14:33:46.330047Z",
     "iopub.status.idle": "2022-11-18T14:33:46.644136Z",
     "shell.execute_reply": "2022-11-18T14:33:46.642930Z"
    },
    "papermill": {
     "duration": 0.331544,
     "end_time": "2022-11-18T14:33:46.646507",
     "exception": false,
     "start_time": "2022-11-18T14:33:46.314963",
     "status": "completed"
    },
    "tags": []
   },
   "outputs": [
    {
     "name": "stdout",
     "output_type": "stream",
     "text": [
      "TRAIN\n",
      "AUC: 0.7549719682648222\n",
      "TEST\n",
      "AUC: 0.7635155209004615\n"
     ]
    },
    {
     "data": {
      "text/plain": [
       "<matplotlib.legend.Legend at 0x7fe35760df50>"
      ]
     },
     "execution_count": 23,
     "metadata": {},
     "output_type": "execute_result"
    },
    {
     "data": {
      "image/png": "[encoded data removed]",
      "text/plain": [
       "<Figure size 720x360 with 1 Axes>"
      ]
     },
     "metadata": {
      "needs_background": "light"
     },
     "output_type": "display_data"
    }
   ],
   "source": [
    "y_pred_test_lasso= clf_lasso.predict(X_test_scaled)\n",
    "y_pred_train_lasso= clf_lasso.predict(X_train_scaled)\n",
    "print('TRAIN')\n",
    "roc_auc(y_train_num, y_pred_train_lasso, 'train')\n",
    "print(\"TEST\")\n",
    "roc_auc(y_test_num, y_pred_test_lasso, 'test')\n",
    "plt.legend()"
   ]
  },
  {
   "cell_type": "markdown",
   "id": "20bc4807",
   "metadata": {
    "papermill": {
     "duration": 0.014325,
     "end_time": "2022-11-18T14:33:46.676350",
     "exception": false,
     "start_time": "2022-11-18T14:33:46.662025",
     "status": "completed"
    },
    "tags": []
   },
   "source": [
    "# PCA"
   ]
  },
  {
   "cell_type": "code",
   "execution_count": 24,
   "id": "26bf66c2",
   "metadata": {
    "execution": {
     "iopub.execute_input": "2022-11-18T14:33:46.707457Z",
     "iopub.status.busy": "2022-11-18T14:33:46.706601Z",
     "iopub.status.idle": "2022-11-18T14:33:46.734018Z",
     "shell.execute_reply": "2022-11-18T14:33:46.732514Z"
    },
    "papermill": {
     "duration": 0.046257,
     "end_time": "2022-11-18T14:33:46.737026",
     "exception": false,
     "start_time": "2022-11-18T14:33:46.690769",
     "status": "completed"
    },
    "tags": []
   },
   "outputs": [],
   "source": [
    "from sklearn.decomposition import PCA"
   ]
  },
  {
   "cell_type": "code",
   "execution_count": 25,
   "id": "2c9b4856",
   "metadata": {
    "execution": {
     "iopub.execute_input": "2022-11-18T14:33:46.768371Z",
     "iopub.status.busy": "2022-11-18T14:33:46.767817Z",
     "iopub.status.idle": "2022-11-18T14:33:46.828560Z",
     "shell.execute_reply": "2022-11-18T14:33:46.826760Z"
    },
    "papermill": {
     "duration": 0.081784,
     "end_time": "2022-11-18T14:33:46.833381",
     "exception": false,
     "start_time": "2022-11-18T14:33:46.751597",
     "status": "completed"
    },
    "tags": []
   },
   "outputs": [],
   "source": [
    "pca = PCA(n_components=15)\n",
    "X_pca = pca.fit(X_train_scaled)"
   ]
  },
  {
   "cell_type": "code",
   "execution_count": 26,
   "id": "628bfc0c",
   "metadata": {
    "execution": {
     "iopub.execute_input": "2022-11-18T14:33:46.912475Z",
     "iopub.status.busy": "2022-11-18T14:33:46.911150Z",
     "iopub.status.idle": "2022-11-18T14:33:46.923503Z",
     "shell.execute_reply": "2022-11-18T14:33:46.921952Z"
    },
    "papermill": {
     "duration": 0.055815,
     "end_time": "2022-11-18T14:33:46.927937",
     "exception": false,
     "start_time": "2022-11-18T14:33:46.872122",
     "status": "completed"
    },
    "tags": []
   },
   "outputs": [
    {
     "data": {
      "text/plain": [
       "array([0.14939832, 0.11122764, 0.09891214, 0.07566317, 0.0706872 ,\n",
       "       0.06507459, 0.0628102 , 0.06152998, 0.05983692, 0.05175788,\n",
       "       0.04440408, 0.04366811, 0.04263699, 0.03309244, 0.02930036])"
      ]
     },
     "execution_count": 26,
     "metadata": {},
     "output_type": "execute_result"
    }
   ],
   "source": [
    "X_pca.explained_variance_ratio_\n"
   ]
  },
  {
   "cell_type": "code",
   "execution_count": 27,
   "id": "833b52e7",
   "metadata": {
    "execution": {
     "iopub.execute_input": "2022-11-18T14:33:46.967474Z",
     "iopub.status.busy": "2022-11-18T14:33:46.967063Z",
     "iopub.status.idle": "2022-11-18T14:33:47.187058Z",
     "shell.execute_reply": "2022-11-18T14:33:47.186217Z"
    },
    "papermill": {
     "duration": 0.237812,
     "end_time": "2022-11-18T14:33:47.189219",
     "exception": false,
     "start_time": "2022-11-18T14:33:46.951407",
     "status": "completed"
    },
    "tags": []
   },
   "outputs": [
    {
     "data": {
      "image/png": "[encoded data removed]",
      "text/plain": [
       "<Figure size 720x360 with 1 Axes>"
      ]
     },
     "metadata": {
      "needs_background": "light"
     },
     "output_type": "display_data"
    }
   ],
   "source": [
    "cum_evr = np.cumsum(X_pca.explained_variance_ratio_)\n",
    "xs = np.arange(cum_evr.size) + 1\n",
    "plt.plot(xs, cum_evr, linewidth=2)\n",
    "plt.grid()\n"
   ]
  },
  {
   "cell_type": "markdown",
   "id": "7845b9bd",
   "metadata": {
    "papermill": {
     "duration": 0.014529,
     "end_time": "2022-11-18T14:33:47.218674",
     "exception": false,
     "start_time": "2022-11-18T14:33:47.204145",
     "status": "completed"
    },
    "tags": []
   },
   "source": [
    "## there is no obvious approximation of the curve at any value, so we rather will take all the complonents"
   ]
  },
  {
   "cell_type": "markdown",
   "id": "c3f64df4",
   "metadata": {
    "papermill": {
     "duration": 0.014433,
     "end_time": "2022-11-18T14:33:47.247945",
     "exception": false,
     "start_time": "2022-11-18T14:33:47.233512",
     "status": "completed"
    },
    "tags": []
   },
   "source": [
    "# LogisticRegression"
   ]
  },
  {
   "cell_type": "code",
   "execution_count": 28,
   "id": "8e4645a9",
   "metadata": {
    "execution": {
     "iopub.execute_input": "2022-11-18T14:33:47.283675Z",
     "iopub.status.busy": "2022-11-18T14:33:47.282982Z",
     "iopub.status.idle": "2022-11-18T14:33:47.379813Z",
     "shell.execute_reply": "2022-11-18T14:33:47.376707Z"
    },
    "papermill": {
     "duration": 0.120527,
     "end_time": "2022-11-18T14:33:47.384463",
     "exception": false,
     "start_time": "2022-11-18T14:33:47.263936",
     "status": "completed"
    },
    "tags": []
   },
   "outputs": [
    {
     "name": "stdout",
     "output_type": "stream",
     "text": [
      "CPU times: user 3 µs, sys: 1e+03 ns, total: 4 µs\n",
      "Wall time: 8.11 µs\n"
     ]
    },
    {
     "data": {
      "text/plain": [
       "LogisticRegression()"
      ]
     },
     "execution_count": 28,
     "metadata": {},
     "output_type": "execute_result"
    }
   ],
   "source": [
    "%time\n",
    "clf_log = LogisticRegression()\n",
    "clf_log.fit(X_train_scaled, y_train_num)"
   ]
  },
  {
   "cell_type": "code",
   "execution_count": 29,
   "id": "abe1649d",
   "metadata": {
    "execution": {
     "iopub.execute_input": "2022-11-18T14:33:47.468180Z",
     "iopub.status.busy": "2022-11-18T14:33:47.467398Z",
     "iopub.status.idle": "2022-11-18T14:33:47.761053Z",
     "shell.execute_reply": "2022-11-18T14:33:47.759912Z"
    },
    "papermill": {
     "duration": 0.338362,
     "end_time": "2022-11-18T14:33:47.763548",
     "exception": false,
     "start_time": "2022-11-18T14:33:47.425186",
     "status": "completed"
    },
    "tags": []
   },
   "outputs": [
    {
     "name": "stdout",
     "output_type": "stream",
     "text": [
      "TRAIN\n",
      "AUC: 0.7631934361303785\n",
      "TEST\n",
      "AUC: 0.7753190990566408\n"
     ]
    },
    {
     "data": {
      "text/plain": [
       "<matplotlib.legend.Legend at 0x7fe34f4d9bd0>"
      ]
     },
     "execution_count": 29,
     "metadata": {},
     "output_type": "execute_result"
    },
    {
     "data": {
      "image/png": "[encoded data removed]",
      "text/plain": [
       "<Figure size 720x360 with 1 Axes>"
      ]
     },
     "metadata": {
      "needs_background": "light"
     },
     "output_type": "display_data"
    }
   ],
   "source": [
    "y_pred_test_log= clf_log.predict_proba(X_test_scaled)[:,1]\n",
    "y_pred_train_log= clf_log.predict_proba(X_train_scaled)[:,1]\n",
    "print('TRAIN')\n",
    "roc_auc(y_train_num, y_pred_train_log, 'train')\n",
    "print(\"TEST\")\n",
    "roc_auc(y_test_num, y_pred_test_log, 'test')\n",
    "plt.legend()"
   ]
  },
  {
   "cell_type": "markdown",
   "id": "32ec1dca",
   "metadata": {
    "papermill": {
     "duration": 0.015279,
     "end_time": "2022-11-18T14:33:47.794693",
     "exception": false,
     "start_time": "2022-11-18T14:33:47.779414",
     "status": "completed"
    },
    "tags": []
   },
   "source": [
    "# Support Vector Machine without Kernel trick - Linear Support Vector Classification"
   ]
  },
  {
   "cell_type": "code",
   "execution_count": 30,
   "id": "87f7b145",
   "metadata": {
    "execution": {
     "iopub.execute_input": "2022-11-18T14:33:47.828880Z",
     "iopub.status.busy": "2022-11-18T14:33:47.828419Z",
     "iopub.status.idle": "2022-11-18T14:33:55.013231Z",
     "shell.execute_reply": "2022-11-18T14:33:55.011792Z"
    },
    "papermill": {
     "duration": 7.204746,
     "end_time": "2022-11-18T14:33:55.015949",
     "exception": false,
     "start_time": "2022-11-18T14:33:47.811203",
     "status": "completed"
    },
    "tags": []
   },
   "outputs": [
    {
     "name": "stdout",
     "output_type": "stream",
     "text": [
      "CPU times: user 3 µs, sys: 1e+03 ns, total: 4 µs\n",
      "Wall time: 7.63 µs\n"
     ]
    },
    {
     "name": "stderr",
     "output_type": "stream",
     "text": [
      "/opt/conda/lib/python3.7/site-packages/sklearn/svm/_base.py:1208: ConvergenceWarning: Liblinear failed to converge, increase the number of iterations.\n",
      "  ConvergenceWarning,\n"
     ]
    },
    {
     "data": {
      "text/plain": [
       "LinearSVC(C=100)"
      ]
     },
     "execution_count": 30,
     "metadata": {},
     "output_type": "execute_result"
    }
   ],
   "source": [
    "%time\n",
    "clf_lin_svc = LinearSVC(C=100)\n",
    "clf_lin_svc.fit(X_train_scaled, y_train_num)"
   ]
  },
  {
   "cell_type": "code",
   "execution_count": 31,
   "id": "5f76279d",
   "metadata": {
    "execution": {
     "iopub.execute_input": "2022-11-18T14:33:55.049792Z",
     "iopub.status.busy": "2022-11-18T14:33:55.049378Z",
     "iopub.status.idle": "2022-11-18T14:33:55.339588Z",
     "shell.execute_reply": "2022-11-18T14:33:55.338351Z"
    },
    "papermill": {
     "duration": 0.311554,
     "end_time": "2022-11-18T14:33:55.343582",
     "exception": false,
     "start_time": "2022-11-18T14:33:55.032028",
     "status": "completed"
    },
    "tags": []
   },
   "outputs": [
    {
     "name": "stdout",
     "output_type": "stream",
     "text": [
      "TRAIN\n",
      "AUC: 0.6325749989922901\n",
      "TEST\n",
      "AUC: 0.629918328550221\n"
     ]
    },
    {
     "data": {
      "text/plain": [
       "<matplotlib.legend.Legend at 0x7fe34f3d7cd0>"
      ]
     },
     "execution_count": 31,
     "metadata": {},
     "output_type": "execute_result"
    },
    {
     "data": {
      "image/png": "[encoded data removed]",
      "text/plain": [
       "<Figure size 720x360 with 1 Axes>"
      ]
     },
     "metadata": {
      "needs_background": "light"
     },
     "output_type": "display_data"
    }
   ],
   "source": [
    "y_pred_test_linsvc= clf_lin_svc.predict(X_test_scaled)\n",
    "y_pred_train_linsvc= clf_lin_svc.predict(X_train_scaled)\n",
    "print('TRAIN')\n",
    "roc_auc(y_train_num, y_pred_train_linsvc, 'train')\n",
    "print(\"TEST\")\n",
    "roc_auc(y_test_num, y_pred_test_linsvc, 'test')\n",
    "plt.legend()"
   ]
  },
  {
   "cell_type": "markdown",
   "id": "8c1ee88c",
   "metadata": {
    "papermill": {
     "duration": 0.016138,
     "end_time": "2022-11-18T14:33:55.377763",
     "exception": false,
     "start_time": "2022-11-18T14:33:55.361625",
     "status": "completed"
    },
    "tags": []
   },
   "source": [
    "# Support Vector Machine with kernel trick - SVC"
   ]
  },
  {
   "cell_type": "code",
   "execution_count": 32,
   "id": "f967ceb3",
   "metadata": {
    "execution": {
     "iopub.execute_input": "2022-11-18T14:33:55.421719Z",
     "iopub.status.busy": "2022-11-18T14:33:55.420945Z",
     "iopub.status.idle": "2022-11-18T14:35:18.957898Z",
     "shell.execute_reply": "2022-11-18T14:35:18.956741Z"
    },
    "papermill": {
     "duration": 83.575823,
     "end_time": "2022-11-18T14:35:18.978065",
     "exception": false,
     "start_time": "2022-11-18T14:33:55.402242",
     "status": "completed"
    },
    "tags": []
   },
   "outputs": [
    {
     "name": "stdout",
     "output_type": "stream",
     "text": [
      "CPU times: user 4 µs, sys: 0 ns, total: 4 µs\n",
      "Wall time: 8.11 µs\n"
     ]
    },
    {
     "data": {
      "text/plain": [
       "SVC()"
      ]
     },
     "execution_count": 32,
     "metadata": {},
     "output_type": "execute_result"
    }
   ],
   "source": [
    "%time\n",
    "clf_svc = SVC()\n",
    "clf_svc.fit(X_train_scaled, y_train_num)"
   ]
  },
  {
   "cell_type": "code",
   "execution_count": 33,
   "id": "7a335fda",
   "metadata": {
    "execution": {
     "iopub.execute_input": "2022-11-18T14:35:19.016598Z",
     "iopub.status.busy": "2022-11-18T14:35:19.015937Z",
     "iopub.status.idle": "2022-11-18T14:35:47.249933Z",
     "shell.execute_reply": "2022-11-18T14:35:47.248711Z"
    },
    "papermill": {
     "duration": 28.256687,
     "end_time": "2022-11-18T14:35:47.252464",
     "exception": false,
     "start_time": "2022-11-18T14:35:18.995777",
     "status": "completed"
    },
    "tags": []
   },
   "outputs": [
    {
     "name": "stdout",
     "output_type": "stream",
     "text": [
      "TRAIN\n",
      "AUC: 0.5880623782592166\n",
      "TEST\n",
      "AUC: 0.5708819976789161\n"
     ]
    },
    {
     "data": {
      "text/plain": [
       "<matplotlib.legend.Legend at 0x7fe34f380810>"
      ]
     },
     "execution_count": 33,
     "metadata": {},
     "output_type": "execute_result"
    },
    {
     "data": {
      "image/png": "[encoded data removed]",
      "text/plain": [
       "<Figure size 720x360 with 1 Axes>"
      ]
     },
     "metadata": {
      "needs_background": "light"
     },
     "output_type": "display_data"
    }
   ],
   "source": [
    "y_pred_test_svc= clf_svc.predict(X_test_scaled)\n",
    "y_pred_train_svc= clf_svc.predict(X_train_scaled)\n",
    "print('TRAIN')\n",
    "roc_auc(y_train_num, y_pred_train_svc, 'train')\n",
    "print(\"TEST\")\n",
    "roc_auc(y_test_num, y_pred_test_svc, 'test')\n",
    "plt.legend()"
   ]
  },
  {
   "cell_type": "code",
   "execution_count": 34,
   "id": "7d6ecce1",
   "metadata": {
    "execution": {
     "iopub.execute_input": "2022-11-18T14:35:47.290583Z",
     "iopub.status.busy": "2022-11-18T14:35:47.289269Z",
     "iopub.status.idle": "2022-11-18T14:35:47.419880Z",
     "shell.execute_reply": "2022-11-18T14:35:47.418716Z"
    },
    "papermill": {
     "duration": 0.152112,
     "end_time": "2022-11-18T14:35:47.422479",
     "exception": false,
     "start_time": "2022-11-18T14:35:47.270367",
     "status": "completed"
    },
    "tags": []
   },
   "outputs": [
    {
     "data": {
      "text/html": [
       "<div>\n",
       "<style scoped>\n",
       "    .dataframe tbody tr th:only-of-type {\n",
       "        vertical-align: middle;\n",
       "    }\n",
       "\n",
       "    .dataframe tbody tr th {\n",
       "        vertical-align: top;\n",
       "    }\n",
       "\n",
       "    .dataframe thead th {\n",
       "        text-align: right;\n",
       "    }\n",
       "</style>\n",
       "<table border=\"1\" class=\"dataframe\">\n",
       "  <thead>\n",
       "    <tr style=\"text-align: right;\">\n",
       "      <th></th>\n",
       "      <th>age</th>\n",
       "      <th>default</th>\n",
       "      <th>balance</th>\n",
       "      <th>housing</th>\n",
       "      <th>loan</th>\n",
       "      <th>campaign</th>\n",
       "      <th>pdays</th>\n",
       "      <th>previous</th>\n",
       "      <th>job_woe</th>\n",
       "      <th>marital_woe</th>\n",
       "      <th>education_woe</th>\n",
       "      <th>contact_woe</th>\n",
       "      <th>poutcome_woe</th>\n",
       "      <th>day_woe</th>\n",
       "      <th>month_woe</th>\n",
       "    </tr>\n",
       "  </thead>\n",
       "  <tbody>\n",
       "    <tr>\n",
       "      <th>0</th>\n",
       "      <td>1.702897</td>\n",
       "      <td>-0.134703</td>\n",
       "      <td>-0.426121</td>\n",
       "      <td>-1.122001</td>\n",
       "      <td>-0.436306</td>\n",
       "      <td>-0.250318</td>\n",
       "      <td>-0.411488</td>\n",
       "      <td>-0.237134</td>\n",
       "      <td>2.258927</td>\n",
       "      <td>-0.748156</td>\n",
       "      <td>-1.424794</td>\n",
       "      <td>0.660389</td>\n",
       "      <td>-0.312198</td>\n",
       "      <td>0.188106</td>\n",
       "      <td>0.084257</td>\n",
       "    </tr>\n",
       "    <tr>\n",
       "      <th>1</th>\n",
       "      <td>-1.031266</td>\n",
       "      <td>-0.134703</td>\n",
       "      <td>-0.429693</td>\n",
       "      <td>0.891265</td>\n",
       "      <td>-0.436306</td>\n",
       "      <td>-0.250318</td>\n",
       "      <td>-0.411488</td>\n",
       "      <td>-0.237134</td>\n",
       "      <td>-1.233384</td>\n",
       "      <td>-0.748156</td>\n",
       "      <td>-1.424794</td>\n",
       "      <td>0.660389</td>\n",
       "      <td>-0.312198</td>\n",
       "      <td>-0.172063</td>\n",
       "      <td>-0.236311</td>\n",
       "    </tr>\n",
       "    <tr>\n",
       "      <th>2</th>\n",
       "      <td>0.665801</td>\n",
       "      <td>-0.134703</td>\n",
       "      <td>-0.441060</td>\n",
       "      <td>0.891265</td>\n",
       "      <td>-0.436306</td>\n",
       "      <td>-0.250318</td>\n",
       "      <td>0.846084</td>\n",
       "      <td>2.236358</td>\n",
       "      <td>0.638725</td>\n",
       "      <td>-0.748156</td>\n",
       "      <td>1.378503</td>\n",
       "      <td>0.660389</td>\n",
       "      <td>0.446171</td>\n",
       "      <td>-0.913593</td>\n",
       "      <td>3.710459</td>\n",
       "    </tr>\n",
       "    <tr>\n",
       "      <th>3</th>\n",
       "      <td>-0.748422</td>\n",
       "      <td>-0.134703</td>\n",
       "      <td>-0.397215</td>\n",
       "      <td>0.891265</td>\n",
       "      <td>-0.436306</td>\n",
       "      <td>-0.571339</td>\n",
       "      <td>-0.411488</td>\n",
       "      <td>-0.237134</td>\n",
       "      <td>0.061952</td>\n",
       "      <td>1.527486</td>\n",
       "      <td>0.889755</td>\n",
       "      <td>0.660389</td>\n",
       "      <td>-0.312198</td>\n",
       "      <td>-0.488797</td>\n",
       "      <td>-0.899619</td>\n",
       "    </tr>\n",
       "    <tr>\n",
       "      <th>4</th>\n",
       "      <td>0.571519</td>\n",
       "      <td>-0.134703</td>\n",
       "      <td>-0.422223</td>\n",
       "      <td>-1.122001</td>\n",
       "      <td>-0.436306</td>\n",
       "      <td>-0.571339</td>\n",
       "      <td>-0.411488</td>\n",
       "      <td>-0.237134</td>\n",
       "      <td>0.061952</td>\n",
       "      <td>1.527486</td>\n",
       "      <td>-0.441347</td>\n",
       "      <td>0.362747</td>\n",
       "      <td>-0.312198</td>\n",
       "      <td>-0.147843</td>\n",
       "      <td>0.917458</td>\n",
       "    </tr>\n",
       "    <tr>\n",
       "      <th>...</th>\n",
       "      <td>...</td>\n",
       "      <td>...</td>\n",
       "      <td>...</td>\n",
       "      <td>...</td>\n",
       "      <td>...</td>\n",
       "      <td>...</td>\n",
       "      <td>...</td>\n",
       "      <td>...</td>\n",
       "      <td>...</td>\n",
       "      <td>...</td>\n",
       "      <td>...</td>\n",
       "      <td>...</td>\n",
       "      <td>...</td>\n",
       "      <td>...</td>\n",
       "      <td>...</td>\n",
       "    </tr>\n",
       "    <tr>\n",
       "      <th>31642</th>\n",
       "      <td>0.760082</td>\n",
       "      <td>-0.134703</td>\n",
       "      <td>0.655389</td>\n",
       "      <td>-1.122001</td>\n",
       "      <td>-0.436306</td>\n",
       "      <td>0.070702</td>\n",
       "      <td>-0.411488</td>\n",
       "      <td>-0.237134</td>\n",
       "      <td>-0.621902</td>\n",
       "      <td>-0.748156</td>\n",
       "      <td>-1.424794</td>\n",
       "      <td>-1.568752</td>\n",
       "      <td>-0.312198</td>\n",
       "      <td>0.004657</td>\n",
       "      <td>0.014853</td>\n",
       "    </tr>\n",
       "    <tr>\n",
       "      <th>31643</th>\n",
       "      <td>-0.842703</td>\n",
       "      <td>-0.134703</td>\n",
       "      <td>-0.353695</td>\n",
       "      <td>0.891265</td>\n",
       "      <td>-0.436306</td>\n",
       "      <td>-0.571339</td>\n",
       "      <td>-0.411488</td>\n",
       "      <td>-0.237134</td>\n",
       "      <td>0.287822</td>\n",
       "      <td>-0.748156</td>\n",
       "      <td>-0.441347</td>\n",
       "      <td>0.660389</td>\n",
       "      <td>-0.312198</td>\n",
       "      <td>-1.243605</td>\n",
       "      <td>-0.007651</td>\n",
       "    </tr>\n",
       "    <tr>\n",
       "      <th>31644</th>\n",
       "      <td>2.551430</td>\n",
       "      <td>-0.134703</td>\n",
       "      <td>-0.296534</td>\n",
       "      <td>-1.122001</td>\n",
       "      <td>-0.436306</td>\n",
       "      <td>-0.571339</td>\n",
       "      <td>-0.411488</td>\n",
       "      <td>-0.237134</td>\n",
       "      <td>2.258927</td>\n",
       "      <td>-0.748156</td>\n",
       "      <td>-0.441347</td>\n",
       "      <td>0.660389</td>\n",
       "      <td>-0.312198</td>\n",
       "      <td>-0.488797</td>\n",
       "      <td>0.917458</td>\n",
       "    </tr>\n",
       "    <tr>\n",
       "      <th>31645</th>\n",
       "      <td>1.231489</td>\n",
       "      <td>-0.134703</td>\n",
       "      <td>1.835631</td>\n",
       "      <td>-1.122001</td>\n",
       "      <td>-0.436306</td>\n",
       "      <td>-0.250318</td>\n",
       "      <td>-0.411488</td>\n",
       "      <td>-0.237134</td>\n",
       "      <td>0.638725</td>\n",
       "      <td>0.202239</td>\n",
       "      <td>1.378503</td>\n",
       "      <td>0.660389</td>\n",
       "      <td>-0.312198</td>\n",
       "      <td>-0.172063</td>\n",
       "      <td>3.926724</td>\n",
       "    </tr>\n",
       "    <tr>\n",
       "      <th>31646</th>\n",
       "      <td>-1.031266</td>\n",
       "      <td>-0.134703</td>\n",
       "      <td>-0.238399</td>\n",
       "      <td>0.891265</td>\n",
       "      <td>-0.436306</td>\n",
       "      <td>-0.250318</td>\n",
       "      <td>3.271400</td>\n",
       "      <td>0.175115</td>\n",
       "      <td>0.287822</td>\n",
       "      <td>-0.748156</td>\n",
       "      <td>-1.424794</td>\n",
       "      <td>0.660389</td>\n",
       "      <td>0.446171</td>\n",
       "      <td>0.888268</td>\n",
       "      <td>-0.899619</td>\n",
       "    </tr>\n",
       "  </tbody>\n",
       "</table>\n",
       "<p>31647 rows × 15 columns</p>\n",
       "</div>"
      ],
      "text/plain": [
       "            age   default   balance   housing      loan  campaign     pdays  \\\n",
       "0      1.702897 -0.134703 -0.426121 -1.122001 -0.436306 -0.250318 -0.411488   \n",
       "1     -1.031266 -0.134703 -0.429693  0.891265 -0.436306 -0.250318 -0.411488   \n",
       "2      0.665801 -0.134703 -0.441060  0.891265 -0.436306 -0.250318  0.846084   \n",
       "3     -0.748422 -0.134703 -0.397215  0.891265 -0.436306 -0.571339 -0.411488   \n",
       "4      0.571519 -0.134703 -0.422223 -1.122001 -0.436306 -0.571339 -0.411488   \n",
       "...         ...       ...       ...       ...       ...       ...       ...   \n",
       "31642  0.760082 -0.134703  0.655389 -1.122001 -0.436306  0.070702 -0.411488   \n",
       "31643 -0.842703 -0.134703 -0.353695  0.891265 -0.436306 -0.571339 -0.411488   \n",
       "31644  2.551430 -0.134703 -0.296534 -1.122001 -0.436306 -0.571339 -0.411488   \n",
       "31645  1.231489 -0.134703  1.835631 -1.122001 -0.436306 -0.250318 -0.411488   \n",
       "31646 -1.031266 -0.134703 -0.238399  0.891265 -0.436306 -0.250318  3.271400   \n",
       "\n",
       "       previous   job_woe  marital_woe  education_woe  contact_woe  \\\n",
       "0     -0.237134  2.258927    -0.748156      -1.424794     0.660389   \n",
       "1     -0.237134 -1.233384    -0.748156      -1.424794     0.660389   \n",
       "2      2.236358  0.638725    -0.748156       1.378503     0.660389   \n",
       "3     -0.237134  0.061952     1.527486       0.889755     0.660389   \n",
       "4     -0.237134  0.061952     1.527486      -0.441347     0.362747   \n",
       "...         ...       ...          ...            ...          ...   \n",
       "31642 -0.237134 -0.621902    -0.748156      -1.424794    -1.568752   \n",
       "31643 -0.237134  0.287822    -0.748156      -0.441347     0.660389   \n",
       "31644 -0.237134  2.258927    -0.748156      -0.441347     0.660389   \n",
       "31645 -0.237134  0.638725     0.202239       1.378503     0.660389   \n",
       "31646  0.175115  0.287822    -0.748156      -1.424794     0.660389   \n",
       "\n",
       "       poutcome_woe   day_woe  month_woe  \n",
       "0         -0.312198  0.188106   0.084257  \n",
       "1         -0.312198 -0.172063  -0.236311  \n",
       "2          0.446171 -0.913593   3.710459  \n",
       "3         -0.312198 -0.488797  -0.899619  \n",
       "4         -0.312198 -0.147843   0.917458  \n",
       "...             ...       ...        ...  \n",
       "31642     -0.312198  0.004657   0.014853  \n",
       "31643     -0.312198 -1.243605  -0.007651  \n",
       "31644     -0.312198 -0.488797   0.917458  \n",
       "31645     -0.312198 -0.172063   3.926724  \n",
       "31646      0.446171  0.888268  -0.899619  \n",
       "\n",
       "[31647 rows x 15 columns]"
      ]
     },
     "execution_count": 34,
     "metadata": {},
     "output_type": "execute_result"
    }
   ],
   "source": [
    "import xgboost as xg\n",
    "X_train_scaled"
   ]
  },
  {
   "cell_type": "code",
   "execution_count": 35,
   "id": "e6682179",
   "metadata": {
    "execution": {
     "iopub.execute_input": "2022-11-18T14:35:47.459865Z",
     "iopub.status.busy": "2022-11-18T14:35:47.459476Z",
     "iopub.status.idle": "2022-11-18T14:35:47.965700Z",
     "shell.execute_reply": "2022-11-18T14:35:47.964339Z"
    },
    "papermill": {
     "duration": 0.528198,
     "end_time": "2022-11-18T14:35:47.968599",
     "exception": false,
     "start_time": "2022-11-18T14:35:47.440401",
     "status": "completed"
    },
    "tags": []
   },
   "outputs": [],
   "source": [
    "from hyperopt import hp, fmin, tpe, Trials, STATUS_OK\n",
    "def score(params):\n",
    "    params['max_depth'] = int(params['max_depth'])\n",
    "    params['n_jobs'] = -1\n",
    "    clf_xgb = xg.XGBClassifier(**params)\n",
    "    clf_xgb.fit(X_train_scaled, y_train)\n",
    "    y_pred_test_xgb = clf_xgb.predict_proba(X_test_scaled)[:, 1]\n",
    "    auc = roc_auc(y_test, y_pred_test_xgb, prin=False)\n",
    "    result = {'loss': 1-auc, 'status': STATUS_OK}\n",
    "    print(f'{auc}')\n",
    "    return result\n",
    "\n",
    "space = {'max_depth': hp.quniform('max_depth', 1, 10, 1),\n",
    "        'min_child_weight': hp.quniform('min_child_weight', 1, 10, 1),\n",
    "        'subsample': hp.quniform('subsample', 0.5, 1, 0.05),\n",
    "        'gamma': hp.quniform('gamma', 0.5, 1, 0.05),\n",
    "        'colsample_bytree': hp.quniform('colsample_bytree', 0.5, 1, 0.05),\n",
    "        'silent': 1,\n",
    "        'n_estimators': 50, \n",
    "        'learning_rate': 0.01,\n",
    "         }"
   ]
  },
  {
   "cell_type": "code",
   "execution_count": 36,
   "id": "49bf97b5",
   "metadata": {
    "execution": {
     "iopub.execute_input": "2022-11-18T14:35:48.005926Z",
     "iopub.status.busy": "2022-11-18T14:35:48.005525Z",
     "iopub.status.idle": "2022-11-18T14:35:48.010146Z",
     "shell.execute_reply": "2022-11-18T14:35:48.009095Z"
    },
    "papermill": {
     "duration": 0.026082,
     "end_time": "2022-11-18T14:35:48.012455",
     "exception": false,
     "start_time": "2022-11-18T14:35:47.986373",
     "status": "completed"
    },
    "tags": []
   },
   "outputs": [],
   "source": [
    "trials = Trials()"
   ]
  },
  {
   "cell_type": "code",
   "execution_count": 37,
   "id": "f01abee1",
   "metadata": {
    "execution": {
     "iopub.execute_input": "2022-11-18T14:35:48.050340Z",
     "iopub.status.busy": "2022-11-18T14:35:48.049368Z",
     "iopub.status.idle": "2022-11-18T14:36:05.161417Z",
     "shell.execute_reply": "2022-11-18T14:36:05.160451Z"
    },
    "papermill": {
     "duration": 17.133379,
     "end_time": "2022-11-18T14:36:05.163871",
     "exception": false,
     "start_time": "2022-11-18T14:35:48.030492",
     "status": "completed"
    },
    "tags": []
   },
   "outputs": [
    {
     "name": "stdout",
     "output_type": "stream",
     "text": [
      "[14:35:48] WARNING: ../src/learner.cc:627: \n",
      "Parameters: { \"silent\" } might not be used.\n",
      "\n",
      "  This could be a false alarm, with some parameters getting used by language bindings but\n",
      "  then being mistakenly passed down to XGBoost core, or some parameter actually being used\n",
      "  but getting flagged wrongly here. Please open an issue if you find any such cases.\n",
      "\n",
      "\n",
      "0.777206064827361\n",
      "[14:35:48] WARNING: ../src/learner.cc:627: \n",
      "Parameters: { \"silent\" } might not be used.\n",
      "\n",
      "  This could be a false alarm, with some parameters getting used by language bindings but\n",
      "  then being mistakenly passed down to XGBoost core, or some parameter actually being used\n",
      "  but getting flagged wrongly here. Please open an issue if you find any such cases.\n",
      "\n",
      "\n",
      "0.7470482308061677\n",
      "[14:35:49] WARNING: ../src/learner.cc:627: \n",
      "Parameters: { \"silent\" } might not be used.\n",
      "\n",
      "  This could be a false alarm, with some parameters getting used by language bindings but\n",
      "  then being mistakenly passed down to XGBoost core, or some parameter actually being used\n",
      "  but getting flagged wrongly here. Please open an issue if you find any such cases.\n",
      "\n",
      "\n",
      "0.7398556748575916\n",
      "[14:35:49] WARNING: ../src/learner.cc:627: \n",
      "Parameters: { \"silent\" } might not be used.\n",
      "\n",
      "  This could be a false alarm, with some parameters getting used by language bindings but\n",
      "  then being mistakenly passed down to XGBoost core, or some parameter actually being used\n",
      "  but getting flagged wrongly here. Please open an issue if you find any such cases.\n",
      "\n",
      "\n",
      "0.7756020137104833\n",
      "[14:35:50] WARNING: ../src/learner.cc:627: \n",
      "Parameters: { \"silent\" } might not be used.\n",
      "\n",
      "  This could be a false alarm, with some parameters getting used by language bindings but\n",
      "  then being mistakenly passed down to XGBoost core, or some parameter actually being used\n",
      "  but getting flagged wrongly here. Please open an issue if you find any such cases.\n",
      "\n",
      "\n",
      "0.7815158112069347\n",
      "[14:35:51] WARNING: ../src/learner.cc:627: \n",
      "Parameters: { \"silent\" } might not be used.\n",
      "\n",
      "  This could be a false alarm, with some parameters getting used by language bindings but\n",
      "  then being mistakenly passed down to XGBoost core, or some parameter actually being used\n",
      "  but getting flagged wrongly here. Please open an issue if you find any such cases.\n",
      "\n",
      "\n",
      "0.7947360407594919\n",
      "[14:35:52] WARNING: ../src/learner.cc:627: \n",
      "Parameters: { \"silent\" } might not be used.\n",
      "\n",
      "  This could be a false alarm, with some parameters getting used by language bindings but\n",
      "  then being mistakenly passed down to XGBoost core, or some parameter actually being used\n",
      "  but getting flagged wrongly here. Please open an issue if you find any such cases.\n",
      "\n",
      "\n",
      "0.7962874021458584\n",
      "[14:35:54] WARNING: ../src/learner.cc:627: \n",
      "Parameters: { \"silent\" } might not be used.\n",
      "\n",
      "  This could be a false alarm, with some parameters getting used by language bindings but\n",
      "  then being mistakenly passed down to XGBoost core, or some parameter actually being used\n",
      "  but getting flagged wrongly here. Please open an issue if you find any such cases.\n",
      "\n",
      "\n",
      "0.7809245971813545\n",
      "[14:35:54] WARNING: ../src/learner.cc:627: \n",
      "Parameters: { \"silent\" } might not be used.\n",
      "\n",
      "  This could be a false alarm, with some parameters getting used by language bindings but\n",
      "  then being mistakenly passed down to XGBoost core, or some parameter actually being used\n",
      "  but getting flagged wrongly here. Please open an issue if you find any such cases.\n",
      "\n",
      "\n",
      "0.7683677899969902\n",
      "[14:35:55] WARNING: ../src/learner.cc:627: \n",
      "Parameters: { \"silent\" } might not be used.\n",
      "\n",
      "  This could be a false alarm, with some parameters getting used by language bindings but\n",
      "  then being mistakenly passed down to XGBoost core, or some parameter actually being used\n",
      "  but getting flagged wrongly here. Please open an issue if you find any such cases.\n",
      "\n",
      "\n",
      "0.788087270187414\n",
      "[14:35:56] WARNING: ../src/learner.cc:627: \n",
      "Parameters: { \"silent\" } might not be used.\n",
      "\n",
      "  This could be a false alarm, with some parameters getting used by language bindings but\n",
      "  then being mistakenly passed down to XGBoost core, or some parameter actually being used\n",
      "  but getting flagged wrongly here. Please open an issue if you find any such cases.\n",
      "\n",
      "\n",
      "0.7985906772900526\n",
      "[14:35:58] WARNING: ../src/learner.cc:627: \n",
      "Parameters: { \"silent\" } might not be used.\n",
      "\n",
      "  This could be a false alarm, with some parameters getting used by language bindings but\n",
      "  then being mistakenly passed down to XGBoost core, or some parameter actually being used\n",
      "  but getting flagged wrongly here. Please open an issue if you find any such cases.\n",
      "\n",
      "\n",
      "0.7956844296032843\n",
      "[14:35:59] WARNING: ../src/learner.cc:627: \n",
      "Parameters: { \"silent\" } might not be used.\n",
      "\n",
      "  This could be a false alarm, with some parameters getting used by language bindings but\n",
      "  then being mistakenly passed down to XGBoost core, or some parameter actually being used\n",
      "  but getting flagged wrongly here. Please open an issue if you find any such cases.\n",
      "\n",
      "\n",
      "0.7436260288636607\n",
      "[14:35:59] WARNING: ../src/learner.cc:627: \n",
      "Parameters: { \"silent\" } might not be used.\n",
      "\n",
      "  This could be a false alarm, with some parameters getting used by language bindings but\n",
      "  then being mistakenly passed down to XGBoost core, or some parameter actually being used\n",
      "  but getting flagged wrongly here. Please open an issue if you find any such cases.\n",
      "\n",
      "\n",
      "0.7798008301881273\n",
      "[14:36:00] WARNING: ../src/learner.cc:627: \n",
      "Parameters: { \"silent\" } might not be used.\n",
      "\n",
      "  This could be a false alarm, with some parameters getting used by language bindings but\n",
      "  then being mistakenly passed down to XGBoost core, or some parameter actually being used\n",
      "  but getting flagged wrongly here. Please open an issue if you find any such cases.\n",
      "\n",
      "\n",
      "0.7653801270751087\n",
      "[14:36:00] WARNING: ../src/learner.cc:627: \n",
      "Parameters: { \"silent\" } might not be used.\n",
      "\n",
      "  This could be a false alarm, with some parameters getting used by language bindings but\n",
      "  then being mistakenly passed down to XGBoost core, or some parameter actually being used\n",
      "  but getting flagged wrongly here. Please open an issue if you find any such cases.\n",
      "\n",
      "\n",
      "0.7680981858791628\n",
      "[14:36:01] WARNING: ../src/learner.cc:627: \n",
      "Parameters: { \"silent\" } might not be used.\n",
      "\n",
      "  This could be a false alarm, with some parameters getting used by language bindings but\n",
      "  then being mistakenly passed down to XGBoost core, or some parameter actually being used\n",
      "  but getting flagged wrongly here. Please open an issue if you find any such cases.\n",
      "\n",
      "\n",
      "0.7663858090956629\n",
      "[14:36:02] WARNING: ../src/learner.cc:627: \n",
      "Parameters: { \"silent\" } might not be used.\n",
      "\n",
      "  This could be a false alarm, with some parameters getting used by language bindings but\n",
      "  then being mistakenly passed down to XGBoost core, or some parameter actually being used\n",
      "  but getting flagged wrongly here. Please open an issue if you find any such cases.\n",
      "\n",
      "\n",
      "0.7937913346726994\n",
      "[14:36:03] WARNING: ../src/learner.cc:627: \n",
      "Parameters: { \"silent\" } might not be used.\n",
      "\n",
      "  This could be a false alarm, with some parameters getting used by language bindings but\n",
      "  then being mistakenly passed down to XGBoost core, or some parameter actually being used\n",
      "  but getting flagged wrongly here. Please open an issue if you find any such cases.\n",
      "\n",
      "\n",
      "0.7828036187191171\n",
      "[14:36:04] WARNING: ../src/learner.cc:627: \n",
      "Parameters: { \"silent\" } might not be used.\n",
      "\n",
      "  This could be a false alarm, with some parameters getting used by language bindings but\n",
      "  then being mistakenly passed down to XGBoost core, or some parameter actually being used\n",
      "  but getting flagged wrongly here. Please open an issue if you find any such cases.\n",
      "\n",
      "\n",
      "0.7777090768227846\n",
      "100%|██████████| 20/20 [00:17<00:00,  1.17trial/s, best loss: 0.20140932270994738]\n"
     ]
    }
   ],
   "source": [
    "best = fmin(score, space, algo = tpe.suggest, trials=trials, max_evals=20)"
   ]
  },
  {
   "cell_type": "code",
   "execution_count": 38,
   "id": "c1c20292",
   "metadata": {
    "execution": {
     "iopub.execute_input": "2022-11-18T14:36:05.222682Z",
     "iopub.status.busy": "2022-11-18T14:36:05.221570Z",
     "iopub.status.idle": "2022-11-18T14:36:05.229891Z",
     "shell.execute_reply": "2022-11-18T14:36:05.228695Z"
    },
    "papermill": {
     "duration": 0.040513,
     "end_time": "2022-11-18T14:36:05.232521",
     "exception": false,
     "start_time": "2022-11-18T14:36:05.192008",
     "status": "completed"
    },
    "tags": []
   },
   "outputs": [
    {
     "data": {
      "text/plain": [
       "{'state': 2,\n",
       " 'tid': 10,\n",
       " 'spec': None,\n",
       " 'result': {'loss': 0.20140932270994738, 'status': 'ok'},\n",
       " 'misc': {'tid': 10,\n",
       "  'cmd': ('domain_attachment', 'FMinIter_Domain'),\n",
       "  'workdir': None,\n",
       "  'idxs': {'colsample_bytree': [10],\n",
       "   'gamma': [10],\n",
       "   'max_depth': [10],\n",
       "   'min_child_weight': [10],\n",
       "   'subsample': [10]},\n",
       "  'vals': {'colsample_bytree': [0.55],\n",
       "   'gamma': [0.65],\n",
       "   'max_depth': [9.0],\n",
       "   'min_child_weight': [8.0],\n",
       "   'subsample': [0.8500000000000001]}},\n",
       " 'exp_key': None,\n",
       " 'owner': None,\n",
       " 'version': 0,\n",
       " 'book_time': datetime.datetime(2022, 11, 18, 14, 35, 56, 797000),\n",
       " 'refresh_time': datetime.datetime(2022, 11, 18, 14, 35, 58, 2000)}"
      ]
     },
     "execution_count": 38,
     "metadata": {},
     "output_type": "execute_result"
    }
   ],
   "source": [
    "trials.best_trial"
   ]
  },
  {
   "cell_type": "code",
   "execution_count": null,
   "id": "b059d29d",
   "metadata": {
    "papermill": {
     "duration": 0.027767,
     "end_time": "2022-11-18T14:36:05.287026",
     "exception": false,
     "start_time": "2022-11-18T14:36:05.259259",
     "status": "completed"
    },
    "tags": []
   },
   "outputs": [],
   "source": []
  }
 ],
 "metadata": {
  "kernelspec": {
   "display_name": "Python 3",
   "language": "python",
   "name": "python3"
  },
  "language_info": {
   "codemirror_mode": {
    "name": "ipython",
    "version": 3
   },
   "file_extension": ".py",
   "mimetype": "text/x-python",
   "name": "python",
   "nbconvert_exporter": "python",
   "pygments_lexer": "ipython3",
   "version": "3.7.12"
  },
  "papermill": {
   "default_parameters": {},
   "duration": 152.961259,
   "end_time": "2022-11-18T14:36:06.239491",
   "environment_variables": {},
   "exception": null,
   "input_path": "__notebook__.ipynb",
   "output_path": "__notebook__.ipynb",
   "parameters": {},
   "start_time": "2022-11-18T14:33:33.278232",
   "version": "2.3.4"
  }
 },
 "nbformat": 4,
 "nbformat_minor": 5
}
