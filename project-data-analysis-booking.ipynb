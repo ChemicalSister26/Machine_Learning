{
 "cells": [
  {
   "cell_type": "code",
   "execution_count": 1,
   "id": "25fe1ba6",
   "metadata": {
    "_cell_guid": "b1076dfc-b9ad-4769-8c92-a6c4dae69d19",
    "_uuid": "8f2839f25d086af736a60e9eeb907d3b93b6e0e5",
    "execution": {
     "iopub.execute_input": "2022-09-30T14:42:11.034549Z",
     "iopub.status.busy": "2022-09-30T14:42:11.033895Z",
     "iopub.status.idle": "2022-09-30T14:42:12.559679Z",
     "shell.execute_reply": "2022-09-30T14:42:12.558646Z"
    },
    "papermill": {
     "duration": 1.544096,
     "end_time": "2022-09-30T14:42:12.562705",
     "exception": false,
     "start_time": "2022-09-30T14:42:11.018609",
     "status": "completed"
    },
    "tags": []
   },
   "outputs": [],
   "source": [
    "import pandas as pd\n",
    "import seaborn as sns\n",
    "import matplotlib.pyplot as plt\n",
    "\n",
    "booking = pd.read_csv('/kaggle/input/bookings/bookings.csv', sep=';')"
   ]
  },
  {
   "cell_type": "code",
   "execution_count": 2,
   "id": "23a760c8",
   "metadata": {
    "execution": {
     "iopub.execute_input": "2022-09-30T14:42:12.587527Z",
     "iopub.status.busy": "2022-09-30T14:42:12.586724Z",
     "iopub.status.idle": "2022-09-30T14:42:12.723282Z",
     "shell.execute_reply": "2022-09-30T14:42:12.722054Z"
    },
    "papermill": {
     "duration": 0.152412,
     "end_time": "2022-09-30T14:42:12.726556",
     "exception": false,
     "start_time": "2022-09-30T14:42:12.574144",
     "status": "completed"
    },
    "tags": []
   },
   "outputs": [
    {
     "data": {
      "text/html": [
       "<div>\n",
       "<style scoped>\n",
       "    .dataframe tbody tr th:only-of-type {\n",
       "        vertical-align: middle;\n",
       "    }\n",
       "\n",
       "    .dataframe tbody tr th {\n",
       "        vertical-align: top;\n",
       "    }\n",
       "\n",
       "    .dataframe thead th {\n",
       "        text-align: right;\n",
       "    }\n",
       "</style>\n",
       "<table border=\"1\" class=\"dataframe\">\n",
       "  <thead>\n",
       "    <tr style=\"text-align: right;\">\n",
       "      <th></th>\n",
       "      <th>Hotel</th>\n",
       "      <th>Is Canceled</th>\n",
       "      <th>Lead Time</th>\n",
       "      <th>arrival full date</th>\n",
       "      <th>Arrival Date Year</th>\n",
       "      <th>Arrival Date Month</th>\n",
       "      <th>Arrival Date Week Number</th>\n",
       "      <th>Arrival Date Day of Month</th>\n",
       "      <th>Stays in Weekend nights</th>\n",
       "      <th>Stays in week nights</th>\n",
       "      <th>...</th>\n",
       "      <th>Adults</th>\n",
       "      <th>Children</th>\n",
       "      <th>Babies</th>\n",
       "      <th>Meal</th>\n",
       "      <th>Country</th>\n",
       "      <th>Reserved Room Type</th>\n",
       "      <th>Assigned room type</th>\n",
       "      <th>customer type</th>\n",
       "      <th>Reservation Status</th>\n",
       "      <th>Reservation status_date</th>\n",
       "    </tr>\n",
       "  </thead>\n",
       "  <tbody>\n",
       "    <tr>\n",
       "      <th>0</th>\n",
       "      <td>Resort Hotel</td>\n",
       "      <td>0</td>\n",
       "      <td>342</td>\n",
       "      <td>2015-07-01</td>\n",
       "      <td>2015</td>\n",
       "      <td>July</td>\n",
       "      <td>27</td>\n",
       "      <td>1</td>\n",
       "      <td>0</td>\n",
       "      <td>0</td>\n",
       "      <td>...</td>\n",
       "      <td>2</td>\n",
       "      <td>0.0</td>\n",
       "      <td>0</td>\n",
       "      <td>BB</td>\n",
       "      <td>PRT</td>\n",
       "      <td>C</td>\n",
       "      <td>C</td>\n",
       "      <td>Transient</td>\n",
       "      <td>Check-Out</td>\n",
       "      <td>2015-07-01</td>\n",
       "    </tr>\n",
       "    <tr>\n",
       "      <th>1</th>\n",
       "      <td>Resort Hotel</td>\n",
       "      <td>0</td>\n",
       "      <td>737</td>\n",
       "      <td>2015-07-01</td>\n",
       "      <td>2015</td>\n",
       "      <td>July</td>\n",
       "      <td>27</td>\n",
       "      <td>1</td>\n",
       "      <td>0</td>\n",
       "      <td>0</td>\n",
       "      <td>...</td>\n",
       "      <td>2</td>\n",
       "      <td>0.0</td>\n",
       "      <td>0</td>\n",
       "      <td>BB</td>\n",
       "      <td>PRT</td>\n",
       "      <td>C</td>\n",
       "      <td>C</td>\n",
       "      <td>Transient</td>\n",
       "      <td>Check-Out</td>\n",
       "      <td>2015-07-01</td>\n",
       "    </tr>\n",
       "    <tr>\n",
       "      <th>2</th>\n",
       "      <td>Resort Hotel</td>\n",
       "      <td>0</td>\n",
       "      <td>7</td>\n",
       "      <td>2015-07-01</td>\n",
       "      <td>2015</td>\n",
       "      <td>July</td>\n",
       "      <td>27</td>\n",
       "      <td>1</td>\n",
       "      <td>0</td>\n",
       "      <td>1</td>\n",
       "      <td>...</td>\n",
       "      <td>1</td>\n",
       "      <td>0.0</td>\n",
       "      <td>0</td>\n",
       "      <td>BB</td>\n",
       "      <td>GBR</td>\n",
       "      <td>A</td>\n",
       "      <td>C</td>\n",
       "      <td>Transient</td>\n",
       "      <td>Check-Out</td>\n",
       "      <td>2015-07-02</td>\n",
       "    </tr>\n",
       "    <tr>\n",
       "      <th>3</th>\n",
       "      <td>Resort Hotel</td>\n",
       "      <td>0</td>\n",
       "      <td>13</td>\n",
       "      <td>2015-07-01</td>\n",
       "      <td>2015</td>\n",
       "      <td>July</td>\n",
       "      <td>27</td>\n",
       "      <td>1</td>\n",
       "      <td>0</td>\n",
       "      <td>1</td>\n",
       "      <td>...</td>\n",
       "      <td>1</td>\n",
       "      <td>0.0</td>\n",
       "      <td>0</td>\n",
       "      <td>BB</td>\n",
       "      <td>GBR</td>\n",
       "      <td>A</td>\n",
       "      <td>A</td>\n",
       "      <td>Transient</td>\n",
       "      <td>Check-Out</td>\n",
       "      <td>2015-07-02</td>\n",
       "    </tr>\n",
       "    <tr>\n",
       "      <th>4</th>\n",
       "      <td>Resort Hotel</td>\n",
       "      <td>0</td>\n",
       "      <td>14</td>\n",
       "      <td>2015-07-01</td>\n",
       "      <td>2015</td>\n",
       "      <td>July</td>\n",
       "      <td>27</td>\n",
       "      <td>1</td>\n",
       "      <td>0</td>\n",
       "      <td>2</td>\n",
       "      <td>...</td>\n",
       "      <td>2</td>\n",
       "      <td>0.0</td>\n",
       "      <td>0</td>\n",
       "      <td>BB</td>\n",
       "      <td>GBR</td>\n",
       "      <td>A</td>\n",
       "      <td>A</td>\n",
       "      <td>Transient</td>\n",
       "      <td>Check-Out</td>\n",
       "      <td>2015-07-03</td>\n",
       "    </tr>\n",
       "    <tr>\n",
       "      <th>...</th>\n",
       "      <td>...</td>\n",
       "      <td>...</td>\n",
       "      <td>...</td>\n",
       "      <td>...</td>\n",
       "      <td>...</td>\n",
       "      <td>...</td>\n",
       "      <td>...</td>\n",
       "      <td>...</td>\n",
       "      <td>...</td>\n",
       "      <td>...</td>\n",
       "      <td>...</td>\n",
       "      <td>...</td>\n",
       "      <td>...</td>\n",
       "      <td>...</td>\n",
       "      <td>...</td>\n",
       "      <td>...</td>\n",
       "      <td>...</td>\n",
       "      <td>...</td>\n",
       "      <td>...</td>\n",
       "      <td>...</td>\n",
       "      <td>...</td>\n",
       "    </tr>\n",
       "    <tr>\n",
       "      <th>119385</th>\n",
       "      <td>City Hotel</td>\n",
       "      <td>0</td>\n",
       "      <td>23</td>\n",
       "      <td>2017-08-30</td>\n",
       "      <td>2017</td>\n",
       "      <td>August</td>\n",
       "      <td>35</td>\n",
       "      <td>30</td>\n",
       "      <td>2</td>\n",
       "      <td>5</td>\n",
       "      <td>...</td>\n",
       "      <td>2</td>\n",
       "      <td>0.0</td>\n",
       "      <td>0</td>\n",
       "      <td>BB</td>\n",
       "      <td>BEL</td>\n",
       "      <td>A</td>\n",
       "      <td>A</td>\n",
       "      <td>Transient</td>\n",
       "      <td>Check-Out</td>\n",
       "      <td>2017-09-06</td>\n",
       "    </tr>\n",
       "    <tr>\n",
       "      <th>119386</th>\n",
       "      <td>City Hotel</td>\n",
       "      <td>0</td>\n",
       "      <td>102</td>\n",
       "      <td>2017-08-31</td>\n",
       "      <td>2017</td>\n",
       "      <td>August</td>\n",
       "      <td>35</td>\n",
       "      <td>31</td>\n",
       "      <td>2</td>\n",
       "      <td>5</td>\n",
       "      <td>...</td>\n",
       "      <td>3</td>\n",
       "      <td>0.0</td>\n",
       "      <td>0</td>\n",
       "      <td>BB</td>\n",
       "      <td>FRA</td>\n",
       "      <td>E</td>\n",
       "      <td>E</td>\n",
       "      <td>Transient</td>\n",
       "      <td>Check-Out</td>\n",
       "      <td>2017-09-07</td>\n",
       "    </tr>\n",
       "    <tr>\n",
       "      <th>119387</th>\n",
       "      <td>City Hotel</td>\n",
       "      <td>0</td>\n",
       "      <td>34</td>\n",
       "      <td>2017-08-31</td>\n",
       "      <td>2017</td>\n",
       "      <td>August</td>\n",
       "      <td>35</td>\n",
       "      <td>31</td>\n",
       "      <td>2</td>\n",
       "      <td>5</td>\n",
       "      <td>...</td>\n",
       "      <td>2</td>\n",
       "      <td>0.0</td>\n",
       "      <td>0</td>\n",
       "      <td>BB</td>\n",
       "      <td>DEU</td>\n",
       "      <td>D</td>\n",
       "      <td>D</td>\n",
       "      <td>Transient</td>\n",
       "      <td>Check-Out</td>\n",
       "      <td>2017-09-07</td>\n",
       "    </tr>\n",
       "    <tr>\n",
       "      <th>119388</th>\n",
       "      <td>City Hotel</td>\n",
       "      <td>0</td>\n",
       "      <td>109</td>\n",
       "      <td>2017-08-31</td>\n",
       "      <td>2017</td>\n",
       "      <td>August</td>\n",
       "      <td>35</td>\n",
       "      <td>31</td>\n",
       "      <td>2</td>\n",
       "      <td>5</td>\n",
       "      <td>...</td>\n",
       "      <td>2</td>\n",
       "      <td>0.0</td>\n",
       "      <td>0</td>\n",
       "      <td>BB</td>\n",
       "      <td>GBR</td>\n",
       "      <td>A</td>\n",
       "      <td>A</td>\n",
       "      <td>Transient</td>\n",
       "      <td>Check-Out</td>\n",
       "      <td>2017-09-07</td>\n",
       "    </tr>\n",
       "    <tr>\n",
       "      <th>119389</th>\n",
       "      <td>City Hotel</td>\n",
       "      <td>0</td>\n",
       "      <td>205</td>\n",
       "      <td>2017-08-29</td>\n",
       "      <td>2017</td>\n",
       "      <td>August</td>\n",
       "      <td>35</td>\n",
       "      <td>29</td>\n",
       "      <td>2</td>\n",
       "      <td>7</td>\n",
       "      <td>...</td>\n",
       "      <td>2</td>\n",
       "      <td>0.0</td>\n",
       "      <td>0</td>\n",
       "      <td>HB</td>\n",
       "      <td>DEU</td>\n",
       "      <td>A</td>\n",
       "      <td>A</td>\n",
       "      <td>Transient</td>\n",
       "      <td>Check-Out</td>\n",
       "      <td>2017-09-07</td>\n",
       "    </tr>\n",
       "  </tbody>\n",
       "</table>\n",
       "<p>119390 rows × 21 columns</p>\n",
       "</div>"
      ],
      "text/plain": [
       "               Hotel  Is Canceled  Lead Time arrival full date  \\\n",
       "0       Resort Hotel            0        342        2015-07-01   \n",
       "1       Resort Hotel            0        737        2015-07-01   \n",
       "2       Resort Hotel            0          7        2015-07-01   \n",
       "3       Resort Hotel            0         13        2015-07-01   \n",
       "4       Resort Hotel            0         14        2015-07-01   \n",
       "...              ...          ...        ...               ...   \n",
       "119385    City Hotel            0         23        2017-08-30   \n",
       "119386    City Hotel            0        102        2017-08-31   \n",
       "119387    City Hotel            0         34        2017-08-31   \n",
       "119388    City Hotel            0        109        2017-08-31   \n",
       "119389    City Hotel            0        205        2017-08-29   \n",
       "\n",
       "        Arrival Date Year Arrival Date Month  Arrival Date Week Number  \\\n",
       "0                    2015               July                        27   \n",
       "1                    2015               July                        27   \n",
       "2                    2015               July                        27   \n",
       "3                    2015               July                        27   \n",
       "4                    2015               July                        27   \n",
       "...                   ...                ...                       ...   \n",
       "119385               2017             August                        35   \n",
       "119386               2017             August                        35   \n",
       "119387               2017             August                        35   \n",
       "119388               2017             August                        35   \n",
       "119389               2017             August                        35   \n",
       "\n",
       "        Arrival Date Day of Month  Stays in Weekend nights  \\\n",
       "0                               1                        0   \n",
       "1                               1                        0   \n",
       "2                               1                        0   \n",
       "3                               1                        0   \n",
       "4                               1                        0   \n",
       "...                           ...                      ...   \n",
       "119385                         30                        2   \n",
       "119386                         31                        2   \n",
       "119387                         31                        2   \n",
       "119388                         31                        2   \n",
       "119389                         29                        2   \n",
       "\n",
       "        Stays in week nights  ...  Adults  Children  Babies  Meal Country  \\\n",
       "0                          0  ...       2       0.0       0    BB     PRT   \n",
       "1                          0  ...       2       0.0       0    BB     PRT   \n",
       "2                          1  ...       1       0.0       0    BB     GBR   \n",
       "3                          1  ...       1       0.0       0    BB     GBR   \n",
       "4                          2  ...       2       0.0       0    BB     GBR   \n",
       "...                      ...  ...     ...       ...     ...   ...     ...   \n",
       "119385                     5  ...       2       0.0       0    BB     BEL   \n",
       "119386                     5  ...       3       0.0       0    BB     FRA   \n",
       "119387                     5  ...       2       0.0       0    BB     DEU   \n",
       "119388                     5  ...       2       0.0       0    BB     GBR   \n",
       "119389                     7  ...       2       0.0       0    HB     DEU   \n",
       "\n",
       "       Reserved Room Type Assigned room type customer type Reservation Status  \\\n",
       "0                       C                  C     Transient          Check-Out   \n",
       "1                       C                  C     Transient          Check-Out   \n",
       "2                       A                  C     Transient          Check-Out   \n",
       "3                       A                  A     Transient          Check-Out   \n",
       "4                       A                  A     Transient          Check-Out   \n",
       "...                   ...                ...           ...                ...   \n",
       "119385                  A                  A     Transient          Check-Out   \n",
       "119386                  E                  E     Transient          Check-Out   \n",
       "119387                  D                  D     Transient          Check-Out   \n",
       "119388                  A                  A     Transient          Check-Out   \n",
       "119389                  A                  A     Transient          Check-Out   \n",
       "\n",
       "       Reservation status_date  \n",
       "0                   2015-07-01  \n",
       "1                   2015-07-01  \n",
       "2                   2015-07-02  \n",
       "3                   2015-07-02  \n",
       "4                   2015-07-03  \n",
       "...                        ...  \n",
       "119385              2017-09-06  \n",
       "119386              2017-09-07  \n",
       "119387              2017-09-07  \n",
       "119388              2017-09-07  \n",
       "119389              2017-09-07  \n",
       "\n",
       "[119390 rows x 21 columns]"
      ]
     },
     "execution_count": 2,
     "metadata": {},
     "output_type": "execute_result"
    }
   ],
   "source": [
    "booking"
   ]
  },
  {
   "cell_type": "code",
   "execution_count": 3,
   "id": "8ef2092b",
   "metadata": {
    "execution": {
     "iopub.execute_input": "2022-09-30T14:42:12.751998Z",
     "iopub.status.busy": "2022-09-30T14:42:12.751589Z",
     "iopub.status.idle": "2022-09-30T14:42:12.760501Z",
     "shell.execute_reply": "2022-09-30T14:42:12.759409Z"
    },
    "papermill": {
     "duration": 0.024346,
     "end_time": "2022-09-30T14:42:12.762788",
     "exception": false,
     "start_time": "2022-09-30T14:42:12.738442",
     "status": "completed"
    },
    "tags": []
   },
   "outputs": [
    {
     "data": {
      "text/plain": [
       "Hotel                         object\n",
       "Is Canceled                    int64\n",
       "Lead Time                      int64\n",
       "arrival full date             object\n",
       "Arrival Date Year              int64\n",
       "Arrival Date Month            object\n",
       "Arrival Date Week Number       int64\n",
       "Arrival Date Day of Month      int64\n",
       "Stays in Weekend nights        int64\n",
       "Stays in week nights           int64\n",
       "stays total nights             int64\n",
       "Adults                         int64\n",
       "Children                     float64\n",
       "Babies                         int64\n",
       "Meal                          object\n",
       "Country                       object\n",
       "Reserved Room Type            object\n",
       "Assigned room type            object\n",
       "customer type                 object\n",
       "Reservation Status            object\n",
       "Reservation status_date       object\n",
       "dtype: object"
      ]
     },
     "execution_count": 3,
     "metadata": {},
     "output_type": "execute_result"
    }
   ],
   "source": [
    "booking.dtypes"
   ]
  },
  {
   "cell_type": "code",
   "execution_count": 4,
   "id": "f1eefeef",
   "metadata": {
    "execution": {
     "iopub.execute_input": "2022-09-30T14:42:12.790310Z",
     "iopub.status.busy": "2022-09-30T14:42:12.789547Z",
     "iopub.status.idle": "2022-09-30T14:42:12.797247Z",
     "shell.execute_reply": "2022-09-30T14:42:12.795846Z"
    },
    "papermill": {
     "duration": 0.023306,
     "end_time": "2022-09-30T14:42:12.799504",
     "exception": false,
     "start_time": "2022-09-30T14:42:12.776198",
     "status": "completed"
    },
    "tags": []
   },
   "outputs": [
    {
     "data": {
      "text/plain": [
       "(119390, 21)"
      ]
     },
     "execution_count": 4,
     "metadata": {},
     "output_type": "execute_result"
    }
   ],
   "source": [
    "booking.shape"
   ]
  },
  {
   "cell_type": "code",
   "execution_count": 5,
   "id": "8603f843",
   "metadata": {
    "execution": {
     "iopub.execute_input": "2022-09-30T14:42:12.826510Z",
     "iopub.status.busy": "2022-09-30T14:42:12.826131Z",
     "iopub.status.idle": "2022-09-30T14:42:12.852274Z",
     "shell.execute_reply": "2022-09-30T14:42:12.851263Z"
    },
    "papermill": {
     "duration": 0.042502,
     "end_time": "2022-09-30T14:42:12.854891",
     "exception": false,
     "start_time": "2022-09-30T14:42:12.812389",
     "status": "completed"
    },
    "tags": []
   },
   "outputs": [],
   "source": [
    "# prepare data for comfortable work with them - rename columns\n",
    "bookings = booking.rename(str.lower, axis=1)"
   ]
  },
  {
   "cell_type": "code",
   "execution_count": 6,
   "id": "809ad795",
   "metadata": {
    "execution": {
     "iopub.execute_input": "2022-09-30T14:42:12.881254Z",
     "iopub.status.busy": "2022-09-30T14:42:12.880841Z",
     "iopub.status.idle": "2022-09-30T14:42:12.885387Z",
     "shell.execute_reply": "2022-09-30T14:42:12.884414Z"
    },
    "papermill": {
     "duration": 0.020372,
     "end_time": "2022-09-30T14:42:12.887597",
     "exception": false,
     "start_time": "2022-09-30T14:42:12.867225",
     "status": "completed"
    },
    "tags": []
   },
   "outputs": [],
   "source": [
    "def replace_spaces(x):\n",
    "    return x.replace(' ', '_')"
   ]
  },
  {
   "cell_type": "code",
   "execution_count": 7,
   "id": "8904aab1",
   "metadata": {
    "execution": {
     "iopub.execute_input": "2022-09-30T14:42:12.913833Z",
     "iopub.status.busy": "2022-09-30T14:42:12.913401Z",
     "iopub.status.idle": "2022-09-30T14:42:12.962846Z",
     "shell.execute_reply": "2022-09-30T14:42:12.961713Z"
    },
    "papermill": {
     "duration": 0.065575,
     "end_time": "2022-09-30T14:42:12.965420",
     "exception": false,
     "start_time": "2022-09-30T14:42:12.899845",
     "status": "completed"
    },
    "tags": []
   },
   "outputs": [
    {
     "data": {
      "text/html": [
       "<div>\n",
       "<style scoped>\n",
       "    .dataframe tbody tr th:only-of-type {\n",
       "        vertical-align: middle;\n",
       "    }\n",
       "\n",
       "    .dataframe tbody tr th {\n",
       "        vertical-align: top;\n",
       "    }\n",
       "\n",
       "    .dataframe thead th {\n",
       "        text-align: right;\n",
       "    }\n",
       "</style>\n",
       "<table border=\"1\" class=\"dataframe\">\n",
       "  <thead>\n",
       "    <tr style=\"text-align: right;\">\n",
       "      <th></th>\n",
       "      <th>hotel</th>\n",
       "      <th>is_canceled</th>\n",
       "      <th>lead_time</th>\n",
       "      <th>arrival_full_date</th>\n",
       "      <th>arrival_date_year</th>\n",
       "      <th>arrival_date_month</th>\n",
       "      <th>arrival_date_week_number</th>\n",
       "      <th>arrival_date_day_of_month</th>\n",
       "      <th>stays_in_weekend_nights</th>\n",
       "      <th>stays_in_week_nights</th>\n",
       "      <th>...</th>\n",
       "      <th>adults</th>\n",
       "      <th>children</th>\n",
       "      <th>babies</th>\n",
       "      <th>meal</th>\n",
       "      <th>country</th>\n",
       "      <th>reserved_room_type</th>\n",
       "      <th>assigned_room_type</th>\n",
       "      <th>customer_type</th>\n",
       "      <th>reservation_status</th>\n",
       "      <th>reservation_status_date</th>\n",
       "    </tr>\n",
       "  </thead>\n",
       "  <tbody>\n",
       "    <tr>\n",
       "      <th>0</th>\n",
       "      <td>Resort Hotel</td>\n",
       "      <td>0</td>\n",
       "      <td>342</td>\n",
       "      <td>2015-07-01</td>\n",
       "      <td>2015</td>\n",
       "      <td>July</td>\n",
       "      <td>27</td>\n",
       "      <td>1</td>\n",
       "      <td>0</td>\n",
       "      <td>0</td>\n",
       "      <td>...</td>\n",
       "      <td>2</td>\n",
       "      <td>0.0</td>\n",
       "      <td>0</td>\n",
       "      <td>BB</td>\n",
       "      <td>PRT</td>\n",
       "      <td>C</td>\n",
       "      <td>C</td>\n",
       "      <td>Transient</td>\n",
       "      <td>Check-Out</td>\n",
       "      <td>2015-07-01</td>\n",
       "    </tr>\n",
       "    <tr>\n",
       "      <th>1</th>\n",
       "      <td>Resort Hotel</td>\n",
       "      <td>0</td>\n",
       "      <td>737</td>\n",
       "      <td>2015-07-01</td>\n",
       "      <td>2015</td>\n",
       "      <td>July</td>\n",
       "      <td>27</td>\n",
       "      <td>1</td>\n",
       "      <td>0</td>\n",
       "      <td>0</td>\n",
       "      <td>...</td>\n",
       "      <td>2</td>\n",
       "      <td>0.0</td>\n",
       "      <td>0</td>\n",
       "      <td>BB</td>\n",
       "      <td>PRT</td>\n",
       "      <td>C</td>\n",
       "      <td>C</td>\n",
       "      <td>Transient</td>\n",
       "      <td>Check-Out</td>\n",
       "      <td>2015-07-01</td>\n",
       "    </tr>\n",
       "    <tr>\n",
       "      <th>2</th>\n",
       "      <td>Resort Hotel</td>\n",
       "      <td>0</td>\n",
       "      <td>7</td>\n",
       "      <td>2015-07-01</td>\n",
       "      <td>2015</td>\n",
       "      <td>July</td>\n",
       "      <td>27</td>\n",
       "      <td>1</td>\n",
       "      <td>0</td>\n",
       "      <td>1</td>\n",
       "      <td>...</td>\n",
       "      <td>1</td>\n",
       "      <td>0.0</td>\n",
       "      <td>0</td>\n",
       "      <td>BB</td>\n",
       "      <td>GBR</td>\n",
       "      <td>A</td>\n",
       "      <td>C</td>\n",
       "      <td>Transient</td>\n",
       "      <td>Check-Out</td>\n",
       "      <td>2015-07-02</td>\n",
       "    </tr>\n",
       "    <tr>\n",
       "      <th>3</th>\n",
       "      <td>Resort Hotel</td>\n",
       "      <td>0</td>\n",
       "      <td>13</td>\n",
       "      <td>2015-07-01</td>\n",
       "      <td>2015</td>\n",
       "      <td>July</td>\n",
       "      <td>27</td>\n",
       "      <td>1</td>\n",
       "      <td>0</td>\n",
       "      <td>1</td>\n",
       "      <td>...</td>\n",
       "      <td>1</td>\n",
       "      <td>0.0</td>\n",
       "      <td>0</td>\n",
       "      <td>BB</td>\n",
       "      <td>GBR</td>\n",
       "      <td>A</td>\n",
       "      <td>A</td>\n",
       "      <td>Transient</td>\n",
       "      <td>Check-Out</td>\n",
       "      <td>2015-07-02</td>\n",
       "    </tr>\n",
       "    <tr>\n",
       "      <th>4</th>\n",
       "      <td>Resort Hotel</td>\n",
       "      <td>0</td>\n",
       "      <td>14</td>\n",
       "      <td>2015-07-01</td>\n",
       "      <td>2015</td>\n",
       "      <td>July</td>\n",
       "      <td>27</td>\n",
       "      <td>1</td>\n",
       "      <td>0</td>\n",
       "      <td>2</td>\n",
       "      <td>...</td>\n",
       "      <td>2</td>\n",
       "      <td>0.0</td>\n",
       "      <td>0</td>\n",
       "      <td>BB</td>\n",
       "      <td>GBR</td>\n",
       "      <td>A</td>\n",
       "      <td>A</td>\n",
       "      <td>Transient</td>\n",
       "      <td>Check-Out</td>\n",
       "      <td>2015-07-03</td>\n",
       "    </tr>\n",
       "  </tbody>\n",
       "</table>\n",
       "<p>5 rows × 21 columns</p>\n",
       "</div>"
      ],
      "text/plain": [
       "          hotel  is_canceled  lead_time arrival_full_date  arrival_date_year  \\\n",
       "0  Resort Hotel            0        342        2015-07-01               2015   \n",
       "1  Resort Hotel            0        737        2015-07-01               2015   \n",
       "2  Resort Hotel            0          7        2015-07-01               2015   \n",
       "3  Resort Hotel            0         13        2015-07-01               2015   \n",
       "4  Resort Hotel            0         14        2015-07-01               2015   \n",
       "\n",
       "  arrival_date_month  arrival_date_week_number  arrival_date_day_of_month  \\\n",
       "0               July                        27                          1   \n",
       "1               July                        27                          1   \n",
       "2               July                        27                          1   \n",
       "3               July                        27                          1   \n",
       "4               July                        27                          1   \n",
       "\n",
       "   stays_in_weekend_nights  stays_in_week_nights  ...  adults  children  \\\n",
       "0                        0                     0  ...       2       0.0   \n",
       "1                        0                     0  ...       2       0.0   \n",
       "2                        0                     1  ...       1       0.0   \n",
       "3                        0                     1  ...       1       0.0   \n",
       "4                        0                     2  ...       2       0.0   \n",
       "\n",
       "   babies  meal country reserved_room_type assigned_room_type customer_type  \\\n",
       "0       0    BB     PRT                  C                  C     Transient   \n",
       "1       0    BB     PRT                  C                  C     Transient   \n",
       "2       0    BB     GBR                  A                  C     Transient   \n",
       "3       0    BB     GBR                  A                  A     Transient   \n",
       "4       0    BB     GBR                  A                  A     Transient   \n",
       "\n",
       "  reservation_status reservation_status_date  \n",
       "0          Check-Out              2015-07-01  \n",
       "1          Check-Out              2015-07-01  \n",
       "2          Check-Out              2015-07-02  \n",
       "3          Check-Out              2015-07-02  \n",
       "4          Check-Out              2015-07-03  \n",
       "\n",
       "[5 rows x 21 columns]"
      ]
     },
     "execution_count": 7,
     "metadata": {},
     "output_type": "execute_result"
    }
   ],
   "source": [
    "bookings = bookings.rename(replace_spaces, axis=1)\n",
    "bookings.head()"
   ]
  },
  {
   "cell_type": "code",
   "execution_count": 8,
   "id": "1e205415",
   "metadata": {
    "execution": {
     "iopub.execute_input": "2022-09-30T14:42:12.992979Z",
     "iopub.status.busy": "2022-09-30T14:42:12.992282Z",
     "iopub.status.idle": "2022-09-30T14:42:13.023911Z",
     "shell.execute_reply": "2022-09-30T14:42:13.022757Z"
    },
    "papermill": {
     "duration": 0.048178,
     "end_time": "2022-09-30T14:42:13.026322",
     "exception": false,
     "start_time": "2022-09-30T14:42:12.978144",
     "status": "completed"
    },
    "tags": []
   },
   "outputs": [
    {
     "data": {
      "text/html": [
       "<div>\n",
       "<style scoped>\n",
       "    .dataframe tbody tr th:only-of-type {\n",
       "        vertical-align: middle;\n",
       "    }\n",
       "\n",
       "    .dataframe tbody tr th {\n",
       "        vertical-align: top;\n",
       "    }\n",
       "\n",
       "    .dataframe thead th {\n",
       "        text-align: right;\n",
       "    }\n",
       "</style>\n",
       "<table border=\"1\" class=\"dataframe\">\n",
       "  <thead>\n",
       "    <tr style=\"text-align: right;\">\n",
       "      <th></th>\n",
       "      <th>is_canceled</th>\n",
       "    </tr>\n",
       "    <tr>\n",
       "      <th>country</th>\n",
       "      <th></th>\n",
       "    </tr>\n",
       "  </thead>\n",
       "  <tbody>\n",
       "    <tr>\n",
       "      <th>PRT</th>\n",
       "      <td>27519</td>\n",
       "    </tr>\n",
       "    <tr>\n",
       "      <th>GBR</th>\n",
       "      <td>2453</td>\n",
       "    </tr>\n",
       "    <tr>\n",
       "      <th>ESP</th>\n",
       "      <td>2177</td>\n",
       "    </tr>\n",
       "    <tr>\n",
       "      <th>FRA</th>\n",
       "      <td>1934</td>\n",
       "    </tr>\n",
       "    <tr>\n",
       "      <th>ITA</th>\n",
       "      <td>1333</td>\n",
       "    </tr>\n",
       "    <tr>\n",
       "      <th>...</th>\n",
       "      <td>...</td>\n",
       "    </tr>\n",
       "    <tr>\n",
       "      <th>DJI</th>\n",
       "      <td>0</td>\n",
       "    </tr>\n",
       "    <tr>\n",
       "      <th>SDN</th>\n",
       "      <td>0</td>\n",
       "    </tr>\n",
       "    <tr>\n",
       "      <th>CYM</th>\n",
       "      <td>0</td>\n",
       "    </tr>\n",
       "    <tr>\n",
       "      <th>CUB</th>\n",
       "      <td>0</td>\n",
       "    </tr>\n",
       "    <tr>\n",
       "      <th>ABW</th>\n",
       "      <td>0</td>\n",
       "    </tr>\n",
       "  </tbody>\n",
       "</table>\n",
       "<p>177 rows × 1 columns</p>\n",
       "</div>"
      ],
      "text/plain": [
       "         is_canceled\n",
       "country             \n",
       "PRT            27519\n",
       "GBR             2453\n",
       "ESP             2177\n",
       "FRA             1934\n",
       "ITA             1333\n",
       "...              ...\n",
       "DJI                0\n",
       "SDN                0\n",
       "CYM                0\n",
       "CUB                0\n",
       "ABW                0\n",
       "\n",
       "[177 rows x 1 columns]"
      ]
     },
     "execution_count": 8,
     "metadata": {},
     "output_type": "execute_result"
    }
   ],
   "source": [
    "# top 5 countries with successful booking\n",
    "\n",
    "bookings.groupby('country').aggregate({'is_canceled': 'sum'}).sort_values('is_canceled', ascending=False)\n"
   ]
  },
  {
   "cell_type": "code",
   "execution_count": 9,
   "id": "2c5c24c4",
   "metadata": {
    "execution": {
     "iopub.execute_input": "2022-09-30T14:42:13.059171Z",
     "iopub.status.busy": "2022-09-30T14:42:13.058042Z",
     "iopub.status.idle": "2022-09-30T14:42:13.089050Z",
     "shell.execute_reply": "2022-09-30T14:42:13.086116Z"
    },
    "papermill": {
     "duration": 0.051608,
     "end_time": "2022-09-30T14:42:13.092834",
     "exception": false,
     "start_time": "2022-09-30T14:42:13.041226",
     "status": "completed"
    },
    "tags": []
   },
   "outputs": [
    {
     "data": {
      "text/html": [
       "<div>\n",
       "<style scoped>\n",
       "    .dataframe tbody tr th:only-of-type {\n",
       "        vertical-align: middle;\n",
       "    }\n",
       "\n",
       "    .dataframe tbody tr th {\n",
       "        vertical-align: top;\n",
       "    }\n",
       "\n",
       "    .dataframe thead th {\n",
       "        text-align: right;\n",
       "    }\n",
       "</style>\n",
       "<table border=\"1\" class=\"dataframe\">\n",
       "  <thead>\n",
       "    <tr style=\"text-align: right;\">\n",
       "      <th></th>\n",
       "      <th>all_nights</th>\n",
       "    </tr>\n",
       "    <tr>\n",
       "      <th>hotel</th>\n",
       "      <th></th>\n",
       "    </tr>\n",
       "  </thead>\n",
       "  <tbody>\n",
       "    <tr>\n",
       "      <th>City Hotel</th>\n",
       "      <td>2.978142</td>\n",
       "    </tr>\n",
       "    <tr>\n",
       "      <th>Resort Hotel</th>\n",
       "      <td>4.318547</td>\n",
       "    </tr>\n",
       "  </tbody>\n",
       "</table>\n",
       "</div>"
      ],
      "text/plain": [
       "              all_nights\n",
       "hotel                   \n",
       "City Hotel      2.978142\n",
       "Resort Hotel    4.318547"
      ]
     },
     "execution_count": 9,
     "metadata": {},
     "output_type": "execute_result"
    }
   ],
   "source": [
    "# What mean number of reserved nights for booking in different hotel's types\n",
    "bookings['all_nights'] = bookings.stays_in_weekend_nights + bookings.stays_in_week_nights\n",
    "bookings.groupby('hotel').agg({'all_nights': 'mean'})\n"
   ]
  },
  {
   "cell_type": "code",
   "execution_count": 10,
   "id": "0b8ff564",
   "metadata": {
    "execution": {
     "iopub.execute_input": "2022-09-30T14:42:13.125167Z",
     "iopub.status.busy": "2022-09-30T14:42:13.124754Z",
     "iopub.status.idle": "2022-09-30T14:42:13.160505Z",
     "shell.execute_reply": "2022-09-30T14:42:13.159278Z"
    },
    "papermill": {
     "duration": 0.056004,
     "end_time": "2022-09-30T14:42:13.163442",
     "exception": false,
     "start_time": "2022-09-30T14:42:13.107438",
     "status": "completed"
    },
    "tags": []
   },
   "outputs": [
    {
     "data": {
      "text/plain": [
       "14917"
      ]
     },
     "execution_count": 10,
     "metadata": {},
     "output_type": "execute_result"
    }
   ],
   "source": [
    "# Sometimes type of assigned room differs (assigned_room_type) from inintial type\n",
    "# of reserved room (reserved_room_type) due to overbooking\n",
    "# how much times does this occure in this dstaset?\n",
    "\n",
    "different_rooms_cases = bookings.query('reserved_room_type != assigned_room_type').shape[0]\n",
    "different_rooms_cases"
   ]
  },
  {
   "cell_type": "code",
   "execution_count": 11,
   "id": "a8c7a77f",
   "metadata": {
    "execution": {
     "iopub.execute_input": "2022-09-30T14:42:13.190618Z",
     "iopub.status.busy": "2022-09-30T14:42:13.190237Z",
     "iopub.status.idle": "2022-09-30T14:42:13.193935Z",
     "shell.execute_reply": "2022-09-30T14:42:13.193085Z"
    },
    "papermill": {
     "duration": 0.019749,
     "end_time": "2022-09-30T14:42:13.195875",
     "exception": false,
     "start_time": "2022-09-30T14:42:13.176126",
     "status": "completed"
    },
    "tags": []
   },
   "outputs": [],
   "source": [
    "# wich month was more successful for booking in 2016?\n",
    "# does it changed in 2017? \n"
   ]
  },
  {
   "cell_type": "code",
   "execution_count": 12,
   "id": "d6231cf6",
   "metadata": {
    "execution": {
     "iopub.execute_input": "2022-09-30T14:42:13.223490Z",
     "iopub.status.busy": "2022-09-30T14:42:13.222591Z",
     "iopub.status.idle": "2022-09-30T14:42:13.252310Z",
     "shell.execute_reply": "2022-09-30T14:42:13.251140Z"
    },
    "papermill": {
     "duration": 0.045842,
     "end_time": "2022-09-30T14:42:13.254557",
     "exception": false,
     "start_time": "2022-09-30T14:42:13.208715",
     "status": "completed"
    },
    "tags": []
   },
   "outputs": [
    {
     "data": {
      "text/plain": [
       "October      6203\n",
       "May          5478\n",
       "April        5428\n",
       "September    5394\n",
       "June         5292\n",
       "August       5063\n",
       "March        4824\n",
       "July         4572\n",
       "November     4454\n",
       "February     3891\n",
       "December     3860\n",
       "January      2248\n",
       "Name: arrival_date_month, dtype: int64"
      ]
     },
     "execution_count": 12,
     "metadata": {},
     "output_type": "execute_result"
    }
   ],
   "source": [
    "bookings_of_2016_best_month = bookings.query('arrival_date_year == 2016').arrival_date_month.value_counts()\n",
    "bookings_of_2016_best_month"
   ]
  },
  {
   "cell_type": "code",
   "execution_count": 13,
   "id": "785b5328",
   "metadata": {
    "execution": {
     "iopub.execute_input": "2022-09-30T14:42:13.282484Z",
     "iopub.status.busy": "2022-09-30T14:42:13.281828Z",
     "iopub.status.idle": "2022-09-30T14:42:13.306364Z",
     "shell.execute_reply": "2022-09-30T14:42:13.305059Z"
    },
    "papermill": {
     "duration": 0.041594,
     "end_time": "2022-09-30T14:42:13.308993",
     "exception": false,
     "start_time": "2022-09-30T14:42:13.267399",
     "status": "completed"
    },
    "tags": []
   },
   "outputs": [
    {
     "data": {
      "text/plain": [
       "May         6313\n",
       "April       5661\n",
       "June        5647\n",
       "July        5313\n",
       "March       4970\n",
       "August      4925\n",
       "February    4177\n",
       "January     3681\n",
       "Name: arrival_date_month, dtype: int64"
      ]
     },
     "execution_count": 13,
     "metadata": {},
     "output_type": "execute_result"
    }
   ],
   "source": [
    "bookings_of_2017_best_month = bookings.query('arrival_date_year == 2017').arrival_date_month.value_counts()\n",
    "bookings_of_2017_best_month"
   ]
  },
  {
   "cell_type": "code",
   "execution_count": 14,
   "id": "772670df",
   "metadata": {
    "execution": {
     "iopub.execute_input": "2022-09-30T14:42:13.337250Z",
     "iopub.status.busy": "2022-09-30T14:42:13.336811Z",
     "iopub.status.idle": "2022-09-30T14:42:13.341694Z",
     "shell.execute_reply": "2022-09-30T14:42:13.340423Z"
    },
    "papermill": {
     "duration": 0.021787,
     "end_time": "2022-09-30T14:42:13.343964",
     "exception": false,
     "start_time": "2022-09-30T14:42:13.322177",
     "status": "completed"
    },
    "tags": []
   },
   "outputs": [],
   "source": [
    "# group data by years and check in which month there was max of cancellations for City Hotel types in each year."
   ]
  },
  {
   "cell_type": "code",
   "execution_count": 15,
   "id": "9fe73896",
   "metadata": {
    "execution": {
     "iopub.execute_input": "2022-09-30T14:42:13.372578Z",
     "iopub.status.busy": "2022-09-30T14:42:13.371400Z",
     "iopub.status.idle": "2022-09-30T14:42:13.394733Z",
     "shell.execute_reply": "2022-09-30T14:42:13.393797Z"
    },
    "papermill": {
     "duration": 0.039721,
     "end_time": "2022-09-30T14:42:13.396807",
     "exception": false,
     "start_time": "2022-09-30T14:42:13.357086",
     "status": "completed"
    },
    "tags": []
   },
   "outputs": [
    {
     "data": {
      "text/html": [
       "<div>\n",
       "<style scoped>\n",
       "    .dataframe tbody tr th:only-of-type {\n",
       "        vertical-align: middle;\n",
       "    }\n",
       "\n",
       "    .dataframe tbody tr th {\n",
       "        vertical-align: top;\n",
       "    }\n",
       "\n",
       "    .dataframe thead th {\n",
       "        text-align: right;\n",
       "    }\n",
       "</style>\n",
       "<table border=\"1\" class=\"dataframe\">\n",
       "  <thead>\n",
       "    <tr style=\"text-align: right;\">\n",
       "      <th></th>\n",
       "      <th>hotel</th>\n",
       "      <th>is_canceled</th>\n",
       "      <th>lead_time</th>\n",
       "      <th>arrival_full_date</th>\n",
       "      <th>arrival_date_year</th>\n",
       "      <th>arrival_date_month</th>\n",
       "      <th>arrival_date_week_number</th>\n",
       "      <th>arrival_date_day_of_month</th>\n",
       "      <th>stays_in_weekend_nights</th>\n",
       "      <th>stays_in_week_nights</th>\n",
       "      <th>...</th>\n",
       "      <th>children</th>\n",
       "      <th>babies</th>\n",
       "      <th>meal</th>\n",
       "      <th>country</th>\n",
       "      <th>reserved_room_type</th>\n",
       "      <th>assigned_room_type</th>\n",
       "      <th>customer_type</th>\n",
       "      <th>reservation_status</th>\n",
       "      <th>reservation_status_date</th>\n",
       "      <th>all_nights</th>\n",
       "    </tr>\n",
       "  </thead>\n",
       "  <tbody>\n",
       "    <tr>\n",
       "      <th>0</th>\n",
       "      <td>Resort Hotel</td>\n",
       "      <td>0</td>\n",
       "      <td>342</td>\n",
       "      <td>2015-07-01</td>\n",
       "      <td>2015</td>\n",
       "      <td>July</td>\n",
       "      <td>27</td>\n",
       "      <td>1</td>\n",
       "      <td>0</td>\n",
       "      <td>0</td>\n",
       "      <td>...</td>\n",
       "      <td>0.0</td>\n",
       "      <td>0</td>\n",
       "      <td>BB</td>\n",
       "      <td>PRT</td>\n",
       "      <td>C</td>\n",
       "      <td>C</td>\n",
       "      <td>Transient</td>\n",
       "      <td>Check-Out</td>\n",
       "      <td>2015-07-01</td>\n",
       "      <td>0</td>\n",
       "    </tr>\n",
       "    <tr>\n",
       "      <th>1</th>\n",
       "      <td>Resort Hotel</td>\n",
       "      <td>0</td>\n",
       "      <td>737</td>\n",
       "      <td>2015-07-01</td>\n",
       "      <td>2015</td>\n",
       "      <td>July</td>\n",
       "      <td>27</td>\n",
       "      <td>1</td>\n",
       "      <td>0</td>\n",
       "      <td>0</td>\n",
       "      <td>...</td>\n",
       "      <td>0.0</td>\n",
       "      <td>0</td>\n",
       "      <td>BB</td>\n",
       "      <td>PRT</td>\n",
       "      <td>C</td>\n",
       "      <td>C</td>\n",
       "      <td>Transient</td>\n",
       "      <td>Check-Out</td>\n",
       "      <td>2015-07-01</td>\n",
       "      <td>0</td>\n",
       "    </tr>\n",
       "    <tr>\n",
       "      <th>2</th>\n",
       "      <td>Resort Hotel</td>\n",
       "      <td>0</td>\n",
       "      <td>7</td>\n",
       "      <td>2015-07-01</td>\n",
       "      <td>2015</td>\n",
       "      <td>July</td>\n",
       "      <td>27</td>\n",
       "      <td>1</td>\n",
       "      <td>0</td>\n",
       "      <td>1</td>\n",
       "      <td>...</td>\n",
       "      <td>0.0</td>\n",
       "      <td>0</td>\n",
       "      <td>BB</td>\n",
       "      <td>GBR</td>\n",
       "      <td>A</td>\n",
       "      <td>C</td>\n",
       "      <td>Transient</td>\n",
       "      <td>Check-Out</td>\n",
       "      <td>2015-07-02</td>\n",
       "      <td>1</td>\n",
       "    </tr>\n",
       "    <tr>\n",
       "      <th>3</th>\n",
       "      <td>Resort Hotel</td>\n",
       "      <td>0</td>\n",
       "      <td>13</td>\n",
       "      <td>2015-07-01</td>\n",
       "      <td>2015</td>\n",
       "      <td>July</td>\n",
       "      <td>27</td>\n",
       "      <td>1</td>\n",
       "      <td>0</td>\n",
       "      <td>1</td>\n",
       "      <td>...</td>\n",
       "      <td>0.0</td>\n",
       "      <td>0</td>\n",
       "      <td>BB</td>\n",
       "      <td>GBR</td>\n",
       "      <td>A</td>\n",
       "      <td>A</td>\n",
       "      <td>Transient</td>\n",
       "      <td>Check-Out</td>\n",
       "      <td>2015-07-02</td>\n",
       "      <td>1</td>\n",
       "    </tr>\n",
       "    <tr>\n",
       "      <th>4</th>\n",
       "      <td>Resort Hotel</td>\n",
       "      <td>0</td>\n",
       "      <td>14</td>\n",
       "      <td>2015-07-01</td>\n",
       "      <td>2015</td>\n",
       "      <td>July</td>\n",
       "      <td>27</td>\n",
       "      <td>1</td>\n",
       "      <td>0</td>\n",
       "      <td>2</td>\n",
       "      <td>...</td>\n",
       "      <td>0.0</td>\n",
       "      <td>0</td>\n",
       "      <td>BB</td>\n",
       "      <td>GBR</td>\n",
       "      <td>A</td>\n",
       "      <td>A</td>\n",
       "      <td>Transient</td>\n",
       "      <td>Check-Out</td>\n",
       "      <td>2015-07-03</td>\n",
       "      <td>2</td>\n",
       "    </tr>\n",
       "  </tbody>\n",
       "</table>\n",
       "<p>5 rows × 22 columns</p>\n",
       "</div>"
      ],
      "text/plain": [
       "          hotel  is_canceled  lead_time arrival_full_date  arrival_date_year  \\\n",
       "0  Resort Hotel            0        342        2015-07-01               2015   \n",
       "1  Resort Hotel            0        737        2015-07-01               2015   \n",
       "2  Resort Hotel            0          7        2015-07-01               2015   \n",
       "3  Resort Hotel            0         13        2015-07-01               2015   \n",
       "4  Resort Hotel            0         14        2015-07-01               2015   \n",
       "\n",
       "  arrival_date_month  arrival_date_week_number  arrival_date_day_of_month  \\\n",
       "0               July                        27                          1   \n",
       "1               July                        27                          1   \n",
       "2               July                        27                          1   \n",
       "3               July                        27                          1   \n",
       "4               July                        27                          1   \n",
       "\n",
       "   stays_in_weekend_nights  stays_in_week_nights  ...  children  babies  meal  \\\n",
       "0                        0                     0  ...       0.0       0    BB   \n",
       "1                        0                     0  ...       0.0       0    BB   \n",
       "2                        0                     1  ...       0.0       0    BB   \n",
       "3                        0                     1  ...       0.0       0    BB   \n",
       "4                        0                     2  ...       0.0       0    BB   \n",
       "\n",
       "   country reserved_room_type assigned_room_type customer_type  \\\n",
       "0      PRT                  C                  C     Transient   \n",
       "1      PRT                  C                  C     Transient   \n",
       "2      GBR                  A                  C     Transient   \n",
       "3      GBR                  A                  A     Transient   \n",
       "4      GBR                  A                  A     Transient   \n",
       "\n",
       "  reservation_status reservation_status_date all_nights  \n",
       "0          Check-Out              2015-07-01          0  \n",
       "1          Check-Out              2015-07-01          0  \n",
       "2          Check-Out              2015-07-02          1  \n",
       "3          Check-Out              2015-07-02          1  \n",
       "4          Check-Out              2015-07-03          2  \n",
       "\n",
       "[5 rows x 22 columns]"
      ]
     },
     "execution_count": 15,
     "metadata": {},
     "output_type": "execute_result"
    }
   ],
   "source": [
    "bookings.head()"
   ]
  },
  {
   "cell_type": "code",
   "execution_count": 16,
   "id": "930e93b9",
   "metadata": {
    "execution": {
     "iopub.execute_input": "2022-09-30T14:42:13.425871Z",
     "iopub.status.busy": "2022-09-30T14:42:13.424967Z",
     "iopub.status.idle": "2022-09-30T14:42:13.459623Z",
     "shell.execute_reply": "2022-09-30T14:42:13.458237Z"
    },
    "papermill": {
     "duration": 0.051997,
     "end_time": "2022-09-30T14:42:13.462342",
     "exception": false,
     "start_time": "2022-09-30T14:42:13.410345",
     "status": "completed"
    },
    "tags": []
   },
   "outputs": [
    {
     "data": {
      "text/html": [
       "<div>\n",
       "<style scoped>\n",
       "    .dataframe tbody tr th:only-of-type {\n",
       "        vertical-align: middle;\n",
       "    }\n",
       "\n",
       "    .dataframe tbody tr th {\n",
       "        vertical-align: top;\n",
       "    }\n",
       "\n",
       "    .dataframe thead th {\n",
       "        text-align: right;\n",
       "    }\n",
       "</style>\n",
       "<table border=\"1\" class=\"dataframe\">\n",
       "  <thead>\n",
       "    <tr style=\"text-align: right;\">\n",
       "      <th></th>\n",
       "      <th></th>\n",
       "      <th>is_canceled</th>\n",
       "    </tr>\n",
       "    <tr>\n",
       "      <th>arrival_date_year</th>\n",
       "      <th>arrival_date_month</th>\n",
       "      <th></th>\n",
       "    </tr>\n",
       "  </thead>\n",
       "  <tbody>\n",
       "    <tr>\n",
       "      <th rowspan=\"6\" valign=\"top\">2015</th>\n",
       "      <th>August</th>\n",
       "      <td>1232</td>\n",
       "    </tr>\n",
       "    <tr>\n",
       "      <th>December</th>\n",
       "      <td>668</td>\n",
       "    </tr>\n",
       "    <tr>\n",
       "      <th>July</th>\n",
       "      <td>939</td>\n",
       "    </tr>\n",
       "    <tr>\n",
       "      <th>November</th>\n",
       "      <td>301</td>\n",
       "    </tr>\n",
       "    <tr>\n",
       "      <th>October</th>\n",
       "      <td>1321</td>\n",
       "    </tr>\n",
       "    <tr>\n",
       "      <th>September</th>\n",
       "      <td>1543</td>\n",
       "    </tr>\n",
       "    <tr>\n",
       "      <th rowspan=\"12\" valign=\"top\">2016</th>\n",
       "      <th>April</th>\n",
       "      <td>1539</td>\n",
       "    </tr>\n",
       "    <tr>\n",
       "      <th>August</th>\n",
       "      <td>1247</td>\n",
       "    </tr>\n",
       "    <tr>\n",
       "      <th>December</th>\n",
       "      <td>1072</td>\n",
       "    </tr>\n",
       "    <tr>\n",
       "      <th>February</th>\n",
       "      <td>930</td>\n",
       "    </tr>\n",
       "    <tr>\n",
       "      <th>January</th>\n",
       "      <td>438</td>\n",
       "    </tr>\n",
       "    <tr>\n",
       "      <th>July</th>\n",
       "      <td>1043</td>\n",
       "    </tr>\n",
       "    <tr>\n",
       "      <th>June</th>\n",
       "      <td>1720</td>\n",
       "    </tr>\n",
       "    <tr>\n",
       "      <th>March</th>\n",
       "      <td>1108</td>\n",
       "    </tr>\n",
       "    <tr>\n",
       "      <th>May</th>\n",
       "      <td>1436</td>\n",
       "    </tr>\n",
       "    <tr>\n",
       "      <th>November</th>\n",
       "      <td>1360</td>\n",
       "    </tr>\n",
       "    <tr>\n",
       "      <th>October</th>\n",
       "      <td>1947</td>\n",
       "    </tr>\n",
       "    <tr>\n",
       "      <th>September</th>\n",
       "      <td>1567</td>\n",
       "    </tr>\n",
       "    <tr>\n",
       "      <th rowspan=\"8\" valign=\"top\">2017</th>\n",
       "      <th>April</th>\n",
       "      <td>1926</td>\n",
       "    </tr>\n",
       "    <tr>\n",
       "      <th>August</th>\n",
       "      <td>1123</td>\n",
       "    </tr>\n",
       "    <tr>\n",
       "      <th>February</th>\n",
       "      <td>971</td>\n",
       "    </tr>\n",
       "    <tr>\n",
       "      <th>January</th>\n",
       "      <td>1044</td>\n",
       "    </tr>\n",
       "    <tr>\n",
       "      <th>July</th>\n",
       "      <td>1324</td>\n",
       "    </tr>\n",
       "    <tr>\n",
       "      <th>June</th>\n",
       "      <td>1808</td>\n",
       "    </tr>\n",
       "    <tr>\n",
       "      <th>March</th>\n",
       "      <td>1278</td>\n",
       "    </tr>\n",
       "    <tr>\n",
       "      <th>May</th>\n",
       "      <td>2217</td>\n",
       "    </tr>\n",
       "  </tbody>\n",
       "</table>\n",
       "</div>"
      ],
      "text/plain": [
       "                                      is_canceled\n",
       "arrival_date_year arrival_date_month             \n",
       "2015              August                     1232\n",
       "                  December                    668\n",
       "                  July                        939\n",
       "                  November                    301\n",
       "                  October                    1321\n",
       "                  September                  1543\n",
       "2016              April                      1539\n",
       "                  August                     1247\n",
       "                  December                   1072\n",
       "                  February                    930\n",
       "                  January                     438\n",
       "                  July                       1043\n",
       "                  June                       1720\n",
       "                  March                      1108\n",
       "                  May                        1436\n",
       "                  November                   1360\n",
       "                  October                    1947\n",
       "                  September                  1567\n",
       "2017              April                      1926\n",
       "                  August                     1123\n",
       "                  February                    971\n",
       "                  January                    1044\n",
       "                  July                       1324\n",
       "                  June                       1808\n",
       "                  March                      1278\n",
       "                  May                        2217"
      ]
     },
     "execution_count": 16,
     "metadata": {},
     "output_type": "execute_result"
    }
   ],
   "source": [
    "bookings.query('hotel == \"City Hotel\" and is_canceled == 1').groupby(['arrival_date_year', 'arrival_date_month']).agg({'is_canceled': 'sum'})"
   ]
  },
  {
   "cell_type": "code",
   "execution_count": 17,
   "id": "2f67aab2",
   "metadata": {
    "execution": {
     "iopub.execute_input": "2022-09-30T14:42:13.492233Z",
     "iopub.status.busy": "2022-09-30T14:42:13.491073Z",
     "iopub.status.idle": "2022-09-30T14:42:13.498881Z",
     "shell.execute_reply": "2022-09-30T14:42:13.497931Z"
    },
    "papermill": {
     "duration": 0.024932,
     "end_time": "2022-09-30T14:42:13.501106",
     "exception": false,
     "start_time": "2022-09-30T14:42:13.476174",
     "status": "completed"
    },
    "tags": []
   },
   "outputs": [
    {
     "data": {
      "text/plain": [
       "1.8564033838679956"
      ]
     },
     "execution_count": 17,
     "metadata": {},
     "output_type": "execute_result"
    }
   ],
   "source": [
    "# whatis max mean among mean for adults, children и babies\n",
    "bookings.adults.mean()\n"
   ]
  },
  {
   "cell_type": "code",
   "execution_count": 18,
   "id": "0a0f36b3",
   "metadata": {
    "execution": {
     "iopub.execute_input": "2022-09-30T14:42:13.531397Z",
     "iopub.status.busy": "2022-09-30T14:42:13.530605Z",
     "iopub.status.idle": "2022-09-30T14:42:13.538375Z",
     "shell.execute_reply": "2022-09-30T14:42:13.537528Z"
    },
    "papermill": {
     "duration": 0.025519,
     "end_time": "2022-09-30T14:42:13.540490",
     "exception": false,
     "start_time": "2022-09-30T14:42:13.514971",
     "status": "completed"
    },
    "tags": []
   },
   "outputs": [
    {
     "data": {
      "text/plain": [
       "0.10388990333874994"
      ]
     },
     "execution_count": 18,
     "metadata": {},
     "output_type": "execute_result"
    }
   ],
   "source": [
    "bookings.children.mean()"
   ]
  },
  {
   "cell_type": "code",
   "execution_count": 19,
   "id": "5bf1a9ba",
   "metadata": {
    "execution": {
     "iopub.execute_input": "2022-09-30T14:42:13.570141Z",
     "iopub.status.busy": "2022-09-30T14:42:13.569383Z",
     "iopub.status.idle": "2022-09-30T14:42:13.576543Z",
     "shell.execute_reply": "2022-09-30T14:42:13.575708Z"
    },
    "papermill": {
     "duration": 0.024507,
     "end_time": "2022-09-30T14:42:13.578712",
     "exception": false,
     "start_time": "2022-09-30T14:42:13.554205",
     "status": "completed"
    },
    "tags": []
   },
   "outputs": [
    {
     "data": {
      "text/plain": [
       "0.007948739425412514"
      ]
     },
     "execution_count": 19,
     "metadata": {},
     "output_type": "execute_result"
    }
   ],
   "source": [
    "bookings.babies.mean()"
   ]
  },
  {
   "cell_type": "code",
   "execution_count": 20,
   "id": "a9b5e176",
   "metadata": {
    "execution": {
     "iopub.execute_input": "2022-09-30T14:42:13.608720Z",
     "iopub.status.busy": "2022-09-30T14:42:13.607936Z",
     "iopub.status.idle": "2022-09-30T14:42:13.612566Z",
     "shell.execute_reply": "2022-09-30T14:42:13.611823Z"
    },
    "papermill": {
     "duration": 0.022212,
     "end_time": "2022-09-30T14:42:13.614781",
     "exception": false,
     "start_time": "2022-09-30T14:42:13.592569",
     "status": "completed"
    },
    "tags": []
   },
   "outputs": [],
   "source": [
    "#  create column total_kids, join there children and babies. Which type of hotels is more popular for families with children.\n"
   ]
  },
  {
   "cell_type": "code",
   "execution_count": 21,
   "id": "c83e61d1",
   "metadata": {
    "execution": {
     "iopub.execute_input": "2022-09-30T14:42:13.644685Z",
     "iopub.status.busy": "2022-09-30T14:42:13.644243Z",
     "iopub.status.idle": "2022-09-30T14:42:13.650490Z",
     "shell.execute_reply": "2022-09-30T14:42:13.649552Z"
    },
    "papermill": {
     "duration": 0.023733,
     "end_time": "2022-09-30T14:42:13.652676",
     "exception": false,
     "start_time": "2022-09-30T14:42:13.628943",
     "status": "completed"
    },
    "tags": []
   },
   "outputs": [],
   "source": [
    "bookings['total_kids'] = bookings.children + bookings.babies"
   ]
  },
  {
   "cell_type": "code",
   "execution_count": 22,
   "id": "693bac0d",
   "metadata": {
    "execution": {
     "iopub.execute_input": "2022-09-30T14:42:13.682617Z",
     "iopub.status.busy": "2022-09-30T14:42:13.681837Z",
     "iopub.status.idle": "2022-09-30T14:42:13.701087Z",
     "shell.execute_reply": "2022-09-30T14:42:13.700135Z"
    },
    "papermill": {
     "duration": 0.036747,
     "end_time": "2022-09-30T14:42:13.703464",
     "exception": false,
     "start_time": "2022-09-30T14:42:13.666717",
     "status": "completed"
    },
    "tags": []
   },
   "outputs": [
    {
     "data": {
      "text/plain": [
       "hotel\n",
       "City Hotel      0.096311\n",
       "Resort Hotel    0.142586\n",
       "Name: total_kids, dtype: float64"
      ]
     },
     "execution_count": 22,
     "metadata": {},
     "output_type": "execute_result"
    }
   ],
   "source": [
    "bookings.groupby('hotel').total_kids.mean()"
   ]
  },
  {
   "cell_type": "code",
   "execution_count": 23,
   "id": "11fc713b",
   "metadata": {
    "execution": {
     "iopub.execute_input": "2022-09-30T14:42:13.733737Z",
     "iopub.status.busy": "2022-09-30T14:42:13.733297Z",
     "iopub.status.idle": "2022-09-30T14:42:13.737728Z",
     "shell.execute_reply": "2022-09-30T14:42:13.736690Z"
    },
    "papermill": {
     "duration": 0.022151,
     "end_time": "2022-09-30T14:42:13.739891",
     "exception": false,
     "start_time": "2022-09-30T14:42:13.717740",
     "status": "completed"
    },
    "tags": []
   },
   "outputs": [],
   "source": [
    "# create variable has_kids, which turns True if client pointed out one or more children during booking (total_kids),\n",
    "# else – False. Count churn rate - amount of cancelled users to all users, in which group this caracteristics is higher."
   ]
  },
  {
   "cell_type": "code",
   "execution_count": 24,
   "id": "0fc20d48",
   "metadata": {
    "execution": {
     "iopub.execute_input": "2022-09-30T14:42:13.769789Z",
     "iopub.status.busy": "2022-09-30T14:42:13.769368Z",
     "iopub.status.idle": "2022-09-30T14:42:13.775499Z",
     "shell.execute_reply": "2022-09-30T14:42:13.774705Z"
    },
    "papermill": {
     "duration": 0.023391,
     "end_time": "2022-09-30T14:42:13.777622",
     "exception": false,
     "start_time": "2022-09-30T14:42:13.754231",
     "status": "completed"
    },
    "tags": []
   },
   "outputs": [],
   "source": [
    "bookings['has_kids'] = bookings['total_kids'] != 0"
   ]
  },
  {
   "cell_type": "code",
   "execution_count": 25,
   "id": "5e931d77",
   "metadata": {
    "execution": {
     "iopub.execute_input": "2022-09-30T14:42:13.807994Z",
     "iopub.status.busy": "2022-09-30T14:42:13.807075Z",
     "iopub.status.idle": "2022-09-30T14:42:13.815623Z",
     "shell.execute_reply": "2022-09-30T14:42:13.814679Z"
    },
    "papermill": {
     "duration": 0.025885,
     "end_time": "2022-09-30T14:42:13.817609",
     "exception": false,
     "start_time": "2022-09-30T14:42:13.791724",
     "status": "completed"
    },
    "tags": []
   },
   "outputs": [
    {
     "data": {
      "text/plain": [
       "0         False\n",
       "1         False\n",
       "2         False\n",
       "3         False\n",
       "4         False\n",
       "          ...  \n",
       "119385    False\n",
       "119386    False\n",
       "119387    False\n",
       "119388    False\n",
       "119389    False\n",
       "Name: has_kids, Length: 119390, dtype: bool"
      ]
     },
     "execution_count": 25,
     "metadata": {},
     "output_type": "execute_result"
    }
   ],
   "source": [
    "bookings.has_kids"
   ]
  },
  {
   "cell_type": "code",
   "execution_count": 26,
   "id": "498d89dc",
   "metadata": {
    "execution": {
     "iopub.execute_input": "2022-09-30T14:42:13.848001Z",
     "iopub.status.busy": "2022-09-30T14:42:13.847550Z",
     "iopub.status.idle": "2022-09-30T14:42:13.871866Z",
     "shell.execute_reply": "2022-09-30T14:42:13.870767Z"
    },
    "papermill": {
     "duration": 0.042378,
     "end_time": "2022-09-30T14:42:13.874250",
     "exception": false,
     "start_time": "2022-09-30T14:42:13.831872",
     "status": "completed"
    },
    "tags": []
   },
   "outputs": [
    {
     "data": {
      "text/plain": [
       "0.37041628277075134"
      ]
     },
     "execution_count": 26,
     "metadata": {},
     "output_type": "execute_result"
    }
   ],
   "source": [
    "churn_rate = bookings.query('is_canceled == 1').shape[0]/(bookings.shape[0])\n",
    "churn_rate"
   ]
  },
  {
   "cell_type": "code",
   "execution_count": 27,
   "id": "9cdc9fb2",
   "metadata": {
    "execution": {
     "iopub.execute_input": "2022-09-30T14:42:13.904668Z",
     "iopub.status.busy": "2022-09-30T14:42:13.904231Z",
     "iopub.status.idle": "2022-09-30T14:42:13.952225Z",
     "shell.execute_reply": "2022-09-30T14:42:13.951149Z"
    },
    "papermill": {
     "duration": 0.06597,
     "end_time": "2022-09-30T14:42:13.954570",
     "exception": false,
     "start_time": "2022-09-30T14:42:13.888600",
     "status": "completed"
    },
    "tags": []
   },
   "outputs": [
    {
     "data": {
      "text/plain": [
       "37.219001581042036"
      ]
     },
     "execution_count": 27,
     "metadata": {},
     "output_type": "execute_result"
    }
   ],
   "source": [
    "churn_rate_without_children = bookings.query('is_canceled == 1 and has_kids == False').shape[0]/(bookings.query('has_kids == False').shape[0])*100\n",
    "churn_rate_without_children"
   ]
  },
  {
   "cell_type": "code",
   "execution_count": 28,
   "id": "5928cbd2",
   "metadata": {
    "execution": {
     "iopub.execute_input": "2022-09-30T14:42:13.985453Z",
     "iopub.status.busy": "2022-09-30T14:42:13.985043Z",
     "iopub.status.idle": "2022-09-30T14:42:14.006408Z",
     "shell.execute_reply": "2022-09-30T14:42:14.005344Z"
    },
    "papermill": {
     "duration": 0.03933,
     "end_time": "2022-09-30T14:42:14.008589",
     "exception": false,
     "start_time": "2022-09-30T14:42:13.969259",
     "status": "completed"
    },
    "tags": []
   },
   "outputs": [
    {
     "data": {
      "text/plain": [
       "34.950728363324764"
      ]
     },
     "execution_count": 28,
     "metadata": {},
     "output_type": "execute_result"
    }
   ],
   "source": [
    "churn_rate_with_children = bookings.query('is_canceled == 1 and has_kids == True').shape[0]/(bookings.query('has_kids == True').shape[0])*100\n",
    "churn_rate_with_children"
   ]
  },
  {
   "cell_type": "code",
   "execution_count": 29,
   "id": "ccfc5140",
   "metadata": {
    "execution": {
     "iopub.execute_input": "2022-09-30T14:42:14.040852Z",
     "iopub.status.busy": "2022-09-30T14:42:14.040421Z",
     "iopub.status.idle": "2022-09-30T14:42:14.054726Z",
     "shell.execute_reply": "2022-09-30T14:42:14.053676Z"
    },
    "papermill": {
     "duration": 0.033656,
     "end_time": "2022-09-30T14:42:14.057312",
     "exception": false,
     "start_time": "2022-09-30T14:42:14.023656",
     "status": "completed"
    },
    "tags": []
   },
   "outputs": [],
   "source": [
    "users_activity = pd.read_csv('../input/user-activities/user_data.csv')"
   ]
  },
  {
   "cell_type": "code",
   "execution_count": 30,
   "id": "5654c3ec",
   "metadata": {
    "execution": {
     "iopub.execute_input": "2022-09-30T14:42:14.088567Z",
     "iopub.status.busy": "2022-09-30T14:42:14.088176Z",
     "iopub.status.idle": "2022-09-30T14:42:14.103257Z",
     "shell.execute_reply": "2022-09-30T14:42:14.102252Z"
    },
    "papermill": {
     "duration": 0.03406,
     "end_time": "2022-09-30T14:42:14.106141",
     "exception": false,
     "start_time": "2022-09-30T14:42:14.072081",
     "status": "completed"
    },
    "tags": []
   },
   "outputs": [],
   "source": [
    "logs = pd.read_csv('../input/logs-for-project/logs.csv')"
   ]
  },
  {
   "cell_type": "code",
   "execution_count": 31,
   "id": "779e19c6",
   "metadata": {
    "execution": {
     "iopub.execute_input": "2022-09-30T14:42:14.138425Z",
     "iopub.status.busy": "2022-09-30T14:42:14.137583Z",
     "iopub.status.idle": "2022-09-30T14:42:14.143992Z",
     "shell.execute_reply": "2022-09-30T14:42:14.143214Z"
    },
    "papermill": {
     "duration": 0.024921,
     "end_time": "2022-09-30T14:42:14.145924",
     "exception": false,
     "start_time": "2022-09-30T14:42:14.121003",
     "status": "completed"
    },
    "tags": []
   },
   "outputs": [
    {
     "data": {
      "text/plain": [
       "Index(['client', 'premium', 'age'], dtype='object')"
      ]
     },
     "execution_count": 31,
     "metadata": {},
     "output_type": "execute_result"
    }
   ],
   "source": [
    "users_activity.columns"
   ]
  },
  {
   "cell_type": "code",
   "execution_count": 32,
   "id": "5207da33",
   "metadata": {
    "execution": {
     "iopub.execute_input": "2022-09-30T14:42:14.177256Z",
     "iopub.status.busy": "2022-09-30T14:42:14.176194Z",
     "iopub.status.idle": "2022-09-30T14:42:14.189243Z",
     "shell.execute_reply": "2022-09-30T14:42:14.188210Z"
    },
    "papermill": {
     "duration": 0.031356,
     "end_time": "2022-09-30T14:42:14.191875",
     "exception": false,
     "start_time": "2022-09-30T14:42:14.160519",
     "status": "completed"
    },
    "tags": []
   },
   "outputs": [
    {
     "data": {
      "text/plain": [
       "client               int64\n",
       "success               bool\n",
       "platform            object\n",
       "time                 int64\n",
       "date        datetime64[ns]\n",
       "dtype: object"
      ]
     },
     "execution_count": 32,
     "metadata": {},
     "output_type": "execute_result"
    }
   ],
   "source": [
    "logs['date'] = pd.to_datetime(logs.time, unit='s')\n",
    "logs.dtypes"
   ]
  },
  {
   "cell_type": "code",
   "execution_count": 33,
   "id": "08d65509",
   "metadata": {
    "execution": {
     "iopub.execute_input": "2022-09-30T14:42:14.225683Z",
     "iopub.status.busy": "2022-09-30T14:42:14.224868Z",
     "iopub.status.idle": "2022-09-30T14:42:14.408958Z",
     "shell.execute_reply": "2022-09-30T14:42:14.408148Z"
    },
    "papermill": {
     "duration": 0.203687,
     "end_time": "2022-09-30T14:42:14.411770",
     "exception": false,
     "start_time": "2022-09-30T14:42:14.208083",
     "status": "completed"
    },
    "tags": []
   },
   "outputs": [
    {
     "data": {
      "text/plain": [
       "<AxesSubplot:>"
      ]
     },
     "execution_count": 33,
     "metadata": {},
     "output_type": "execute_result"
    },
    {
     "data": {
      "image/png": "[encoded data removed]",
      "text/plain": [
       "<Figure size 432x288 with 1 Axes>"
      ]
     },
     "metadata": {
      "needs_background": "light"
     },
     "output_type": "display_data"
    }
   ],
   "source": [
    "logs.platform.hist()"
   ]
  },
  {
   "cell_type": "code",
   "execution_count": 34,
   "id": "bbb37f6c",
   "metadata": {
    "execution": {
     "iopub.execute_input": "2022-09-30T14:42:14.448876Z",
     "iopub.status.busy": "2022-09-30T14:42:14.448131Z",
     "iopub.status.idle": "2022-09-30T14:42:14.464497Z",
     "shell.execute_reply": "2022-09-30T14:42:14.463453Z"
    },
    "papermill": {
     "duration": 0.034849,
     "end_time": "2022-09-30T14:42:14.466776",
     "exception": false,
     "start_time": "2022-09-30T14:42:14.431927",
     "status": "completed"
    },
    "tags": []
   },
   "outputs": [
    {
     "data": {
      "text/html": [
       "<div>\n",
       "<style scoped>\n",
       "    .dataframe tbody tr th:only-of-type {\n",
       "        vertical-align: middle;\n",
       "    }\n",
       "\n",
       "    .dataframe tbody tr th {\n",
       "        vertical-align: top;\n",
       "    }\n",
       "\n",
       "    .dataframe thead th {\n",
       "        text-align: right;\n",
       "    }\n",
       "</style>\n",
       "<table border=\"1\" class=\"dataframe\">\n",
       "  <thead>\n",
       "    <tr style=\"text-align: right;\">\n",
       "      <th></th>\n",
       "      <th>client</th>\n",
       "      <th>success</th>\n",
       "      <th>platform</th>\n",
       "      <th>time</th>\n",
       "      <th>date</th>\n",
       "    </tr>\n",
       "  </thead>\n",
       "  <tbody>\n",
       "    <tr>\n",
       "      <th>0</th>\n",
       "      <td>40177</td>\n",
       "      <td>True</td>\n",
       "      <td>phone</td>\n",
       "      <td>1585412212</td>\n",
       "      <td>2020-03-28 16:16:52</td>\n",
       "    </tr>\n",
       "    <tr>\n",
       "      <th>1</th>\n",
       "      <td>61468</td>\n",
       "      <td>True</td>\n",
       "      <td>phone</td>\n",
       "      <td>1585425658</td>\n",
       "      <td>2020-03-28 20:00:58</td>\n",
       "    </tr>\n",
       "    <tr>\n",
       "      <th>2</th>\n",
       "      <td>35604</td>\n",
       "      <td>False</td>\n",
       "      <td>phone</td>\n",
       "      <td>1585459894</td>\n",
       "      <td>2020-03-29 05:31:34</td>\n",
       "    </tr>\n",
       "    <tr>\n",
       "      <th>3</th>\n",
       "      <td>9961</td>\n",
       "      <td>True</td>\n",
       "      <td>phone</td>\n",
       "      <td>1585400189</td>\n",
       "      <td>2020-03-28 12:56:29</td>\n",
       "    </tr>\n",
       "    <tr>\n",
       "      <th>4</th>\n",
       "      <td>10931</td>\n",
       "      <td>True</td>\n",
       "      <td>computer</td>\n",
       "      <td>1585468629</td>\n",
       "      <td>2020-03-29 07:57:09</td>\n",
       "    </tr>\n",
       "    <tr>\n",
       "      <th>...</th>\n",
       "      <td>...</td>\n",
       "      <td>...</td>\n",
       "      <td>...</td>\n",
       "      <td>...</td>\n",
       "      <td>...</td>\n",
       "    </tr>\n",
       "    <tr>\n",
       "      <th>4495</th>\n",
       "      <td>64496</td>\n",
       "      <td>False</td>\n",
       "      <td>computer</td>\n",
       "      <td>1585459072</td>\n",
       "      <td>2020-03-29 05:17:52</td>\n",
       "    </tr>\n",
       "    <tr>\n",
       "      <th>4496</th>\n",
       "      <td>73299</td>\n",
       "      <td>True</td>\n",
       "      <td>phone</td>\n",
       "      <td>1585458370</td>\n",
       "      <td>2020-03-29 05:06:10</td>\n",
       "    </tr>\n",
       "    <tr>\n",
       "      <th>4497</th>\n",
       "      <td>8967</td>\n",
       "      <td>True</td>\n",
       "      <td>phone</td>\n",
       "      <td>1585465121</td>\n",
       "      <td>2020-03-29 06:58:41</td>\n",
       "    </tr>\n",
       "    <tr>\n",
       "      <th>4498</th>\n",
       "      <td>52880</td>\n",
       "      <td>False</td>\n",
       "      <td>phone</td>\n",
       "      <td>1585455362</td>\n",
       "      <td>2020-03-29 04:16:02</td>\n",
       "    </tr>\n",
       "    <tr>\n",
       "      <th>4499</th>\n",
       "      <td>40921</td>\n",
       "      <td>True</td>\n",
       "      <td>phone</td>\n",
       "      <td>1585437692</td>\n",
       "      <td>2020-03-28 23:21:32</td>\n",
       "    </tr>\n",
       "  </tbody>\n",
       "</table>\n",
       "<p>4500 rows × 5 columns</p>\n",
       "</div>"
      ],
      "text/plain": [
       "      client  success  platform        time                date\n",
       "0      40177     True     phone  1585412212 2020-03-28 16:16:52\n",
       "1      61468     True     phone  1585425658 2020-03-28 20:00:58\n",
       "2      35604    False     phone  1585459894 2020-03-29 05:31:34\n",
       "3       9961     True     phone  1585400189 2020-03-28 12:56:29\n",
       "4      10931     True  computer  1585468629 2020-03-29 07:57:09\n",
       "...      ...      ...       ...         ...                 ...\n",
       "4495   64496    False  computer  1585459072 2020-03-29 05:17:52\n",
       "4496   73299     True     phone  1585458370 2020-03-29 05:06:10\n",
       "4497    8967     True     phone  1585465121 2020-03-29 06:58:41\n",
       "4498   52880    False     phone  1585455362 2020-03-29 04:16:02\n",
       "4499   40921     True     phone  1585437692 2020-03-28 23:21:32\n",
       "\n",
       "[4500 rows x 5 columns]"
      ]
     },
     "execution_count": 34,
     "metadata": {},
     "output_type": "execute_result"
    }
   ],
   "source": [
    "# which client made max of succefull operations?\n",
    "logs"
   ]
  },
  {
   "cell_type": "code",
   "execution_count": 35,
   "id": "de69f07e",
   "metadata": {
    "execution": {
     "iopub.execute_input": "2022-09-30T14:42:14.500386Z",
     "iopub.status.busy": "2022-09-30T14:42:14.499453Z",
     "iopub.status.idle": "2022-09-30T14:42:14.517224Z",
     "shell.execute_reply": "2022-09-30T14:42:14.516177Z"
    },
    "papermill": {
     "duration": 0.037041,
     "end_time": "2022-09-30T14:42:14.519487",
     "exception": false,
     "start_time": "2022-09-30T14:42:14.482446",
     "status": "completed"
    },
    "tags": []
   },
   "outputs": [
    {
     "data": {
      "text/html": [
       "<div>\n",
       "<style scoped>\n",
       "    .dataframe tbody tr th:only-of-type {\n",
       "        vertical-align: middle;\n",
       "    }\n",
       "\n",
       "    .dataframe tbody tr th {\n",
       "        vertical-align: top;\n",
       "    }\n",
       "\n",
       "    .dataframe thead th {\n",
       "        text-align: right;\n",
       "    }\n",
       "</style>\n",
       "<table border=\"1\" class=\"dataframe\">\n",
       "  <thead>\n",
       "    <tr style=\"text-align: right;\">\n",
       "      <th></th>\n",
       "      <th>success</th>\n",
       "    </tr>\n",
       "    <tr>\n",
       "      <th>client</th>\n",
       "      <th></th>\n",
       "    </tr>\n",
       "  </thead>\n",
       "  <tbody>\n",
       "    <tr>\n",
       "      <th>40</th>\n",
       "      <td>1</td>\n",
       "    </tr>\n",
       "    <tr>\n",
       "      <th>65936</th>\n",
       "      <td>1</td>\n",
       "    </tr>\n",
       "    <tr>\n",
       "      <th>66064</th>\n",
       "      <td>1</td>\n",
       "    </tr>\n",
       "    <tr>\n",
       "      <th>66245</th>\n",
       "      <td>1</td>\n",
       "    </tr>\n",
       "    <tr>\n",
       "      <th>66266</th>\n",
       "      <td>1</td>\n",
       "    </tr>\n",
       "    <tr>\n",
       "      <th>...</th>\n",
       "      <td>...</td>\n",
       "    </tr>\n",
       "    <tr>\n",
       "      <th>28719</th>\n",
       "      <td>41</td>\n",
       "    </tr>\n",
       "    <tr>\n",
       "      <th>52870</th>\n",
       "      <td>41</td>\n",
       "    </tr>\n",
       "    <tr>\n",
       "      <th>36165</th>\n",
       "      <td>41</td>\n",
       "    </tr>\n",
       "    <tr>\n",
       "      <th>92584</th>\n",
       "      <td>41</td>\n",
       "    </tr>\n",
       "    <tr>\n",
       "      <th>61473</th>\n",
       "      <td>41</td>\n",
       "    </tr>\n",
       "  </tbody>\n",
       "</table>\n",
       "<p>2845 rows × 1 columns</p>\n",
       "</div>"
      ],
      "text/plain": [
       "        success\n",
       "client         \n",
       "40            1\n",
       "65936         1\n",
       "66064         1\n",
       "66245         1\n",
       "66266         1\n",
       "...         ...\n",
       "28719        41\n",
       "52870        41\n",
       "36165        41\n",
       "92584        41\n",
       "61473        41\n",
       "\n",
       "[2845 rows x 1 columns]"
      ]
     },
     "execution_count": 35,
     "metadata": {},
     "output_type": "execute_result"
    }
   ],
   "source": [
    "logs.query('success == True').groupby('client').agg({'success' : 'sum'}).sort_values('success')"
   ]
  },
  {
   "cell_type": "code",
   "execution_count": 36,
   "id": "fbb800f5",
   "metadata": {
    "execution": {
     "iopub.execute_input": "2022-09-30T14:42:14.554167Z",
     "iopub.status.busy": "2022-09-30T14:42:14.553779Z",
     "iopub.status.idle": "2022-09-30T14:42:14.558248Z",
     "shell.execute_reply": "2022-09-30T14:42:14.557219Z"
    },
    "papermill": {
     "duration": 0.023868,
     "end_time": "2022-09-30T14:42:14.560350",
     "exception": false,
     "start_time": "2022-09-30T14:42:14.536482",
     "status": "completed"
    },
    "tags": []
   },
   "outputs": [],
   "source": [
    "# which platform provides more successfull operationa?"
   ]
  },
  {
   "cell_type": "code",
   "execution_count": 37,
   "id": "3b34935c",
   "metadata": {
    "execution": {
     "iopub.execute_input": "2022-09-30T14:42:14.593986Z",
     "iopub.status.busy": "2022-09-30T14:42:14.593320Z",
     "iopub.status.idle": "2022-09-30T14:42:14.608983Z",
     "shell.execute_reply": "2022-09-30T14:42:14.607789Z"
    },
    "papermill": {
     "duration": 0.034945,
     "end_time": "2022-09-30T14:42:14.611292",
     "exception": false,
     "start_time": "2022-09-30T14:42:14.576347",
     "status": "completed"
    },
    "tags": []
   },
   "outputs": [
    {
     "data": {
      "text/html": [
       "<div>\n",
       "<style scoped>\n",
       "    .dataframe tbody tr th:only-of-type {\n",
       "        vertical-align: middle;\n",
       "    }\n",
       "\n",
       "    .dataframe tbody tr th {\n",
       "        vertical-align: top;\n",
       "    }\n",
       "\n",
       "    .dataframe thead th {\n",
       "        text-align: right;\n",
       "    }\n",
       "</style>\n",
       "<table border=\"1\" class=\"dataframe\">\n",
       "  <thead>\n",
       "    <tr style=\"text-align: right;\">\n",
       "      <th></th>\n",
       "      <th>success</th>\n",
       "    </tr>\n",
       "    <tr>\n",
       "      <th>platform</th>\n",
       "      <th></th>\n",
       "    </tr>\n",
       "  </thead>\n",
       "  <tbody>\n",
       "    <tr>\n",
       "      <th>computer</th>\n",
       "      <td>1090</td>\n",
       "    </tr>\n",
       "    <tr>\n",
       "      <th>phone</th>\n",
       "      <td>2019</td>\n",
       "    </tr>\n",
       "    <tr>\n",
       "      <th>tablet</th>\n",
       "      <td>180</td>\n",
       "    </tr>\n",
       "  </tbody>\n",
       "</table>\n",
       "</div>"
      ],
      "text/plain": [
       "          success\n",
       "platform         \n",
       "computer     1090\n",
       "phone        2019\n",
       "tablet        180"
      ]
     },
     "execution_count": 37,
     "metadata": {},
     "output_type": "execute_result"
    }
   ],
   "source": [
    "logs.query('success == True').groupby('platform').agg({'success' : 'sum'}).sort_values('platform')"
   ]
  },
  {
   "cell_type": "code",
   "execution_count": 38,
   "id": "ec3ec5ea",
   "metadata": {
    "execution": {
     "iopub.execute_input": "2022-09-30T14:42:14.644866Z",
     "iopub.status.busy": "2022-09-30T14:42:14.644091Z",
     "iopub.status.idle": "2022-09-30T14:42:14.648733Z",
     "shell.execute_reply": "2022-09-30T14:42:14.647707Z"
    },
    "papermill": {
     "duration": 0.023768,
     "end_time": "2022-09-30T14:42:14.650924",
     "exception": false,
     "start_time": "2022-09-30T14:42:14.627156",
     "status": "completed"
    },
    "tags": []
   },
   "outputs": [],
   "source": [
    "# which platform do preminum clients prefer?"
   ]
  },
  {
   "cell_type": "code",
   "execution_count": 39,
   "id": "3badabab",
   "metadata": {
    "execution": {
     "iopub.execute_input": "2022-09-30T14:42:14.685009Z",
     "iopub.status.busy": "2022-09-30T14:42:14.684122Z",
     "iopub.status.idle": "2022-09-30T14:42:14.700957Z",
     "shell.execute_reply": "2022-09-30T14:42:14.699869Z"
    },
    "papermill": {
     "duration": 0.036344,
     "end_time": "2022-09-30T14:42:14.703210",
     "exception": false,
     "start_time": "2022-09-30T14:42:14.666866",
     "status": "completed"
    },
    "tags": []
   },
   "outputs": [
    {
     "data": {
      "text/html": [
       "<div>\n",
       "<style scoped>\n",
       "    .dataframe tbody tr th:only-of-type {\n",
       "        vertical-align: middle;\n",
       "    }\n",
       "\n",
       "    .dataframe tbody tr th {\n",
       "        vertical-align: top;\n",
       "    }\n",
       "\n",
       "    .dataframe thead th {\n",
       "        text-align: right;\n",
       "    }\n",
       "</style>\n",
       "<table border=\"1\" class=\"dataframe\">\n",
       "  <thead>\n",
       "    <tr style=\"text-align: right;\">\n",
       "      <th></th>\n",
       "      <th>client</th>\n",
       "      <th>premium</th>\n",
       "      <th>age</th>\n",
       "    </tr>\n",
       "  </thead>\n",
       "  <tbody>\n",
       "    <tr>\n",
       "      <th>22</th>\n",
       "      <td>74867</td>\n",
       "      <td>True</td>\n",
       "      <td>27</td>\n",
       "    </tr>\n",
       "    <tr>\n",
       "      <th>23</th>\n",
       "      <td>49379</td>\n",
       "      <td>True</td>\n",
       "      <td>25</td>\n",
       "    </tr>\n",
       "    <tr>\n",
       "      <th>24</th>\n",
       "      <td>88203</td>\n",
       "      <td>True</td>\n",
       "      <td>35</td>\n",
       "    </tr>\n",
       "    <tr>\n",
       "      <th>29</th>\n",
       "      <td>32603</td>\n",
       "      <td>True</td>\n",
       "      <td>20</td>\n",
       "    </tr>\n",
       "    <tr>\n",
       "      <th>51</th>\n",
       "      <td>53182</td>\n",
       "      <td>True</td>\n",
       "      <td>24</td>\n",
       "    </tr>\n",
       "    <tr>\n",
       "      <th>...</th>\n",
       "      <td>...</td>\n",
       "      <td>...</td>\n",
       "      <td>...</td>\n",
       "    </tr>\n",
       "    <tr>\n",
       "      <th>2928</th>\n",
       "      <td>52373</td>\n",
       "      <td>True</td>\n",
       "      <td>36</td>\n",
       "    </tr>\n",
       "    <tr>\n",
       "      <th>2930</th>\n",
       "      <td>13688</td>\n",
       "      <td>True</td>\n",
       "      <td>66</td>\n",
       "    </tr>\n",
       "    <tr>\n",
       "      <th>2934</th>\n",
       "      <td>40643</td>\n",
       "      <td>True</td>\n",
       "      <td>22</td>\n",
       "    </tr>\n",
       "    <tr>\n",
       "      <th>2947</th>\n",
       "      <td>53774</td>\n",
       "      <td>True</td>\n",
       "      <td>50</td>\n",
       "    </tr>\n",
       "    <tr>\n",
       "      <th>2951</th>\n",
       "      <td>61221</td>\n",
       "      <td>True</td>\n",
       "      <td>64</td>\n",
       "    </tr>\n",
       "  </tbody>\n",
       "</table>\n",
       "<p>406 rows × 3 columns</p>\n",
       "</div>"
      ],
      "text/plain": [
       "      client  premium  age\n",
       "22     74867     True   27\n",
       "23     49379     True   25\n",
       "24     88203     True   35\n",
       "29     32603     True   20\n",
       "51     53182     True   24\n",
       "...      ...      ...  ...\n",
       "2928   52373     True   36\n",
       "2930   13688     True   66\n",
       "2934   40643     True   22\n",
       "2947   53774     True   50\n",
       "2951   61221     True   64\n",
       "\n",
       "[406 rows x 3 columns]"
      ]
     },
     "execution_count": 39,
     "metadata": {},
     "output_type": "execute_result"
    }
   ],
   "source": [
    "premium_users = users_activity.query('premium == True')\n",
    "premium_users"
   ]
  },
  {
   "cell_type": "code",
   "execution_count": 40,
   "id": "ffa37b21",
   "metadata": {
    "execution": {
     "iopub.execute_input": "2022-09-30T14:42:14.737433Z",
     "iopub.status.busy": "2022-09-30T14:42:14.736962Z",
     "iopub.status.idle": "2022-09-30T14:42:14.756242Z",
     "shell.execute_reply": "2022-09-30T14:42:14.755414Z"
    },
    "papermill": {
     "duration": 0.038918,
     "end_time": "2022-09-30T14:42:14.758360",
     "exception": false,
     "start_time": "2022-09-30T14:42:14.719442",
     "status": "completed"
    },
    "tags": []
   },
   "outputs": [
    {
     "data": {
      "text/html": [
       "<div>\n",
       "<style scoped>\n",
       "    .dataframe tbody tr th:only-of-type {\n",
       "        vertical-align: middle;\n",
       "    }\n",
       "\n",
       "    .dataframe tbody tr th {\n",
       "        vertical-align: top;\n",
       "    }\n",
       "\n",
       "    .dataframe thead th {\n",
       "        text-align: right;\n",
       "    }\n",
       "</style>\n",
       "<table border=\"1\" class=\"dataframe\">\n",
       "  <thead>\n",
       "    <tr style=\"text-align: right;\">\n",
       "      <th></th>\n",
       "      <th>client</th>\n",
       "      <th>success</th>\n",
       "      <th>platform</th>\n",
       "      <th>time</th>\n",
       "      <th>date</th>\n",
       "    </tr>\n",
       "  </thead>\n",
       "  <tbody>\n",
       "    <tr>\n",
       "      <th>2</th>\n",
       "      <td>35604</td>\n",
       "      <td>False</td>\n",
       "      <td>phone</td>\n",
       "      <td>1585459894</td>\n",
       "      <td>2020-03-29 05:31:34</td>\n",
       "    </tr>\n",
       "    <tr>\n",
       "      <th>10</th>\n",
       "      <td>11983</td>\n",
       "      <td>True</td>\n",
       "      <td>phone</td>\n",
       "      <td>1585459511</td>\n",
       "      <td>2020-03-29 05:25:11</td>\n",
       "    </tr>\n",
       "    <tr>\n",
       "      <th>17</th>\n",
       "      <td>99308</td>\n",
       "      <td>True</td>\n",
       "      <td>computer</td>\n",
       "      <td>1585409409</td>\n",
       "      <td>2020-03-28 15:30:09</td>\n",
       "    </tr>\n",
       "    <tr>\n",
       "      <th>27</th>\n",
       "      <td>49625</td>\n",
       "      <td>False</td>\n",
       "      <td>phone</td>\n",
       "      <td>1585447789</td>\n",
       "      <td>2020-03-29 02:09:49</td>\n",
       "    </tr>\n",
       "    <tr>\n",
       "      <th>33</th>\n",
       "      <td>53978</td>\n",
       "      <td>True</td>\n",
       "      <td>computer</td>\n",
       "      <td>1585408637</td>\n",
       "      <td>2020-03-28 15:17:17</td>\n",
       "    </tr>\n",
       "    <tr>\n",
       "      <th>...</th>\n",
       "      <td>...</td>\n",
       "      <td>...</td>\n",
       "      <td>...</td>\n",
       "      <td>...</td>\n",
       "      <td>...</td>\n",
       "    </tr>\n",
       "    <tr>\n",
       "      <th>4402</th>\n",
       "      <td>20278</td>\n",
       "      <td>True</td>\n",
       "      <td>computer</td>\n",
       "      <td>1585456706</td>\n",
       "      <td>2020-03-29 04:38:26</td>\n",
       "    </tr>\n",
       "    <tr>\n",
       "      <th>4436</th>\n",
       "      <td>78455</td>\n",
       "      <td>True</td>\n",
       "      <td>phone</td>\n",
       "      <td>1585459854</td>\n",
       "      <td>2020-03-29 05:30:54</td>\n",
       "    </tr>\n",
       "    <tr>\n",
       "      <th>4438</th>\n",
       "      <td>57026</td>\n",
       "      <td>True</td>\n",
       "      <td>computer</td>\n",
       "      <td>1585438120</td>\n",
       "      <td>2020-03-28 23:28:40</td>\n",
       "    </tr>\n",
       "    <tr>\n",
       "      <th>4467</th>\n",
       "      <td>2864</td>\n",
       "      <td>True</td>\n",
       "      <td>phone</td>\n",
       "      <td>1585459818</td>\n",
       "      <td>2020-03-29 05:30:18</td>\n",
       "    </tr>\n",
       "    <tr>\n",
       "      <th>4488</th>\n",
       "      <td>72908</td>\n",
       "      <td>True</td>\n",
       "      <td>phone</td>\n",
       "      <td>1585416689</td>\n",
       "      <td>2020-03-28 17:31:29</td>\n",
       "    </tr>\n",
       "  </tbody>\n",
       "</table>\n",
       "<p>420 rows × 5 columns</p>\n",
       "</div>"
      ],
      "text/plain": [
       "      client  success  platform        time                date\n",
       "2      35604    False     phone  1585459894 2020-03-29 05:31:34\n",
       "10     11983     True     phone  1585459511 2020-03-29 05:25:11\n",
       "17     99308     True  computer  1585409409 2020-03-28 15:30:09\n",
       "27     49625    False     phone  1585447789 2020-03-29 02:09:49\n",
       "33     53978     True  computer  1585408637 2020-03-28 15:17:17\n",
       "...      ...      ...       ...         ...                 ...\n",
       "4402   20278     True  computer  1585456706 2020-03-29 04:38:26\n",
       "4436   78455     True     phone  1585459854 2020-03-29 05:30:54\n",
       "4438   57026     True  computer  1585438120 2020-03-28 23:28:40\n",
       "4467    2864     True     phone  1585459818 2020-03-29 05:30:18\n",
       "4488   72908     True     phone  1585416689 2020-03-28 17:31:29\n",
       "\n",
       "[420 rows x 5 columns]"
      ]
     },
     "execution_count": 40,
     "metadata": {},
     "output_type": "execute_result"
    }
   ],
   "source": [
    "logs_for_premium = logs.query('client in @premium_users.client')\n",
    "logs_for_premium"
   ]
  },
  {
   "cell_type": "code",
   "execution_count": 41,
   "id": "1baee524",
   "metadata": {
    "execution": {
     "iopub.execute_input": "2022-09-30T14:42:14.793428Z",
     "iopub.status.busy": "2022-09-30T14:42:14.792461Z",
     "iopub.status.idle": "2022-09-30T14:42:14.800585Z",
     "shell.execute_reply": "2022-09-30T14:42:14.799798Z"
    },
    "papermill": {
     "duration": 0.027743,
     "end_time": "2022-09-30T14:42:14.802604",
     "exception": false,
     "start_time": "2022-09-30T14:42:14.774861",
     "status": "completed"
    },
    "tags": []
   },
   "outputs": [
    {
     "data": {
      "text/plain": [
       "406"
      ]
     },
     "execution_count": 41,
     "metadata": {},
     "output_type": "execute_result"
    }
   ],
   "source": [
    "logs_for_premium.client.nunique()"
   ]
  },
  {
   "cell_type": "code",
   "execution_count": 42,
   "id": "bb1f99a8",
   "metadata": {
    "execution": {
     "iopub.execute_input": "2022-09-30T14:42:14.837733Z",
     "iopub.status.busy": "2022-09-30T14:42:14.837279Z",
     "iopub.status.idle": "2022-09-30T14:42:14.849074Z",
     "shell.execute_reply": "2022-09-30T14:42:14.847927Z"
    },
    "papermill": {
     "duration": 0.032023,
     "end_time": "2022-09-30T14:42:14.851349",
     "exception": false,
     "start_time": "2022-09-30T14:42:14.819326",
     "status": "completed"
    },
    "tags": []
   },
   "outputs": [
    {
     "data": {
      "text/html": [
       "<div>\n",
       "<style scoped>\n",
       "    .dataframe tbody tr th:only-of-type {\n",
       "        vertical-align: middle;\n",
       "    }\n",
       "\n",
       "    .dataframe tbody tr th {\n",
       "        vertical-align: top;\n",
       "    }\n",
       "\n",
       "    .dataframe thead th {\n",
       "        text-align: right;\n",
       "    }\n",
       "</style>\n",
       "<table border=\"1\" class=\"dataframe\">\n",
       "  <thead>\n",
       "    <tr style=\"text-align: right;\">\n",
       "      <th></th>\n",
       "      <th>client</th>\n",
       "    </tr>\n",
       "    <tr>\n",
       "      <th>platform</th>\n",
       "      <th></th>\n",
       "    </tr>\n",
       "  </thead>\n",
       "  <tbody>\n",
       "    <tr>\n",
       "      <th>computer</th>\n",
       "      <td>150</td>\n",
       "    </tr>\n",
       "    <tr>\n",
       "      <th>phone</th>\n",
       "      <td>246</td>\n",
       "    </tr>\n",
       "    <tr>\n",
       "      <th>tablet</th>\n",
       "      <td>24</td>\n",
       "    </tr>\n",
       "  </tbody>\n",
       "</table>\n",
       "</div>"
      ],
      "text/plain": [
       "          client\n",
       "platform        \n",
       "computer     150\n",
       "phone        246\n",
       "tablet        24"
      ]
     },
     "execution_count": 42,
     "metadata": {},
     "output_type": "execute_result"
    }
   ],
   "source": [
    "logs_for_premium.groupby('platform').agg({'client': 'count'})"
   ]
  },
  {
   "cell_type": "code",
   "execution_count": 43,
   "id": "77bb0428",
   "metadata": {
    "execution": {
     "iopub.execute_input": "2022-09-30T14:42:14.887427Z",
     "iopub.status.busy": "2022-09-30T14:42:14.887025Z",
     "iopub.status.idle": "2022-09-30T14:42:14.891535Z",
     "shell.execute_reply": "2022-09-30T14:42:14.890307Z"
    },
    "papermill": {
     "duration": 0.025361,
     "end_time": "2022-09-30T14:42:14.893826",
     "exception": false,
     "start_time": "2022-09-30T14:42:14.868465",
     "status": "completed"
    },
    "tags": []
   },
   "outputs": [],
   "source": [
    "# Визуализируйте распределение возраста клиентов в зависимости от типа клиента (премиум или нет)\n"
   ]
  },
  {
   "cell_type": "code",
   "execution_count": 44,
   "id": "2f3066b0",
   "metadata": {
    "execution": {
     "iopub.execute_input": "2022-09-30T14:42:14.929543Z",
     "iopub.status.busy": "2022-09-30T14:42:14.929084Z",
     "iopub.status.idle": "2022-09-30T14:42:14.938968Z",
     "shell.execute_reply": "2022-09-30T14:42:14.937903Z"
    },
    "papermill": {
     "duration": 0.030269,
     "end_time": "2022-09-30T14:42:14.941073",
     "exception": false,
     "start_time": "2022-09-30T14:42:14.910804",
     "status": "completed"
    },
    "tags": []
   },
   "outputs": [
    {
     "data": {
      "text/html": [
       "<div>\n",
       "<style scoped>\n",
       "    .dataframe tbody tr th:only-of-type {\n",
       "        vertical-align: middle;\n",
       "    }\n",
       "\n",
       "    .dataframe tbody tr th {\n",
       "        vertical-align: top;\n",
       "    }\n",
       "\n",
       "    .dataframe thead th {\n",
       "        text-align: right;\n",
       "    }\n",
       "</style>\n",
       "<table border=\"1\" class=\"dataframe\">\n",
       "  <thead>\n",
       "    <tr style=\"text-align: right;\">\n",
       "      <th></th>\n",
       "      <th>client</th>\n",
       "      <th>premium</th>\n",
       "      <th>age</th>\n",
       "    </tr>\n",
       "  </thead>\n",
       "  <tbody>\n",
       "    <tr>\n",
       "      <th>0</th>\n",
       "      <td>46346</td>\n",
       "      <td>False</td>\n",
       "      <td>58</td>\n",
       "    </tr>\n",
       "    <tr>\n",
       "      <th>1</th>\n",
       "      <td>4391</td>\n",
       "      <td>False</td>\n",
       "      <td>55</td>\n",
       "    </tr>\n",
       "    <tr>\n",
       "      <th>2</th>\n",
       "      <td>27372</td>\n",
       "      <td>False</td>\n",
       "      <td>64</td>\n",
       "    </tr>\n",
       "    <tr>\n",
       "      <th>3</th>\n",
       "      <td>11989</td>\n",
       "      <td>False</td>\n",
       "      <td>44</td>\n",
       "    </tr>\n",
       "    <tr>\n",
       "      <th>4</th>\n",
       "      <td>60664</td>\n",
       "      <td>False</td>\n",
       "      <td>49</td>\n",
       "    </tr>\n",
       "  </tbody>\n",
       "</table>\n",
       "</div>"
      ],
      "text/plain": [
       "   client  premium  age\n",
       "0   46346    False   58\n",
       "1    4391    False   55\n",
       "2   27372    False   64\n",
       "3   11989    False   44\n",
       "4   60664    False   49"
      ]
     },
     "execution_count": 44,
     "metadata": {},
     "output_type": "execute_result"
    }
   ],
   "source": [
    "users_activity.head()"
   ]
  },
  {
   "cell_type": "code",
   "execution_count": 45,
   "id": "3b8b2749",
   "metadata": {
    "execution": {
     "iopub.execute_input": "2022-09-30T14:42:14.977689Z",
     "iopub.status.busy": "2022-09-30T14:42:14.976983Z",
     "iopub.status.idle": "2022-09-30T14:42:15.228612Z",
     "shell.execute_reply": "2022-09-30T14:42:15.227538Z"
    },
    "papermill": {
     "duration": 0.272818,
     "end_time": "2022-09-30T14:42:15.231084",
     "exception": false,
     "start_time": "2022-09-30T14:42:14.958266",
     "status": "completed"
    },
    "tags": []
   },
   "outputs": [
    {
     "data": {
      "text/plain": [
       "<AxesSubplot:xlabel='age', ylabel='Count'>"
      ]
     },
     "execution_count": 45,
     "metadata": {},
     "output_type": "execute_result"
    },
    {
     "data": {
      "image/png": "[encoded data removed]",
      "text/plain": [
       "<Figure size 432x288 with 1 Axes>"
      ]
     },
     "metadata": {
      "needs_background": "light"
     },
     "output_type": "display_data"
    }
   ],
   "source": [
    "fig, ax = plt.subplots()\n",
    "sns.histplot(data=users_activity.query('premium == False').age, ax=ax)\n",
    "sns.histplot(data=users_activity.query('premium == True').age, ax=ax, color='green')"
   ]
  },
  {
   "cell_type": "code",
   "execution_count": 46,
   "id": "a582ca2b",
   "metadata": {
    "execution": {
     "iopub.execute_input": "2022-09-30T14:42:15.267998Z",
     "iopub.status.busy": "2022-09-30T14:42:15.267228Z",
     "iopub.status.idle": "2022-09-30T14:42:15.279826Z",
     "shell.execute_reply": "2022-09-30T14:42:15.278784Z"
    },
    "papermill": {
     "duration": 0.033483,
     "end_time": "2022-09-30T14:42:15.282098",
     "exception": false,
     "start_time": "2022-09-30T14:42:15.248615",
     "status": "completed"
    },
    "tags": []
   },
   "outputs": [
    {
     "data": {
      "text/html": [
       "<div>\n",
       "<style scoped>\n",
       "    .dataframe tbody tr th:only-of-type {\n",
       "        vertical-align: middle;\n",
       "    }\n",
       "\n",
       "    .dataframe tbody tr th {\n",
       "        vertical-align: top;\n",
       "    }\n",
       "\n",
       "    .dataframe thead th {\n",
       "        text-align: right;\n",
       "    }\n",
       "</style>\n",
       "<table border=\"1\" class=\"dataframe\">\n",
       "  <thead>\n",
       "    <tr style=\"text-align: right;\">\n",
       "      <th></th>\n",
       "      <th>client</th>\n",
       "      <th>success</th>\n",
       "      <th>platform</th>\n",
       "      <th>time</th>\n",
       "      <th>date</th>\n",
       "    </tr>\n",
       "  </thead>\n",
       "  <tbody>\n",
       "    <tr>\n",
       "      <th>0</th>\n",
       "      <td>40177</td>\n",
       "      <td>True</td>\n",
       "      <td>phone</td>\n",
       "      <td>1585412212</td>\n",
       "      <td>2020-03-28 16:16:52</td>\n",
       "    </tr>\n",
       "    <tr>\n",
       "      <th>1</th>\n",
       "      <td>61468</td>\n",
       "      <td>True</td>\n",
       "      <td>phone</td>\n",
       "      <td>1585425658</td>\n",
       "      <td>2020-03-28 20:00:58</td>\n",
       "    </tr>\n",
       "    <tr>\n",
       "      <th>2</th>\n",
       "      <td>35604</td>\n",
       "      <td>False</td>\n",
       "      <td>phone</td>\n",
       "      <td>1585459894</td>\n",
       "      <td>2020-03-29 05:31:34</td>\n",
       "    </tr>\n",
       "    <tr>\n",
       "      <th>3</th>\n",
       "      <td>9961</td>\n",
       "      <td>True</td>\n",
       "      <td>phone</td>\n",
       "      <td>1585400189</td>\n",
       "      <td>2020-03-28 12:56:29</td>\n",
       "    </tr>\n",
       "    <tr>\n",
       "      <th>4</th>\n",
       "      <td>10931</td>\n",
       "      <td>True</td>\n",
       "      <td>computer</td>\n",
       "      <td>1585468629</td>\n",
       "      <td>2020-03-29 07:57:09</td>\n",
       "    </tr>\n",
       "  </tbody>\n",
       "</table>\n",
       "</div>"
      ],
      "text/plain": [
       "   client  success  platform        time                date\n",
       "0   40177     True     phone  1585412212 2020-03-28 16:16:52\n",
       "1   61468     True     phone  1585425658 2020-03-28 20:00:58\n",
       "2   35604    False     phone  1585459894 2020-03-29 05:31:34\n",
       "3    9961     True     phone  1585400189 2020-03-28 12:56:29\n",
       "4   10931     True  computer  1585468629 2020-03-29 07:57:09"
      ]
     },
     "execution_count": 46,
     "metadata": {},
     "output_type": "execute_result"
    }
   ],
   "source": [
    "# Постройте график распределения числа успешных операций\n",
    "logs.head()"
   ]
  },
  {
   "cell_type": "code",
   "execution_count": 47,
   "id": "c7e4c30d",
   "metadata": {
    "execution": {
     "iopub.execute_input": "2022-09-30T14:42:15.320505Z",
     "iopub.status.busy": "2022-09-30T14:42:15.319296Z",
     "iopub.status.idle": "2022-09-30T14:42:15.347722Z",
     "shell.execute_reply": "2022-09-30T14:42:15.346460Z"
    },
    "papermill": {
     "duration": 0.050335,
     "end_time": "2022-09-30T14:42:15.350292",
     "exception": false,
     "start_time": "2022-09-30T14:42:15.299957",
     "status": "completed"
    },
    "tags": []
   },
   "outputs": [
    {
     "data": {
      "text/html": [
       "<div>\n",
       "<style scoped>\n",
       "    .dataframe tbody tr th:only-of-type {\n",
       "        vertical-align: middle;\n",
       "    }\n",
       "\n",
       "    .dataframe tbody tr th {\n",
       "        vertical-align: top;\n",
       "    }\n",
       "\n",
       "    .dataframe thead th {\n",
       "        text-align: right;\n",
       "    }\n",
       "</style>\n",
       "<table border=\"1\" class=\"dataframe\">\n",
       "  <thead>\n",
       "    <tr style=\"text-align: right;\">\n",
       "      <th></th>\n",
       "      <th>client</th>\n",
       "      <th>success</th>\n",
       "      <th>platform</th>\n",
       "      <th>time</th>\n",
       "      <th>date</th>\n",
       "      <th>premium</th>\n",
       "      <th>age</th>\n",
       "    </tr>\n",
       "  </thead>\n",
       "  <tbody>\n",
       "    <tr>\n",
       "      <th>0</th>\n",
       "      <td>40177</td>\n",
       "      <td>True</td>\n",
       "      <td>phone</td>\n",
       "      <td>1585412212</td>\n",
       "      <td>2020-03-28 16:16:52</td>\n",
       "      <td>NaN</td>\n",
       "      <td>NaN</td>\n",
       "    </tr>\n",
       "    <tr>\n",
       "      <th>1</th>\n",
       "      <td>61468</td>\n",
       "      <td>True</td>\n",
       "      <td>phone</td>\n",
       "      <td>1585425658</td>\n",
       "      <td>2020-03-28 20:00:58</td>\n",
       "      <td>False</td>\n",
       "      <td>25.0</td>\n",
       "    </tr>\n",
       "    <tr>\n",
       "      <th>2</th>\n",
       "      <td>61468</td>\n",
       "      <td>True</td>\n",
       "      <td>computer</td>\n",
       "      <td>1585460504</td>\n",
       "      <td>2020-03-29 05:41:44</td>\n",
       "      <td>False</td>\n",
       "      <td>25.0</td>\n",
       "    </tr>\n",
       "    <tr>\n",
       "      <th>3</th>\n",
       "      <td>61468</td>\n",
       "      <td>True</td>\n",
       "      <td>computer</td>\n",
       "      <td>1585430291</td>\n",
       "      <td>2020-03-28 21:18:11</td>\n",
       "      <td>False</td>\n",
       "      <td>25.0</td>\n",
       "    </tr>\n",
       "    <tr>\n",
       "      <th>4</th>\n",
       "      <td>61468</td>\n",
       "      <td>True</td>\n",
       "      <td>computer</td>\n",
       "      <td>1585444317</td>\n",
       "      <td>2020-03-29 01:11:57</td>\n",
       "      <td>False</td>\n",
       "      <td>25.0</td>\n",
       "    </tr>\n",
       "    <tr>\n",
       "      <th>...</th>\n",
       "      <td>...</td>\n",
       "      <td>...</td>\n",
       "      <td>...</td>\n",
       "      <td>...</td>\n",
       "      <td>...</td>\n",
       "      <td>...</td>\n",
       "      <td>...</td>\n",
       "    </tr>\n",
       "    <tr>\n",
       "      <th>4495</th>\n",
       "      <td>64496</td>\n",
       "      <td>False</td>\n",
       "      <td>computer</td>\n",
       "      <td>1585459072</td>\n",
       "      <td>2020-03-29 05:17:52</td>\n",
       "      <td>False</td>\n",
       "      <td>66.0</td>\n",
       "    </tr>\n",
       "    <tr>\n",
       "      <th>4496</th>\n",
       "      <td>73299</td>\n",
       "      <td>True</td>\n",
       "      <td>phone</td>\n",
       "      <td>1585458370</td>\n",
       "      <td>2020-03-29 05:06:10</td>\n",
       "      <td>NaN</td>\n",
       "      <td>NaN</td>\n",
       "    </tr>\n",
       "    <tr>\n",
       "      <th>4497</th>\n",
       "      <td>8967</td>\n",
       "      <td>True</td>\n",
       "      <td>phone</td>\n",
       "      <td>1585465121</td>\n",
       "      <td>2020-03-29 06:58:41</td>\n",
       "      <td>False</td>\n",
       "      <td>33.0</td>\n",
       "    </tr>\n",
       "    <tr>\n",
       "      <th>4498</th>\n",
       "      <td>52880</td>\n",
       "      <td>False</td>\n",
       "      <td>phone</td>\n",
       "      <td>1585455362</td>\n",
       "      <td>2020-03-29 04:16:02</td>\n",
       "      <td>NaN</td>\n",
       "      <td>NaN</td>\n",
       "    </tr>\n",
       "    <tr>\n",
       "      <th>4499</th>\n",
       "      <td>40921</td>\n",
       "      <td>True</td>\n",
       "      <td>phone</td>\n",
       "      <td>1585437692</td>\n",
       "      <td>2020-03-28 23:21:32</td>\n",
       "      <td>False</td>\n",
       "      <td>45.0</td>\n",
       "    </tr>\n",
       "  </tbody>\n",
       "</table>\n",
       "<p>4500 rows × 7 columns</p>\n",
       "</div>"
      ],
      "text/plain": [
       "      client  success  platform        time                date premium   age\n",
       "0      40177     True     phone  1585412212 2020-03-28 16:16:52     NaN   NaN\n",
       "1      61468     True     phone  1585425658 2020-03-28 20:00:58   False  25.0\n",
       "2      61468     True  computer  1585460504 2020-03-29 05:41:44   False  25.0\n",
       "3      61468     True  computer  1585430291 2020-03-28 21:18:11   False  25.0\n",
       "4      61468     True  computer  1585444317 2020-03-29 01:11:57   False  25.0\n",
       "...      ...      ...       ...         ...                 ...     ...   ...\n",
       "4495   64496    False  computer  1585459072 2020-03-29 05:17:52   False  66.0\n",
       "4496   73299     True     phone  1585458370 2020-03-29 05:06:10     NaN   NaN\n",
       "4497    8967     True     phone  1585465121 2020-03-29 06:58:41   False  33.0\n",
       "4498   52880    False     phone  1585455362 2020-03-29 04:16:02     NaN   NaN\n",
       "4499   40921     True     phone  1585437692 2020-03-28 23:21:32   False  45.0\n",
       "\n",
       "[4500 rows x 7 columns]"
      ]
     },
     "execution_count": 47,
     "metadata": {},
     "output_type": "execute_result"
    }
   ],
   "source": [
    "unit_table = logs.merge(users_activity, how='outer', on='client')\n",
    "unit_table\n"
   ]
  },
  {
   "cell_type": "code",
   "execution_count": 48,
   "id": "0b18e903",
   "metadata": {
    "execution": {
     "iopub.execute_input": "2022-09-30T14:42:15.388577Z",
     "iopub.status.busy": "2022-09-30T14:42:15.388150Z",
     "iopub.status.idle": "2022-09-30T14:42:15.407113Z",
     "shell.execute_reply": "2022-09-30T14:42:15.406267Z"
    },
    "papermill": {
     "duration": 0.0411,
     "end_time": "2022-09-30T14:42:15.409448",
     "exception": false,
     "start_time": "2022-09-30T14:42:15.368348",
     "status": "completed"
    },
    "tags": []
   },
   "outputs": [
    {
     "data": {
      "text/html": [
       "<div>\n",
       "<style scoped>\n",
       "    .dataframe tbody tr th:only-of-type {\n",
       "        vertical-align: middle;\n",
       "    }\n",
       "\n",
       "    .dataframe tbody tr th {\n",
       "        vertical-align: top;\n",
       "    }\n",
       "\n",
       "    .dataframe thead th {\n",
       "        text-align: right;\n",
       "    }\n",
       "</style>\n",
       "<table border=\"1\" class=\"dataframe\">\n",
       "  <thead>\n",
       "    <tr style=\"text-align: right;\">\n",
       "      <th></th>\n",
       "      <th>success</th>\n",
       "      <th>age</th>\n",
       "    </tr>\n",
       "  </thead>\n",
       "  <tbody>\n",
       "    <tr>\n",
       "      <th>2</th>\n",
       "      <td>True</td>\n",
       "      <td>25.0</td>\n",
       "    </tr>\n",
       "    <tr>\n",
       "      <th>3</th>\n",
       "      <td>True</td>\n",
       "      <td>25.0</td>\n",
       "    </tr>\n",
       "    <tr>\n",
       "      <th>4</th>\n",
       "      <td>True</td>\n",
       "      <td>25.0</td>\n",
       "    </tr>\n",
       "    <tr>\n",
       "      <th>8</th>\n",
       "      <td>True</td>\n",
       "      <td>25.0</td>\n",
       "    </tr>\n",
       "    <tr>\n",
       "      <th>12</th>\n",
       "      <td>True</td>\n",
       "      <td>25.0</td>\n",
       "    </tr>\n",
       "    <tr>\n",
       "      <th>...</th>\n",
       "      <td>...</td>\n",
       "      <td>...</td>\n",
       "    </tr>\n",
       "    <tr>\n",
       "      <th>4484</th>\n",
       "      <td>True</td>\n",
       "      <td>NaN</td>\n",
       "    </tr>\n",
       "    <tr>\n",
       "      <th>4488</th>\n",
       "      <td>True</td>\n",
       "      <td>NaN</td>\n",
       "    </tr>\n",
       "    <tr>\n",
       "      <th>4490</th>\n",
       "      <td>True</td>\n",
       "      <td>46.0</td>\n",
       "    </tr>\n",
       "    <tr>\n",
       "      <th>4492</th>\n",
       "      <td>True</td>\n",
       "      <td>45.0</td>\n",
       "    </tr>\n",
       "    <tr>\n",
       "      <th>4494</th>\n",
       "      <td>True</td>\n",
       "      <td>67.0</td>\n",
       "    </tr>\n",
       "  </tbody>\n",
       "</table>\n",
       "<p>1090 rows × 2 columns</p>\n",
       "</div>"
      ],
      "text/plain": [
       "      success   age\n",
       "2        True  25.0\n",
       "3        True  25.0\n",
       "4        True  25.0\n",
       "8        True  25.0\n",
       "12       True  25.0\n",
       "...       ...   ...\n",
       "4484     True   NaN\n",
       "4488     True   NaN\n",
       "4490     True  46.0\n",
       "4492     True  45.0\n",
       "4494     True  67.0\n",
       "\n",
       "[1090 rows x 2 columns]"
      ]
     },
     "execution_count": 48,
     "metadata": {},
     "output_type": "execute_result"
    }
   ],
   "source": [
    "computer_success_operations = unit_table.query('platform == \"computer\" and success == True')\n",
    "computer_success_operations[['success', 'age']]"
   ]
  },
  {
   "cell_type": "code",
   "execution_count": 49,
   "id": "e90c5a17",
   "metadata": {
    "execution": {
     "iopub.execute_input": "2022-09-30T14:42:15.447529Z",
     "iopub.status.busy": "2022-09-30T14:42:15.446509Z",
     "iopub.status.idle": "2022-09-30T14:42:16.188976Z",
     "shell.execute_reply": "2022-09-30T14:42:16.187795Z"
    },
    "papermill": {
     "duration": 0.763795,
     "end_time": "2022-09-30T14:42:16.191226",
     "exception": false,
     "start_time": "2022-09-30T14:42:15.427431",
     "status": "completed"
    },
    "tags": []
   },
   "outputs": [
    {
     "data": {
      "text/plain": [
       "<AxesSubplot:xlabel='age', ylabel='count'>"
      ]
     },
     "execution_count": 49,
     "metadata": {},
     "output_type": "execute_result"
    },
    {
     "data": {
      "image/png": "[encoded data removed]",
      "text/plain": [
       "<Figure size 864x576 with 1 Axes>"
      ]
     },
     "metadata": {
      "needs_background": "light"
     },
     "output_type": "display_data"
    }
   ],
   "source": [
    "plt.figure(figsize=(12,8))\n",
    "sns.countplot(data=computer_success_operations, x='age')"
   ]
  },
  {
   "cell_type": "code",
   "execution_count": null,
   "id": "72027d29",
   "metadata": {
    "papermill": {
     "duration": 0.018554,
     "end_time": "2022-09-30T14:42:16.228816",
     "exception": false,
     "start_time": "2022-09-30T14:42:16.210262",
     "status": "completed"
    },
    "tags": []
   },
   "outputs": [],
   "source": []
  }
 ],
 "metadata": {
  "kernelspec": {
   "display_name": "Python 3",
   "language": "python",
   "name": "python3"
  },
  "language_info": {
   "codemirror_mode": {
    "name": "ipython",
    "version": 3
   },
   "file_extension": ".py",
   "mimetype": "text/x-python",
   "name": "python",
   "nbconvert_exporter": "python",
   "pygments_lexer": "ipython3",
   "version": "3.7.12"
  },
  "papermill": {
   "default_parameters": {},
   "duration": 15.057194,
   "end_time": "2022-09-30T14:42:16.969755",
   "environment_variables": {},
   "exception": null,
   "input_path": "__notebook__.ipynb",
   "output_path": "__notebook__.ipynb",
   "parameters": {},
   "start_time": "2022-09-30T14:42:01.912561",
   "version": "2.3.4"
  }
 },
 "nbformat": 4,
 "nbformat_minor": 5
}
