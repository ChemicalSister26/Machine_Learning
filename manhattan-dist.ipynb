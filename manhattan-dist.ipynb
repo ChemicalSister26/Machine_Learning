{
 "cells": [
  {
   "cell_type": "code",
   "execution_count": 1,
   "id": "64675e54",
   "metadata": {
    "_cell_guid": "b1076dfc-b9ad-4769-8c92-a6c4dae69d19",
    "_uuid": "8f2839f25d086af736a60e9eeb907d3b93b6e0e5",
    "execution": {
     "iopub.execute_input": "2022-10-21T06:15:25.828365Z",
     "iopub.status.busy": "2022-10-21T06:15:25.827869Z",
     "iopub.status.idle": "2022-10-21T06:15:25.839244Z",
     "shell.execute_reply": "2022-10-21T06:15:25.838276Z"
    },
    "papermill": {
     "duration": 0.01994,
     "end_time": "2022-10-21T06:15:25.841510",
     "exception": false,
     "start_time": "2022-10-21T06:15:25.821570",
     "status": "completed"
    },
    "tags": []
   },
   "outputs": [],
   "source": [
    "# This Python 3 environment comes with many helpful analytics libraries installed\n",
    "# It is defined by the kaggle/python Docker image: https://github.com/kaggle/docker-python\n",
    "# For example, here's several helpful packages to load\n",
    "\n",
    "import numpy as np # linear algebra\n",
    "import pandas as pd # data processing, CSV file I/O (e.g. pd.read_csv)\n",
    "\n",
    "# Input data files are available in the read-only \"../input/\" directory\n",
    "# For example, running this (by clicking run or pressing Shift+Enter) will list all files under the input directory\n",
    "\n",
    "import os\n",
    "for dirname, _, filenames in os.walk('/kaggle/input'):\n",
    "    for filename in filenames:\n",
    "        print(os.path.join(dirname, filename))\n",
    "\n",
    "# You can write up to 20GB to the current directory (/kaggle/working/) that gets preserved as output when you create a version using \"Save & Run All\" \n",
    "# You can also write temporary files to /kaggle/temp/, but they won't be saved outside of the current session\n",
    "\n",
    "\n"
   ]
  },
  {
   "cell_type": "code",
   "execution_count": 2,
   "id": "d58df675",
   "metadata": {
    "execution": {
     "iopub.execute_input": "2022-10-21T06:15:25.850684Z",
     "iopub.status.busy": "2022-10-21T06:15:25.850005Z",
     "iopub.status.idle": "2022-10-21T06:15:25.854965Z",
     "shell.execute_reply": "2022-10-21T06:15:25.854078Z"
    },
    "papermill": {
     "duration": 0.012007,
     "end_time": "2022-10-21T06:15:25.857169",
     "exception": false,
     "start_time": "2022-10-21T06:15:25.845162",
     "status": "completed"
    },
    "tags": []
   },
   "outputs": [],
   "source": [
    "correct_position = [\n",
    "    [1, 2, 3, 4],\n",
    "    [5, 6, 7, 8],\n",
    "    [9, 10, 11, 12],\n",
    "    [13, 14, 15, 0],\n",
    "]"
   ]
  },
  {
   "cell_type": "code",
   "execution_count": 3,
   "id": "cfea8ebf",
   "metadata": {
    "execution": {
     "iopub.execute_input": "2022-10-21T06:15:25.866228Z",
     "iopub.status.busy": "2022-10-21T06:15:25.865820Z",
     "iopub.status.idle": "2022-10-21T06:15:25.870523Z",
     "shell.execute_reply": "2022-10-21T06:15:25.869676Z"
    },
    "papermill": {
     "duration": 0.011839,
     "end_time": "2022-10-21T06:15:25.872668",
     "exception": false,
     "start_time": "2022-10-21T06:15:25.860829",
     "status": "completed"
    },
    "tags": []
   },
   "outputs": [],
   "source": [
    "current_position = [\n",
    "    [1, 2, 3, 4],\n",
    "    [5, 6, 7, 8],\n",
    "    [9, 10, 11, 12],\n",
    "    [13, 0, 14, 15],\n",
    "]"
   ]
  },
  {
   "cell_type": "code",
   "execution_count": 4,
   "id": "3a15f539",
   "metadata": {
    "execution": {
     "iopub.execute_input": "2022-10-21T06:15:25.881287Z",
     "iopub.status.busy": "2022-10-21T06:15:25.880895Z",
     "iopub.status.idle": "2022-10-21T06:15:25.886847Z",
     "shell.execute_reply": "2022-10-21T06:15:25.886047Z"
    },
    "papermill": {
     "duration": 0.012703,
     "end_time": "2022-10-21T06:15:25.888961",
     "exception": false,
     "start_time": "2022-10-21T06:15:25.876258",
     "status": "completed"
    },
    "tags": []
   },
   "outputs": [],
   "source": [
    "def make_positions_dict(position):\n",
    "    \"\"\"\n",
    "    Формирование словаря координат чисел.\n",
    "    \n",
    "    Пример\n",
    "    make_positions_dict(correct_position)\n",
    "    \n",
    "    {\n",
    "        1: [1, 1],\n",
    "        2: [1, 2],\n",
    "        ...\n",
    "        14: [4, 2],\n",
    "        15: [4, 3]\n",
    "    }\n",
    "    \"\"\"\n",
    "    \n",
    "    position_dict = {}\n",
    "\n",
    "    row_number = 1\n",
    "    for row_list in position:\n",
    "\n",
    "        column_number = 1\n",
    "        for column in row_list:\n",
    "            if column != 0:\n",
    "                position_dict[column] = [row_number, column_number]\n",
    "            \n",
    "            column_number += 1\n",
    "\n",
    "        row_number += 1\n",
    "    \n",
    "    return position_dict"
   ]
  },
  {
   "cell_type": "code",
   "execution_count": 5,
   "id": "0f59d770",
   "metadata": {
    "execution": {
     "iopub.execute_input": "2022-10-21T06:15:25.897482Z",
     "iopub.status.busy": "2022-10-21T06:15:25.897074Z",
     "iopub.status.idle": "2022-10-21T06:15:25.906016Z",
     "shell.execute_reply": "2022-10-21T06:15:25.905220Z"
    },
    "papermill": {
     "duration": 0.016601,
     "end_time": "2022-10-21T06:15:25.909062",
     "exception": false,
     "start_time": "2022-10-21T06:15:25.892461",
     "status": "completed"
    },
    "tags": []
   },
   "outputs": [
    {
     "data": {
      "text/plain": [
       "{1: [1, 1],\n",
       " 2: [1, 2],\n",
       " 3: [1, 3],\n",
       " 4: [1, 4],\n",
       " 5: [2, 1],\n",
       " 6: [2, 2],\n",
       " 7: [2, 3],\n",
       " 8: [2, 4],\n",
       " 9: [3, 1],\n",
       " 10: [3, 2],\n",
       " 11: [3, 3],\n",
       " 12: [3, 4],\n",
       " 13: [4, 1],\n",
       " 14: [4, 2],\n",
       " 15: [4, 3]}"
      ]
     },
     "execution_count": 5,
     "metadata": {},
     "output_type": "execute_result"
    }
   ],
   "source": [
    "correct_dict = make_positions_dict(correct_position)\n",
    "correct_dict"
   ]
  },
  {
   "cell_type": "code",
   "execution_count": 6,
   "id": "f0793881",
   "metadata": {
    "execution": {
     "iopub.execute_input": "2022-10-21T06:15:25.918026Z",
     "iopub.status.busy": "2022-10-21T06:15:25.917337Z",
     "iopub.status.idle": "2022-10-21T06:15:25.929809Z",
     "shell.execute_reply": "2022-10-21T06:15:25.929035Z"
    },
    "papermill": {
     "duration": 0.019415,
     "end_time": "2022-10-21T06:15:25.932024",
     "exception": false,
     "start_time": "2022-10-21T06:15:25.912609",
     "status": "completed"
    },
    "tags": []
   },
   "outputs": [
    {
     "data": {
      "text/plain": [
       "{1: [1, 1],\n",
       " 2: [1, 2],\n",
       " 3: [1, 3],\n",
       " 4: [1, 4],\n",
       " 5: [2, 1],\n",
       " 6: [2, 2],\n",
       " 7: [2, 3],\n",
       " 8: [2, 4],\n",
       " 9: [3, 1],\n",
       " 10: [3, 2],\n",
       " 11: [3, 3],\n",
       " 12: [3, 4],\n",
       " 13: [4, 1],\n",
       " 14: [4, 3],\n",
       " 15: [4, 4]}"
      ]
     },
     "execution_count": 6,
     "metadata": {},
     "output_type": "execute_result"
    }
   ],
   "source": [
    "current_dict = make_positions_dict(current_position)\n",
    "current_dict"
   ]
  },
  {
   "cell_type": "code",
   "execution_count": 7,
   "id": "596685b8",
   "metadata": {
    "execution": {
     "iopub.execute_input": "2022-10-21T06:15:25.941437Z",
     "iopub.status.busy": "2022-10-21T06:15:25.940741Z",
     "iopub.status.idle": "2022-10-21T06:15:25.946718Z",
     "shell.execute_reply": "2022-10-21T06:15:25.945570Z"
    },
    "papermill": {
     "duration": 0.013329,
     "end_time": "2022-10-21T06:15:25.949116",
     "exception": false,
     "start_time": "2022-10-21T06:15:25.935787",
     "status": "completed"
    },
    "tags": []
   },
   "outputs": [
    {
     "name": "stdout",
     "output_type": "stream",
     "text": [
      "1 [1, 1] [1, 1]\n",
      "2 [1, 2] [1, 2]\n",
      "3 [1, 3] [1, 3]\n",
      "4 [1, 4] [1, 4]\n",
      "5 [2, 1] [2, 1]\n",
      "6 [2, 2] [2, 2]\n",
      "7 [2, 3] [2, 3]\n",
      "8 [2, 4] [2, 4]\n",
      "9 [3, 1] [3, 1]\n",
      "10 [3, 2] [3, 2]\n",
      "11 [3, 3] [3, 3]\n",
      "12 [3, 4] [3, 4]\n",
      "13 [4, 1] [4, 1]\n",
      "14 [4, 2] [4, 3]\n",
      "15 [4, 3] [4, 4]\n"
     ]
    }
   ],
   "source": [
    "for key, values in correct_dict.items():\n",
    "    print(key, values, current_dict[key])"
   ]
  },
  {
   "cell_type": "markdown",
   "id": "b616aaf1",
   "metadata": {
    "papermill": {
     "duration": 0.003468,
     "end_time": "2022-10-21T06:15:25.956415",
     "exception": false,
     "start_time": "2022-10-21T06:15:25.952947",
     "status": "completed"
    },
    "tags": []
   },
   "source": [
    "# We need to find manhattan distances differnece between two samples - correct_dict and current_dict. For that we need to find difference between coordinates of each point in sets (1 coordinate of first sample - 1 coordinate of second sample)"
   ]
  },
  {
   "cell_type": "code",
   "execution_count": 8,
   "id": "4b619ce6",
   "metadata": {
    "execution": {
     "iopub.execute_input": "2022-10-21T06:15:25.965951Z",
     "iopub.status.busy": "2022-10-21T06:15:25.965557Z",
     "iopub.status.idle": "2022-10-21T06:15:25.973432Z",
     "shell.execute_reply": "2022-10-21T06:15:25.972422Z"
    },
    "papermill": {
     "duration": 0.014995,
     "end_time": "2022-10-21T06:15:25.975635",
     "exception": false,
     "start_time": "2022-10-21T06:15:25.960640",
     "status": "completed"
    },
    "tags": []
   },
   "outputs": [
    {
     "data": {
      "text/plain": [
       "2"
      ]
     },
     "execution_count": 8,
     "metadata": {},
     "output_type": "execute_result"
    }
   ],
   "source": [
    "difference = 0\n",
    "for key, values in correct_dict.items():\n",
    "    difference += abs(current_dict[key][0] - correct_dict[key][0]) + (current_dict[key][1] - correct_dict[key][1])\n",
    "difference    "
   ]
  },
  {
   "cell_type": "code",
   "execution_count": null,
   "id": "a9e24b8e",
   "metadata": {
    "papermill": {
     "duration": 0.003499,
     "end_time": "2022-10-21T06:15:25.982916",
     "exception": false,
     "start_time": "2022-10-21T06:15:25.979417",
     "status": "completed"
    },
    "tags": []
   },
   "outputs": [],
   "source": []
  },
  {
   "cell_type": "code",
   "execution_count": null,
   "id": "0b7235ab",
   "metadata": {
    "papermill": {
     "duration": 0.003492,
     "end_time": "2022-10-21T06:15:25.990146",
     "exception": false,
     "start_time": "2022-10-21T06:15:25.986654",
     "status": "completed"
    },
    "tags": []
   },
   "outputs": [],
   "source": [
    "\n"
   ]
  }
 ],
 "metadata": {
  "kernelspec": {
   "display_name": "Python 3",
   "language": "python",
   "name": "python3"
  },
  "language_info": {
   "codemirror_mode": {
    "name": "ipython",
    "version": 3
   },
   "file_extension": ".py",
   "mimetype": "text/x-python",
   "name": "python",
   "nbconvert_exporter": "python",
   "pygments_lexer": "ipython3",
   "version": "3.7.12"
  },
  "papermill": {
   "default_parameters": {},
   "duration": 9.187484,
   "end_time": "2022-10-21T06:15:26.620529",
   "environment_variables": {},
   "exception": null,
   "input_path": "__notebook__.ipynb",
   "output_path": "__notebook__.ipynb",
   "parameters": {},
   "start_time": "2022-10-21T06:15:17.433045",
   "version": "2.3.4"
  }
 },
 "nbformat": 4,
 "nbformat_minor": 5
}
