{
 "cells": [
  {
   "cell_type": "code",
   "execution_count": 1,
   "id": "572d863c",
   "metadata": {
    "_cell_guid": "b1076dfc-b9ad-4769-8c92-a6c4dae69d19",
    "_uuid": "8f2839f25d086af736a60e9eeb907d3b93b6e0e5",
    "execution": {
     "iopub.execute_input": "2022-10-21T05:13:11.128055Z",
     "iopub.status.busy": "2022-10-21T05:13:11.127115Z",
     "iopub.status.idle": "2022-10-21T05:13:11.139268Z",
     "shell.execute_reply": "2022-10-21T05:13:11.138230Z"
    },
    "papermill": {
     "duration": 0.022655,
     "end_time": "2022-10-21T05:13:11.142106",
     "exception": false,
     "start_time": "2022-10-21T05:13:11.119451",
     "status": "completed"
    },
    "tags": []
   },
   "outputs": [],
   "source": [
    "import random\n",
    "import numpy as np # linear algebra\n",
    "import pandas as pd # data processing, CSV file I/O (e.g. pd.read_csv)\n",
    "import matplotlib.pyplot as plt\n",
    "from matplotlib.colors import ListedColormap"
   ]
  },
  {
   "cell_type": "markdown",
   "id": "e2bfe712",
   "metadata": {
    "papermill": {
     "duration": 0.004153,
     "end_time": "2022-10-21T05:13:11.151476",
     "exception": false,
     "start_time": "2022-10-21T05:13:11.147323",
     "status": "completed"
    },
    "tags": []
   },
   "source": [
    "# Let's take a look to KNN method"
   ]
  },
  {
   "cell_type": "markdown",
   "id": "2bec2abe",
   "metadata": {
    "papermill": {
     "duration": 0.004245,
     "end_time": "2022-10-21T05:13:11.160821",
     "exception": false,
     "start_time": "2022-10-21T05:13:11.156576",
     "status": "completed"
    },
    "tags": []
   },
   "source": [
    "# # At first, we need a function that will generate clusters for us. Below it is created."
   ]
  },
  {
   "cell_type": "code",
   "execution_count": 2,
   "id": "bf9979a9",
   "metadata": {
    "execution": {
     "iopub.execute_input": "2022-10-21T05:13:11.171514Z",
     "iopub.status.busy": "2022-10-21T05:13:11.171098Z",
     "iopub.status.idle": "2022-10-21T05:13:11.176544Z",
     "shell.execute_reply": "2022-10-21T05:13:11.175381Z"
    },
    "papermill": {
     "duration": 0.01351,
     "end_time": "2022-10-21T05:13:11.178818",
     "exception": false,
     "start_time": "2022-10-21T05:13:11.165308",
     "status": "completed"
    },
    "tags": []
   },
   "outputs": [],
   "source": [
    "def GenerateRandomCluster(xCenter, yCenter, pointsIncluster, sigma, clusternumber):\n",
    "    clusterdata = []\n",
    "    for i in range(pointsIncluster):\n",
    "        clusterdata.append((random.gauss(xCenter, sigma), random.gauss(yCenter, sigma), clusternumber))\n",
    "    return clusterdata    "
   ]
  },
  {
   "cell_type": "code",
   "execution_count": 3,
   "id": "f45288d4",
   "metadata": {
    "execution": {
     "iopub.execute_input": "2022-10-21T05:13:11.189690Z",
     "iopub.status.busy": "2022-10-21T05:13:11.189318Z",
     "iopub.status.idle": "2022-10-21T05:13:11.201550Z",
     "shell.execute_reply": "2022-10-21T05:13:11.200606Z"
    },
    "papermill": {
     "duration": 0.020465,
     "end_time": "2022-10-21T05:13:11.203852",
     "exception": false,
     "start_time": "2022-10-21T05:13:11.183387",
     "status": "completed"
    },
    "tags": []
   },
   "outputs": [],
   "source": [
    "def generateClusters(clustersNumber, min_coordinate, max_length, pointInCluster, sigma):\n",
    "    \"\"\"this function creates clustersNumber in area from min_coordinate to max_length\"\"\"\n",
    "    clustersData = []\n",
    "    for i in range(clustersNumber):\n",
    "        clustersData.append(GenerateRandomCluster(min_coordinate + max_length*random.random(),\n",
    "                                                 min_coordinate + max_length*random.random(),\n",
    "                                                 pointsInCluster,\n",
    "                                                 sigma, \n",
    "                                                 i))\n",
    "    return clustersData    "
   ]
  },
  {
   "cell_type": "code",
   "execution_count": 4,
   "id": "dbc62159",
   "metadata": {
    "execution": {
     "iopub.execute_input": "2022-10-21T05:13:11.214369Z",
     "iopub.status.busy": "2022-10-21T05:13:11.213973Z",
     "iopub.status.idle": "2022-10-21T05:13:11.220791Z",
     "shell.execute_reply": "2022-10-21T05:13:11.219526Z"
    },
    "papermill": {
     "duration": 0.014725,
     "end_time": "2022-10-21T05:13:11.223057",
     "exception": false,
     "start_time": "2022-10-21T05:13:11.208332",
     "status": "completed"
    },
    "tags": []
   },
   "outputs": [],
   "source": [
    "def drawclusters(clustersData):\n",
    "    \"\"\"this function draws clusters on a plot from ontained in above functions clustersData\"\"\"\n",
    "    for i in clustersData:\n",
    "        xData = []\n",
    "        yData = []\n",
    "        colors = []\n",
    "        for j in i:\n",
    "            xData.append(j[0])\n",
    "            yData.append(j[1])\n",
    "            colors.append(j[2])\n",
    "        plt.scatter(xData, yData, label = colors[0])\n",
    "    plt.show    "
   ]
  },
  {
   "cell_type": "code",
   "execution_count": 5,
   "id": "9dd72da2",
   "metadata": {
    "execution": {
     "iopub.execute_input": "2022-10-21T05:13:11.233774Z",
     "iopub.status.busy": "2022-10-21T05:13:11.233395Z",
     "iopub.status.idle": "2022-10-21T05:13:11.238457Z",
     "shell.execute_reply": "2022-10-21T05:13:11.237300Z"
    },
    "papermill": {
     "duration": 0.01343,
     "end_time": "2022-10-21T05:13:11.240983",
     "exception": false,
     "start_time": "2022-10-21T05:13:11.227553",
     "status": "completed"
    },
    "tags": []
   },
   "outputs": [],
   "source": [
    "clustersNumber = 3\n",
    "min_coordinate = 0\n",
    "max_length = 100\n",
    "pointsInCluster = 15\n",
    "sigma = 5"
   ]
  },
  {
   "cell_type": "code",
   "execution_count": 6,
   "id": "3bf3ccf2",
   "metadata": {
    "execution": {
     "iopub.execute_input": "2022-10-21T05:13:11.251617Z",
     "iopub.status.busy": "2022-10-21T05:13:11.251205Z",
     "iopub.status.idle": "2022-10-21T05:13:11.481874Z",
     "shell.execute_reply": "2022-10-21T05:13:11.480623Z"
    },
    "papermill": {
     "duration": 0.239517,
     "end_time": "2022-10-21T05:13:11.485062",
     "exception": false,
     "start_time": "2022-10-21T05:13:11.245545",
     "status": "completed"
    },
    "tags": []
   },
   "outputs": [
    {
     "data": {
      "image/png": "[encoded data removed]",
      "text/plain": [
       "<Figure size 432x288 with 1 Axes>"
      ]
     },
     "metadata": {
      "needs_background": "light"
     },
     "output_type": "display_data"
    }
   ],
   "source": [
    "data = generateClusters(clustersNumber, min_coordinate, max_length, pointsInCluster, sigma)\n",
    "drawclusters(data)"
   ]
  },
  {
   "cell_type": "markdown",
   "id": "e723d68b",
   "metadata": {
    "papermill": {
     "duration": 0.005583,
     "end_time": "2022-10-21T05:13:11.495397",
     "exception": false,
     "start_time": "2022-10-21T05:13:11.489814",
     "status": "completed"
    },
    "tags": []
   },
   "source": [
    "# Let's create a model\n"
   ]
  },
  {
   "cell_type": "code",
   "execution_count": 7,
   "id": "7eb7bae5",
   "metadata": {
    "execution": {
     "iopub.execute_input": "2022-10-21T05:13:11.506728Z",
     "iopub.status.busy": "2022-10-21T05:13:11.506351Z",
     "iopub.status.idle": "2022-10-21T05:13:12.761914Z",
     "shell.execute_reply": "2022-10-21T05:13:12.760584Z"
    },
    "papermill": {
     "duration": 1.264309,
     "end_time": "2022-10-21T05:13:12.764628",
     "exception": false,
     "start_time": "2022-10-21T05:13:11.500319",
     "status": "completed"
    },
    "tags": []
   },
   "outputs": [],
   "source": [
    "from sklearn.neighbors import KNeighborsClassifier "
   ]
  },
  {
   "cell_type": "code",
   "execution_count": 8,
   "id": "66e286b1",
   "metadata": {
    "execution": {
     "iopub.execute_input": "2022-10-21T05:13:12.776476Z",
     "iopub.status.busy": "2022-10-21T05:13:12.776055Z",
     "iopub.status.idle": "2022-10-21T05:13:12.782413Z",
     "shell.execute_reply": "2022-10-21T05:13:12.781091Z"
    },
    "papermill": {
     "duration": 0.015039,
     "end_time": "2022-10-21T05:13:12.784657",
     "exception": false,
     "start_time": "2022-10-21T05:13:12.769618",
     "status": "completed"
    },
    "tags": []
   },
   "outputs": [],
   "source": [
    "model = KNeighborsClassifier(n_neighbors=3)"
   ]
  },
  {
   "cell_type": "code",
   "execution_count": 9,
   "id": "08b35b55",
   "metadata": {
    "execution": {
     "iopub.execute_input": "2022-10-21T05:13:12.797000Z",
     "iopub.status.busy": "2022-10-21T05:13:12.796605Z",
     "iopub.status.idle": "2022-10-21T05:13:12.802972Z",
     "shell.execute_reply": "2022-10-21T05:13:12.801719Z"
    },
    "papermill": {
     "duration": 0.015615,
     "end_time": "2022-10-21T05:13:12.805569",
     "exception": false,
     "start_time": "2022-10-21T05:13:12.789954",
     "status": "completed"
    },
    "tags": []
   },
   "outputs": [],
   "source": [
    "X = []\n",
    "Y = []\n",
    "\n",
    "for cluster in data:\n",
    "    for point in cluster:\n",
    "        X.append((point[0], point[1]))\n",
    "        Y.append(point[2])     "
   ]
  },
  {
   "cell_type": "code",
   "execution_count": 10,
   "id": "2fef9fee",
   "metadata": {
    "execution": {
     "iopub.execute_input": "2022-10-21T05:13:12.817022Z",
     "iopub.status.busy": "2022-10-21T05:13:12.816651Z",
     "iopub.status.idle": "2022-10-21T05:13:12.826571Z",
     "shell.execute_reply": "2022-10-21T05:13:12.825459Z"
    },
    "papermill": {
     "duration": 0.01822,
     "end_time": "2022-10-21T05:13:12.828705",
     "exception": false,
     "start_time": "2022-10-21T05:13:12.810485",
     "status": "completed"
    },
    "tags": []
   },
   "outputs": [
    {
     "data": {
      "text/plain": [
       "KNeighborsClassifier(n_neighbors=3)"
      ]
     },
     "execution_count": 10,
     "metadata": {},
     "output_type": "execute_result"
    }
   ],
   "source": [
    "model.fit(X,Y)"
   ]
  },
  {
   "cell_type": "markdown",
   "id": "1359a92a",
   "metadata": {
    "papermill": {
     "duration": 0.004532,
     "end_time": "2022-10-21T05:13:12.838340",
     "exception": false,
     "start_time": "2022-10-21T05:13:12.833808",
     "status": "completed"
    },
    "tags": []
   },
   "source": [
    "# with help of meshgrid we create the set of point for our model fot it to tell us for what cluster belongs one or another point"
   ]
  },
  {
   "cell_type": "code",
   "execution_count": 11,
   "id": "f7cf4ec6",
   "metadata": {
    "execution": {
     "iopub.execute_input": "2022-10-21T05:13:12.849891Z",
     "iopub.status.busy": "2022-10-21T05:13:12.849175Z",
     "iopub.status.idle": "2022-10-21T05:13:12.858773Z",
     "shell.execute_reply": "2022-10-21T05:13:12.857636Z"
    },
    "papermill": {
     "duration": 0.018161,
     "end_time": "2022-10-21T05:13:12.861276",
     "exception": false,
     "start_time": "2022-10-21T05:13:12.843115",
     "status": "completed"
    },
    "tags": []
   },
   "outputs": [],
   "source": [
    "def KNeigh(clustersData, model):\n",
    "    step = 1\n",
    "    xx, yy = np.meshgrid(np.arange(min_coordinate, min_coordinate+max_length, step), \n",
    "                         np.arange(min_coordinate, min_coordinate+max_length, step))\n",
    "    \n",
    "    Z = model.predict(np.c_[xx.ravel(), yy.ravel()])\n",
    "    Z = Z.reshape(xx.shape)\n",
    "    map_color = ListedColormap(['#FFAAAA', '#AAFFAA', '#AAAAFF'])\n",
    "    plt.pcolormesh(xx, yy, Z, cmap=map_color)\n",
    "    for cluster in clustersData:\n",
    "        xData = []\n",
    "        yData = []\n",
    "        colors = []\n",
    "        for point in cluster:\n",
    "            xData.append(point[0])\n",
    "            yData.append(point[1])\n",
    "            colors.append(point[2])\n",
    "        plt.scatter(xData, yData, label = colors[0])\n",
    "    plt.show    \n"
   ]
  },
  {
   "cell_type": "code",
   "execution_count": 12,
   "id": "36f278c5",
   "metadata": {
    "execution": {
     "iopub.execute_input": "2022-10-21T05:13:12.872673Z",
     "iopub.status.busy": "2022-10-21T05:13:12.872268Z",
     "iopub.status.idle": "2022-10-21T05:13:13.300912Z",
     "shell.execute_reply": "2022-10-21T05:13:13.299699Z"
    },
    "papermill": {
     "duration": 0.437492,
     "end_time": "2022-10-21T05:13:13.303570",
     "exception": false,
     "start_time": "2022-10-21T05:13:12.866078",
     "status": "completed"
    },
    "tags": []
   },
   "outputs": [
    {
     "data": {
      "image/png": "[encoded data removed]",
      "text/plain": [
       "<Figure size 432x288 with 1 Axes>"
      ]
     },
     "metadata": {
      "needs_background": "light"
     },
     "output_type": "display_data"
    }
   ],
   "source": [
    "\n",
    "KNeigh( data, model )"
   ]
  },
  {
   "cell_type": "code",
   "execution_count": null,
   "id": "d2530934",
   "metadata": {
    "papermill": {
     "duration": 0.005104,
     "end_time": "2022-10-21T05:13:13.315239",
     "exception": false,
     "start_time": "2022-10-21T05:13:13.310135",
     "status": "completed"
    },
    "tags": []
   },
   "outputs": [],
   "source": []
  }
 ],
 "metadata": {
  "kernelspec": {
   "display_name": "Python 3",
   "language": "python",
   "name": "python3"
  },
  "language_info": {
   "codemirror_mode": {
    "name": "ipython",
    "version": 3
   },
   "file_extension": ".py",
   "mimetype": "text/x-python",
   "name": "python",
   "nbconvert_exporter": "python",
   "pygments_lexer": "ipython3",
   "version": "3.7.12"
  },
  "papermill": {
   "default_parameters": {},
   "duration": 11.574891,
   "end_time": "2022-10-21T05:13:14.041894",
   "environment_variables": {},
   "exception": null,
   "input_path": "__notebook__.ipynb",
   "output_path": "__notebook__.ipynb",
   "parameters": {},
   "start_time": "2022-10-21T05:13:02.467003",
   "version": "2.3.4"
  }
 },
 "nbformat": 4,
 "nbformat_minor": 5
}
